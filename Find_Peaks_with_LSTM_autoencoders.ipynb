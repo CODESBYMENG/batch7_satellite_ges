{
  "nbformat": 4,
  "nbformat_minor": 0,
  "metadata": {
    "colab": {
      "name": "Find Peaks with LSTM-autoencoders.ipynb",
      "provenance": [],
      "collapsed_sections": [],
      "toc_visible": true,
      "include_colab_link": true
    },
    "kernelspec": {
      "name": "python3",
      "display_name": "Python 3"
    },
    "accelerator": "GPU"
  },
  "cells": [
    {
      "cell_type": "markdown",
      "metadata": {
        "id": "view-in-github",
        "colab_type": "text"
      },
      "source": [
        "<a href=\"https://colab.research.google.com/github/dataforgoodfr/batch7_satellite_ges/blob/master/Find_Peaks_with_LSTM_autoencoders.ipynb\" target=\"_parent\"><img src=\"https://colab.research.google.com/assets/colab-badge.svg\" alt=\"Open In Colab\"/></a>"
      ]
    },
    {
      "cell_type": "markdown",
      "metadata": {
        "id": "zRjVjoFK0X-I",
        "colab_type": "text"
      },
      "source": [
        "# Importing Libraries and Loading Data\n"
      ]
    },
    {
      "cell_type": "code",
      "metadata": {
        "id": "g-gtPtL90faW",
        "colab_type": "code",
        "outputId": "ce4f5c13-3c9b-49ec-9dd7-159b95dba3c5",
        "colab": {
          "base_uri": "https://localhost:8080/",
          "height": 198
        }
      },
      "source": [
        "import pandas as pd \n",
        "%matplotlib inline \n",
        "import os \n",
        "import numpy as np\n",
        "import torch\n",
        "from torch import nn\n",
        "import copy\n",
        "from tqdm import tqdm\n",
        "\n",
        "from google.colab import drive\n",
        "drive.mount('/content/drive')\n",
        "\n",
        "device = torch.device(\"cuda\" if torch.cuda.is_available() else \"cpu\")\n",
        "#data_1610 = pd.read_csv(\"http://courty.fr/OCO2/oco2_1610.csv\", sep=\";\")\n",
        "#data_1705 = pd.read_csv(\"http://courty.fr/OCO2/oco2_1705.csv\", sep=\";\")\n",
        "#data_1803 = pd.read_csv(\"http://courty.fr/OCO2/oco2_1803.csv\", sep=\";\")\n",
        "#data_1805 = pd.read_csv(\"http://courty.fr/OCO2/oco2_1805.csv\", sep=\";\")\n",
        "data_1808 = pd.read_csv(\"/content/oco2_1808_light.csv\", sep=\";\")\n",
        "#data_1809 = pd.read_csv(\"http://courty.fr/OCO2/oco2_1809.csv\", sep=\";\")\n",
        "\n",
        "data_1808.head()\n",
        "\n"
      ],
      "execution_count": 26,
      "outputs": [
        {
          "output_type": "execute_result",
          "data": {
            "text/html": [
              "<div>\n",
              "<style scoped>\n",
              "    .dataframe tbody tr th:only-of-type {\n",
              "        vertical-align: middle;\n",
              "    }\n",
              "\n",
              "    .dataframe tbody tr th {\n",
              "        vertical-align: top;\n",
              "    }\n",
              "\n",
              "    .dataframe thead th {\n",
              "        text-align: right;\n",
              "    }\n",
              "</style>\n",
              "<table border=\"1\" class=\"dataframe\">\n",
              "  <thead>\n",
              "    <tr style=\"text-align: right;\">\n",
              "      <th></th>\n",
              "      <th>sounding_id</th>\n",
              "      <th>latitude</th>\n",
              "      <th>longitude</th>\n",
              "      <th>xco2</th>\n",
              "      <th>xco2_uncert</th>\n",
              "      <th>orbit</th>\n",
              "      <th>windspeed_u</th>\n",
              "      <th>windspeed_v</th>\n",
              "    </tr>\n",
              "  </thead>\n",
              "  <tbody>\n",
              "    <tr>\n",
              "      <th>0</th>\n",
              "      <td>2018080100462105</td>\n",
              "      <td>-33.015541</td>\n",
              "      <td>-164.508881</td>\n",
              "      <td>405.143188</td>\n",
              "      <td>0.491368</td>\n",
              "      <td>21709</td>\n",
              "      <td>3.749916</td>\n",
              "      <td>9.128431</td>\n",
              "    </tr>\n",
              "    <tr>\n",
              "      <th>1</th>\n",
              "      <td>2018080100462137</td>\n",
              "      <td>-32.988529</td>\n",
              "      <td>-164.553787</td>\n",
              "      <td>404.893677</td>\n",
              "      <td>0.497189</td>\n",
              "      <td>21709</td>\n",
              "      <td>3.720200</td>\n",
              "      <td>9.087859</td>\n",
              "    </tr>\n",
              "    <tr>\n",
              "      <th>2</th>\n",
              "      <td>2018080100462171</td>\n",
              "      <td>-32.996235</td>\n",
              "      <td>-164.435699</td>\n",
              "      <td>404.729431</td>\n",
              "      <td>0.537358</td>\n",
              "      <td>21709</td>\n",
              "      <td>3.815527</td>\n",
              "      <td>9.151507</td>\n",
              "    </tr>\n",
              "    <tr>\n",
              "      <th>3</th>\n",
              "      <td>2018080100462172</td>\n",
              "      <td>-32.992409</td>\n",
              "      <td>-164.455872</td>\n",
              "      <td>404.819550</td>\n",
              "      <td>0.498803</td>\n",
              "      <td>21709</td>\n",
              "      <td>3.799832</td>\n",
              "      <td>9.138914</td>\n",
              "    </tr>\n",
              "    <tr>\n",
              "      <th>4</th>\n",
              "      <td>2018080100462173</td>\n",
              "      <td>-32.988403</td>\n",
              "      <td>-164.476196</td>\n",
              "      <td>404.706451</td>\n",
              "      <td>0.496855</td>\n",
              "      <td>21709</td>\n",
              "      <td>3.783962</td>\n",
              "      <td>9.126184</td>\n",
              "    </tr>\n",
              "  </tbody>\n",
              "</table>\n",
              "</div>"
            ],
            "text/plain": [
              "        sounding_id   latitude   longitude  ...  orbit  windspeed_u  windspeed_v\n",
              "0  2018080100462105 -33.015541 -164.508881  ...  21709     3.749916     9.128431\n",
              "1  2018080100462137 -32.988529 -164.553787  ...  21709     3.720200     9.087859\n",
              "2  2018080100462171 -32.996235 -164.435699  ...  21709     3.815527     9.151507\n",
              "3  2018080100462172 -32.992409 -164.455872  ...  21709     3.799832     9.138914\n",
              "4  2018080100462173 -32.988403 -164.476196  ...  21709     3.783962     9.126184\n",
              "\n",
              "[5 rows x 8 columns]"
            ]
          },
          "metadata": {
            "tags": []
          },
          "execution_count": 26
        }
      ]
    },
    {
      "cell_type": "code",
      "metadata": {
        "id": "YNhDWuWx0hkP",
        "colab_type": "code",
        "colab": {}
      },
      "source": [
        "train = data_1808[0:10000]\n",
        "test = data_1808[10000:11000]\n",
        "TIME_STEPS = 30\n",
        "\n",
        "# reshape to [samples, time_steps, n_features]\n",
        "\n",
        "def createDataset(df,timeStep=30):\n",
        "  Xs, ys = [], []\n",
        "\n",
        "  for i in range(len(train) - TIME_STEPS):\n",
        "      v = train[['xco2']].iloc[i:(i + TIME_STEPS)].values\n",
        "      #y = train.iloc[i+TIME_STEPS, train.columns.get_loc('xco2')]\n",
        "      v = torch.tensor(v).float() \n",
        "      \n",
        "      Xs.append(v)\n",
        "  \n",
        "  return torch.stack(Xs)\n",
        "\n",
        "\n",
        "\n",
        "\n"
      ],
      "execution_count": 0,
      "outputs": []
    },
    {
      "cell_type": "code",
      "metadata": {
        "id": "0s0bjYH81iR-",
        "colab_type": "code",
        "colab": {}
      },
      "source": [
        "X_train = createDataset(train)\n",
        "X_test = createDataset(test)"
      ],
      "execution_count": 0,
      "outputs": []
    },
    {
      "cell_type": "code",
      "metadata": {
        "id": "_Sl8rj0z2onQ",
        "colab_type": "code",
        "colab": {}
      },
      "source": [
        "class Encoder(nn.Module):\n",
        "\n",
        "  def __init__(self, seq_len, n_features, embedding_dim=64):\n",
        "    super(Encoder, self).__init__()\n",
        "\n",
        "    self.seq_len, self.n_features = seq_len, n_features\n",
        "    self.embedding_dim, self.hidden_dim = embedding_dim, 2 * embedding_dim\n",
        "\n",
        "    self.rnn1 = nn.LSTM(\n",
        "      input_size=n_features,\n",
        "      hidden_size=self.hidden_dim,\n",
        "      num_layers=1,\n",
        "      batch_first=True\n",
        "    )\n",
        "\n",
        "    self.rnn2 = nn.LSTM(\n",
        "      input_size=self.hidden_dim,\n",
        "      hidden_size=embedding_dim,\n",
        "      num_layers=1,\n",
        "      batch_first=True\n",
        "    )\n",
        "\n",
        "  def forward(self, x):\n",
        "    x = x.reshape((1, self.seq_len, self.n_features))\n",
        "    \n",
        "    x, (_, _) = self.rnn1(x)\n",
        "    x, (hidden_n, _) = self.rnn2(x)\n",
        "\n",
        "\n",
        "    return hidden_n.reshape((self.n_features, self.embedding_dim))"
      ],
      "execution_count": 0,
      "outputs": []
    },
    {
      "cell_type": "code",
      "metadata": {
        "id": "Hvx7uy1H2mtI",
        "colab_type": "code",
        "colab": {}
      },
      "source": [
        "class Decoder(nn.Module):\n",
        "\n",
        "  def __init__(self, seq_len, input_dim=64, n_features=1):\n",
        "    super(Decoder, self).__init__()\n",
        "\n",
        "    self.seq_len, self.input_dim = seq_len, input_dim\n",
        "    self.hidden_dim, self.n_features = 2 * input_dim, n_features\n",
        "\n",
        "    self.rnn1 = nn.LSTM(\n",
        "      input_size=input_dim,\n",
        "      hidden_size=input_dim,\n",
        "      num_layers=1,\n",
        "      batch_first=True\n",
        "    )\n",
        "\n",
        "    self.rnn2 = nn.LSTM(\n",
        "      input_size=input_dim,\n",
        "      hidden_size=self.hidden_dim,\n",
        "      num_layers=1,\n",
        "      batch_first=True\n",
        "    )\n",
        "\n",
        "    self.output_layer = nn.Linear(self.hidden_dim, n_features)\n",
        "\n",
        "  def forward(self, x):\n",
        "    x = x.repeat(self.seq_len, self.n_features)\n",
        "    x = x.reshape((self.n_features, self.seq_len, self.input_dim))\n",
        "\n",
        "    x, (hidden_n, cell_n) = self.rnn1(x)\n",
        "    x, (hidden_n, cell_n) = self.rnn2(x)\n",
        "    x = x.reshape((self.seq_len, self.hidden_dim))\n",
        "\n",
        "    return self.output_layer(x)"
      ],
      "execution_count": 0,
      "outputs": []
    },
    {
      "cell_type": "code",
      "metadata": {
        "id": "gJxOIvQK2Vpn",
        "colab_type": "code",
        "colab": {}
      },
      "source": [
        "class RecurrentAutoencoder(nn.Module):\n",
        "\n",
        "  def __init__(self, seq_len, n_features, embedding_dim=64):\n",
        "    super(RecurrentAutoencoder, self).__init__()\n",
        "\n",
        "    self.encoder = Encoder(seq_len, n_features, embedding_dim).to(device)\n",
        "    self.decoder = Decoder(seq_len, embedding_dim, n_features).to(device)\n",
        "\n",
        "  def forward(self, x):\n",
        "    x = self.encoder(x)\n",
        "    x = self.decoder(x)\n",
        "\n",
        "    return x"
      ],
      "execution_count": 0,
      "outputs": []
    },
    {
      "cell_type": "code",
      "metadata": {
        "id": "BZcXh3kZ2ulp",
        "colab_type": "code",
        "colab": {}
      },
      "source": [
        "def train_model(model, train_dataset, val_dataset, optimizer, start_epoch, n_epochs):\n",
        "  criterion = nn.MSELoss()\n",
        "  history = dict(train=[], val=[])\n",
        "  best_model_wts = copy.deepcopy(model.state_dict())\n",
        "  best_loss = 10000.0\n",
        "\n",
        "  for epoch in tqdm(range(start_epoch, n_epochs + 1)):\n",
        "    \n",
        "    model = model.train()\n",
        "\n",
        "    train_losses = []\n",
        "    for seq_true in train_dataset:\n",
        "      optimizer.zero_grad()\n",
        "\n",
        "      seq_true = seq_true.to(device)\n",
        "      seq_pred = model(seq_true)\n",
        "\n",
        "      loss = criterion(seq_pred, seq_true)\n",
        "\n",
        "      loss.backward()\n",
        "      optimizer.step()\n",
        "\n",
        "      train_losses.append(loss.item())\n",
        "\n",
        "    val_losses = []\n",
        "    model = model.eval()\n",
        "    with torch.no_grad():\n",
        "      for seq_true in val_dataset:\n",
        "\n",
        "        seq_true = seq_true.to(device)\n",
        "        seq_pred = model(seq_true)\n",
        "\n",
        "        loss = criterion(seq_pred, seq_true)\n",
        "        val_losses.append(loss.item())\n",
        "\n",
        "    train_loss = np.mean(train_losses)\n",
        "    val_loss = np.mean(val_losses)\n",
        "\n",
        "    history['train'].append(train_loss)\n",
        "    history['val'].append(val_loss)\n",
        "\n",
        "    #if val_loss < best_loss:\n",
        "     # best_loss = val_loss\n",
        "     # best_model_wts = copy.deepcopy(model.state_dict())\n",
        "    savePath = \"/content/drive/My Drive/classifier.pt\" \n",
        "\n",
        "    checkpoint = {\n",
        "            'epoch': epoch + 1,\n",
        "            'state_dict': model.state_dict(),\n",
        "            'optimizer': optimizer.state_dict(),\n",
        "        }\n",
        "        \n",
        "    torch.save(checkpoint, savePath)\n",
        "    \n",
        "    print('Epoch {0}: train loss {1} val loss {2}'.format(epoch, train_loss,val_loss))\n",
        "\n",
        "\n",
        "\n",
        "  model.load_state_dict(best_model_wts)\n",
        "  return model.eval(), history"
      ],
      "execution_count": 0,
      "outputs": []
    },
    {
      "cell_type": "markdown",
      "metadata": {
        "id": "tlAKr6Qa_EIm",
        "colab_type": "text"
      },
      "source": [
        ""
      ]
    },
    {
      "cell_type": "code",
      "metadata": {
        "id": "PLddj7qc278k",
        "colab_type": "code",
        "outputId": "4b5d5e6b-8a68-4595-aaf2-9b81f89c92ea",
        "colab": {
          "base_uri": "https://localhost:8080/",
          "height": 1000
        }
      },
      "source": [
        "savePath = \"/content/drive/My Drive/classifier.pt\" \n",
        "\n",
        "model = RecurrentAutoencoder(30, 1, 128)\n",
        "model = model.to(device)\n",
        "\n",
        "optimizer = torch.optim.Adam(model.parameters(), lr=1e-3)\n",
        "\n",
        "checkpoint = torch.load(savePath)\n",
        "model.load_state_dict(checkpoint['state_dict'])\n",
        "optimizer.load_state_dict(checkpoint['optimizer'])\n",
        "\n",
        "model, history = train_model(\n",
        "  model,\n",
        "  X_train,\n",
        "  X_test,\n",
        "  optimizer,\n",
        "  checkpoint['epoch'],\n",
        "  n_epochs=1000\n",
        ")"
      ],
      "execution_count": 0,
      "outputs": [
        {
          "output_type": "stream",
          "text": [
            "\n",
            "\n",
            "\n",
            "  0%|          | 0/997 [00:00<?, ?it/s]\u001b[A\u001b[A\u001b[A\n",
            "\n",
            "\n",
            "  0%|          | 1/997 [01:51<30:50:59, 111.51s/it]\u001b[A\u001b[A\u001b[A"
          ],
          "name": "stderr"
        },
        {
          "output_type": "stream",
          "text": [
            "Epoch 4: train loss 272.9881053193761 val loss 267.107117048166\n"
          ],
          "name": "stdout"
        },
        {
          "output_type": "stream",
          "text": [
            "\n",
            "\n",
            "\n",
            "  0%|          | 2/997 [03:45<30:59:44, 112.14s/it]\u001b[A\u001b[A\u001b[A"
          ],
          "name": "stderr"
        },
        {
          "output_type": "stream",
          "text": [
            "Epoch 5: train loss 258.96917015083335 val loss 253.2745945768825\n"
          ],
          "name": "stdout"
        },
        {
          "output_type": "stream",
          "text": [
            "\n",
            "\n",
            "\n",
            "  0%|          | 3/997 [05:38<31:05:06, 112.58s/it]\u001b[A\u001b[A\u001b[A"
          ],
          "name": "stderr"
        },
        {
          "output_type": "stream",
          "text": [
            "Epoch 6: train loss 245.32367397296872 val loss 239.8156703631402\n"
          ],
          "name": "stdout"
        },
        {
          "output_type": "stream",
          "text": [
            "\n",
            "\n",
            "\n",
            "  0%|          | 4/997 [07:32<31:07:52, 112.86s/it]\u001b[A\u001b[A\u001b[A"
          ],
          "name": "stderr"
        },
        {
          "output_type": "stream",
          "text": [
            "Epoch 7: train loss 232.0514319524124 val loss 226.7300840341459\n"
          ],
          "name": "stdout"
        },
        {
          "output_type": "stream",
          "text": [
            "\n",
            "\n",
            "\n",
            "  1%|          | 5/997 [09:24<31:04:13, 112.76s/it]\u001b[A\u001b[A\u001b[A"
          ],
          "name": "stderr"
        },
        {
          "output_type": "stream",
          "text": [
            "Epoch 8: train loss 219.1523270296118 val loss 214.01765236046273\n"
          ],
          "name": "stdout"
        },
        {
          "output_type": "stream",
          "text": [
            "\n",
            "\n",
            "\n",
            "  1%|          | 6/997 [11:16<30:58:42, 112.54s/it]\u001b[A\u001b[A\u001b[A"
          ],
          "name": "stderr"
        },
        {
          "output_type": "stream",
          "text": [
            "Epoch 9: train loss 206.62631548362128 val loss 201.6782862564745\n"
          ],
          "name": "stdout"
        },
        {
          "output_type": "stream",
          "text": [
            "\n",
            "\n",
            "\n",
            "  1%|          | 7/997 [13:08<30:51:03, 112.19s/it]\u001b[A\u001b[A\u001b[A"
          ],
          "name": "stderr"
        },
        {
          "output_type": "stream",
          "text": [
            "Epoch 10: train loss 194.47350493864406 val loss 189.71211965210819\n"
          ],
          "name": "stdout"
        },
        {
          "output_type": "stream",
          "text": [
            "\n",
            "\n",
            "\n",
            "  1%|          | 8/997 [14:58<30:40:58, 111.69s/it]\u001b[A\u001b[A\u001b[A"
          ],
          "name": "stderr"
        },
        {
          "output_type": "stream",
          "text": [
            "Epoch 11: train loss 182.69369399703015 val loss 178.11878611756902\n"
          ],
          "name": "stdout"
        },
        {
          "output_type": "stream",
          "text": [
            "\n",
            "\n",
            "\n",
            "  1%|          | 9/997 [16:49<30:36:17, 111.52s/it]\u001b[A\u001b[A\u001b[A"
          ],
          "name": "stderr"
        },
        {
          "output_type": "stream",
          "text": [
            "Epoch 12: train loss 171.2869758996227 val loss 166.89852856298387\n"
          ],
          "name": "stdout"
        },
        {
          "output_type": "stream",
          "text": [
            "\n",
            "\n",
            "\n",
            "  1%|          | 10/997 [18:39<30:23:39, 110.86s/it]\u001b[A\u001b[A\u001b[A"
          ],
          "name": "stderr"
        },
        {
          "output_type": "stream",
          "text": [
            "Epoch 13: train loss 160.25346397774868 val loss 156.0515534518595\n"
          ],
          "name": "stdout"
        },
        {
          "output_type": "stream",
          "text": [
            "\n",
            "\n",
            "\n",
            "  1%|          | 11/997 [20:28<30:12:51, 110.32s/it]\u001b[A\u001b[A\u001b[A"
          ],
          "name": "stderr"
        },
        {
          "output_type": "stream",
          "text": [
            "Epoch 14: train loss 149.59260222225515 val loss 145.57703304539473\n"
          ],
          "name": "stdout"
        },
        {
          "output_type": "stream",
          "text": [
            "\n",
            "\n",
            "\n",
            "  1%|          | 12/997 [22:17<30:06:58, 110.07s/it]\u001b[A\u001b[A\u001b[A"
          ],
          "name": "stderr"
        },
        {
          "output_type": "stream",
          "text": [
            "Epoch 15: train loss 139.3054179261417 val loss 135.4767379538824\n"
          ],
          "name": "stdout"
        },
        {
          "output_type": "stream",
          "text": [
            "\n",
            "\n",
            "\n",
            "  1%|▏         | 13/997 [24:06<29:59:53, 109.75s/it]\u001b[A\u001b[A\u001b[A"
          ],
          "name": "stderr"
        },
        {
          "output_type": "stream",
          "text": [
            "Epoch 16: train loss 129.39159712490132 val loss 125.74949973822835\n"
          ],
          "name": "stdout"
        },
        {
          "output_type": "stream",
          "text": [
            "\n",
            "\n",
            "\n",
            "  1%|▏         | 14/997 [25:54<29:50:35, 109.29s/it]\u001b[A\u001b[A\u001b[A"
          ],
          "name": "stderr"
        },
        {
          "output_type": "stream",
          "text": [
            "Epoch 17: train loss 119.85021095161093 val loss 116.39406912219202\n"
          ],
          "name": "stdout"
        },
        {
          "output_type": "stream",
          "text": [
            "\n",
            "\n",
            "\n",
            "  2%|▏         | 15/997 [27:42<29:40:23, 108.78s/it]\u001b[A\u001b[A\u001b[A"
          ],
          "name": "stderr"
        },
        {
          "output_type": "stream",
          "text": [
            "Epoch 18: train loss 110.68092518063223 val loss 107.41094757814705\n"
          ],
          "name": "stdout"
        },
        {
          "output_type": "stream",
          "text": [
            "\n",
            "\n",
            "\n",
            "  2%|▏         | 16/997 [29:30<29:32:34, 108.41s/it]\u001b[A\u001b[A\u001b[A"
          ],
          "name": "stderr"
        },
        {
          "output_type": "stream",
          "text": [
            "Epoch 19: train loss 101.88406189867821 val loss 98.80047551559709\n"
          ],
          "name": "stdout"
        },
        {
          "output_type": "stream",
          "text": [
            "\n",
            "\n",
            "\n",
            "  2%|▏         | 17/997 [31:17<29:25:09, 108.07s/it]\u001b[A\u001b[A\u001b[A"
          ],
          "name": "stderr"
        },
        {
          "output_type": "stream",
          "text": [
            "Epoch 20: train loss 93.45968186006384 val loss 90.56186467957951\n"
          ],
          "name": "stdout"
        },
        {
          "output_type": "stream",
          "text": [
            "\n",
            "\n",
            "\n",
            "  2%|▏         | 18/997 [33:04<29:21:26, 107.95s/it]\u001b[A\u001b[A\u001b[A"
          ],
          "name": "stderr"
        },
        {
          "output_type": "stream",
          "text": [
            "Epoch 21: train loss 85.40756280223728 val loss 82.69594926288876\n"
          ],
          "name": "stdout"
        },
        {
          "output_type": "stream",
          "text": [
            "\n",
            "\n",
            "\n",
            "  2%|▏         | 19/997 [34:52<29:16:39, 107.77s/it]\u001b[A\u001b[A\u001b[A"
          ],
          "name": "stderr"
        },
        {
          "output_type": "stream",
          "text": [
            "Epoch 22: train loss 77.72780175778189 val loss 75.20210654508386\n"
          ],
          "name": "stdout"
        },
        {
          "output_type": "stream",
          "text": [
            "\n",
            "\n",
            "\n",
            "  2%|▏         | 20/997 [36:40<29:14:23, 107.74s/it]\u001b[A\u001b[A\u001b[A"
          ],
          "name": "stderr"
        },
        {
          "output_type": "stream",
          "text": [
            "Epoch 23: train loss 70.42019310265391 val loss 68.08039228502463\n"
          ],
          "name": "stdout"
        },
        {
          "output_type": "stream",
          "text": [
            "\n",
            "\n",
            "\n",
            "  2%|▏         | 21/997 [38:28<29:15:46, 107.94s/it]\u001b[A\u001b[A\u001b[A"
          ],
          "name": "stderr"
        },
        {
          "output_type": "stream",
          "text": [
            "Epoch 24: train loss 63.484243244106096 val loss 61.330292739026405\n"
          ],
          "name": "stdout"
        },
        {
          "output_type": "stream",
          "text": [
            "\n",
            "\n",
            "\n",
            "  2%|▏         | 22/997 [40:16<29:12:29, 107.85s/it]\u001b[A\u001b[A\u001b[A"
          ],
          "name": "stderr"
        },
        {
          "output_type": "stream",
          "text": [
            "Epoch 25: train loss 56.92043141256962 val loss 54.9526181158833\n"
          ],
          "name": "stdout"
        },
        {
          "output_type": "stream",
          "text": [
            "\n",
            "\n",
            "\n",
            "  2%|▏         | 23/997 [42:03<29:10:53, 107.86s/it]\u001b[A\u001b[A\u001b[A"
          ],
          "name": "stderr"
        },
        {
          "output_type": "stream",
          "text": [
            "Epoch 26: train loss 50.72877567256824 val loss 48.94691856636805\n"
          ],
          "name": "stdout"
        },
        {
          "output_type": "stream",
          "text": [
            "\n",
            "\n",
            "\n",
            "  2%|▏         | 24/997 [43:51<29:07:09, 107.74s/it]\u001b[A\u001b[A\u001b[A"
          ],
          "name": "stderr"
        },
        {
          "output_type": "stream",
          "text": [
            "Epoch 27: train loss 44.90865908616046 val loss 43.311993650017435\n"
          ],
          "name": "stdout"
        },
        {
          "output_type": "stream",
          "text": [
            "\n",
            "\n",
            "\n",
            "  3%|▎         | 25/997 [45:38<29:01:49, 107.52s/it]\u001b[A\u001b[A\u001b[A"
          ],
          "name": "stderr"
        },
        {
          "output_type": "stream",
          "text": [
            "Epoch 28: train loss 39.45973598438137 val loss 38.04910105032811\n"
          ],
          "name": "stdout"
        },
        {
          "output_type": "stream",
          "text": [
            "\n",
            "\n",
            "\n",
            "  3%|▎         | 26/997 [47:25<28:58:19, 107.41s/it]\u001b[A\u001b[A\u001b[A"
          ],
          "name": "stderr"
        },
        {
          "output_type": "stream",
          "text": [
            "Epoch 29: train loss 34.38214179300138 val loss 33.15630118811023\n"
          ],
          "name": "stdout"
        },
        {
          "output_type": "stream",
          "text": [
            "\n",
            "\n",
            "\n",
            "  3%|▎         | 27/997 [49:12<28:55:32, 107.35s/it]\u001b[A\u001b[A\u001b[A"
          ],
          "name": "stderr"
        },
        {
          "output_type": "stream",
          "text": [
            "Epoch 30: train loss 29.67402923511287 val loss 28.632525552120228\n"
          ],
          "name": "stdout"
        },
        {
          "output_type": "stream",
          "text": [
            "\n",
            "\n",
            "\n",
            "  3%|▎         | 28/997 [51:00<28:55:42, 107.47s/it]\u001b[A\u001b[A\u001b[A"
          ],
          "name": "stderr"
        },
        {
          "output_type": "stream",
          "text": [
            "Epoch 31: train loss 25.335150666461665 val loss 24.477902302411998\n"
          ],
          "name": "stdout"
        },
        {
          "output_type": "stream",
          "text": [
            "\n",
            "\n",
            "\n",
            "  3%|▎         | 29/997 [52:47<28:53:48, 107.47s/it]\u001b[A\u001b[A\u001b[A"
          ],
          "name": "stderr"
        },
        {
          "output_type": "stream",
          "text": [
            "Epoch 32: train loss 21.365569118511235 val loss 20.693090500635513\n"
          ],
          "name": "stdout"
        },
        {
          "output_type": "stream",
          "text": [
            "\n",
            "\n",
            "\n",
            "  3%|▎         | 30/997 [54:35<28:53:21, 107.55s/it]\u001b[A\u001b[A\u001b[A"
          ],
          "name": "stderr"
        },
        {
          "output_type": "stream",
          "text": [
            "Epoch 33: train loss 17.764615890039963 val loss 17.275293315114563\n"
          ],
          "name": "stdout"
        },
        {
          "output_type": "stream",
          "text": [
            "\n",
            "\n",
            "\n",
            "  3%|▎         | 31/997 [56:23<28:51:29, 107.55s/it]\u001b[A\u001b[A\u001b[A"
          ],
          "name": "stderr"
        },
        {
          "output_type": "stream",
          "text": [
            "Epoch 34: train loss 14.52999540011407 val loss 14.223251417001247\n"
          ],
          "name": "stdout"
        },
        {
          "output_type": "stream",
          "text": [
            "\n",
            "\n",
            "\n",
            "  3%|▎         | 32/997 [58:11<28:50:49, 107.62s/it]\u001b[A\u001b[A\u001b[A"
          ],
          "name": "stderr"
        },
        {
          "output_type": "stream",
          "text": [
            "Epoch 35: train loss 11.659833862119118 val loss 11.534249849089887\n"
          ],
          "name": "stdout"
        },
        {
          "output_type": "stream",
          "text": [
            "\n",
            "\n",
            "\n",
            "  3%|▎         | 33/997 [59:59<28:53:05, 107.87s/it]\u001b[A\u001b[A\u001b[A"
          ],
          "name": "stderr"
        },
        {
          "output_type": "stream",
          "text": [
            "Epoch 36: train loss 9.151617958122413 val loss 9.204955803307751\n"
          ],
          "name": "stdout"
        },
        {
          "output_type": "stream",
          "text": [
            "\n",
            "\n",
            "\n",
            "  3%|▎         | 34/997 [1:01:47<28:51:15, 107.87s/it]\u001b[A\u001b[A\u001b[A"
          ],
          "name": "stderr"
        },
        {
          "output_type": "stream",
          "text": [
            "Epoch 37: train loss 6.999915254319324 val loss 7.229641791977878\n"
          ],
          "name": "stdout"
        }
      ]
    },
    {
      "cell_type": "code",
      "metadata": {
        "id": "vmyb4mpxdPbG",
        "colab_type": "code",
        "colab": {
          "base_uri": "https://localhost:8080/",
          "height": 285
        },
        "outputId": "c491d414-1ed4-4c6a-da52-5216e3d549b7"
      },
      "source": [
        "import matplotlib.pyplot as plt\n",
        "model(X_train[1].to(device))\n",
        "plt.plot(model(X_train[1].to(device)).cpu().detach().numpy())"
      ],
      "execution_count": 25,
      "outputs": [
        {
          "output_type": "execute_result",
          "data": {
            "text/plain": [
              "[<matplotlib.lines.Line2D at 0x7feab851bf60>]"
            ]
          },
          "metadata": {
            "tags": []
          },
          "execution_count": 25
        },
        {
          "output_type": "display_data",
          "data": {
            "image/png": "[encoded data removed]",
            "text/plain": [
              "<Figure size 432x288 with 1 Axes>"
            ]
          },
          "metadata": {
            "tags": [],
            "needs_background": "light"
          }
        }
      ]
    },
    {
      "cell_type": "code",
      "metadata": {
        "id": "db0zuy0oI8vV",
        "colab_type": "code",
        "colab": {}
      },
      "source": [
        "def predict(model, dataset):\n",
        "  predictions, losses = [], []\n",
        "  criterion = nn.MSELoss().to(device)\n",
        "  with torch.no_grad():\n",
        "    model = model.eval()\n",
        "    for seq_true in dataset:\n",
        "      seq_true = seq_true.to(device)\n",
        "      seq_pred = model(seq_true)\n",
        "\n",
        "      loss = criterion(seq_pred, seq_true)\n",
        "\n",
        "      predictions.append(seq_pred.cpu().numpy().flatten())\n",
        "      losses.append(loss.item())\n",
        "  return predictions, losses"
      ],
      "execution_count": 0,
      "outputs": []
    },
    {
      "cell_type": "code",
      "metadata": {
        "id": "R0BWEkHKMmI4",
        "colab_type": "code",
        "colab": {}
      },
      "source": [
        "_, losses = predict(model, train_dataset)\n",
        "\n",
        "sns.distplot(losses, bins=50, kde=True);"
      ],
      "execution_count": 0,
      "outputs": []
    },
    {
      "cell_type": "code",
      "metadata": {
        "id": "ObQto9huNtcW",
        "colab_type": "code",
        "colab": {}
      },
      "source": [
        "predictions, pred_losses = predict(model, test_normal_dataset)\n",
        "sns.distplot(pred_losses, bins=50, kde=True);\n",
        "correct = sum(l <= THRESHOLD for l in pred_losses)\n",
        "print(f'Correct normal predictions: {correct}/{len(test_normal_dataset)}')"
      ],
      "execution_count": 0,
      "outputs": []
    }
  ]
}