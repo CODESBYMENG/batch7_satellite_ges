{
 "cells": [
  {
   "cell_type": "markdown",
   "metadata": {},
   "source": [
    "# Test OVH storage"
   ]
  },
  {
   "cell_type": "markdown",
   "metadata": {},
   "source": [
    "## Module Installation"
   ]
  },
  {
   "cell_type": "code",
   "execution_count": null,
   "metadata": {},
   "outputs": [],
   "source": [
    "#!pip install --user python-swiftclient python-keystoneclient --upgrade"
   ]
  },
  {
   "cell_type": "markdown",
   "metadata": {},
   "source": [
    "## Connection to server\n",
    "Using a config file for credentials"
   ]
  },
  {
   "cell_type": "code",
   "execution_count": 23,
   "metadata": {},
   "outputs": [],
   "source": [
    "import swiftclient\n",
    "import json\n",
    "with open(\"../config.json\") as json_data_file:\n",
    "    config = json.load(json_data_file)\n",
    "#print(config['swift_storage']['user'])\n",
    "\n",
    "def swift_con(config):\n",
    "    user=config['swift_storage']['user']\n",
    "    key=config['swift_storage']['key']\n",
    "    auth_url=config['swift_storage']['auth_url']\n",
    "    tenant_name=config['swift_storage']['tenant_name']\n",
    "    auth_version=config['swift_storage']['auth_version']\n",
    "    options = config['swift_storage']['options']\n",
    "    return swiftclient.Connection(user=user,\n",
    "                                  key=key,\n",
    "                                  authurl=auth_url,\n",
    "                                  os_options=options,\n",
    "                                  tenant_name=tenant_name,\n",
    "                                  auth_version=auth_version)\n",
    "\n",
    "conn = swift_con(config)"
   ]
  },
  {
   "cell_type": "code",
   "execution_count": 25,
   "metadata": {},
   "outputs": [],
   "source": [
    "#conn.get_account()"
   ]
  },
  {
   "cell_type": "markdown",
   "metadata": {},
   "source": [
    "## List files"
   ]
  },
  {
   "cell_type": "code",
   "execution_count": 4,
   "metadata": {},
   "outputs": [
    {
     "name": "stdout",
     "output_type": "stream",
     "text": [
      "container_name: oco2\n"
     ]
    }
   ],
   "source": [
    "for container in conn.get_account()[1]:\n",
    "    container_name = container['name']\n",
    "    print('container_name:', container_name)\n",
    "for data in conn.get_container(container_name)[1]:\n",
    "    print('{0}\\t{1}\\t{2}'.format(data['name'], data['bytes'], data['last_modified']))"
   ]
  },
  {
   "cell_type": "markdown",
   "metadata": {},
   "source": [
    "## Upload files"
   ]
  },
  {
   "cell_type": "code",
   "execution_count": 26,
   "metadata": {},
   "outputs": [],
   "source": [
    "import glob\n",
    "import os\n",
    "for file in glob.glob(\"/media/data-nvme/dev/datasets/OCO2/csv/oco2_*.xz\", recursive=True):\n",
    "    with open(file, 'rb') as one_file:\n",
    "            upload_to = '/datasets/oco-2/soudings/'+ os.path.basename(file)\n",
    "            print('Copy from',file,'to',upload_to)\n",
    "            conn.put_object(container_name, upload_to,\n",
    "                                            contents= one_file.read(),\n",
    "                                            content_type='application/x-xz')    \n"
   ]
  },
  {
   "cell_type": "markdown",
   "metadata": {},
   "source": [
    "## Delete files"
   ]
  },
  {
   "cell_type": "code",
   "execution_count": 14,
   "metadata": {},
   "outputs": [
    {
     "name": "stdout",
     "output_type": "stream",
     "text": [
      "delete /datasets/oco-2/soudings/oco2_1502.csv.xz\n"
     ]
    }
   ],
   "source": [
    "container_name = 'oco2'\n",
    "for data in conn.get_container(container_name)[1]:\n",
    "    file = data['name']\n",
    "    if 'oco2_1502.csv.xz' in file:\n",
    "        print('delete', file)\n",
    "        # UNCOMMENT FOR REAL DELETE conn.delete_object(container_name, file)"
   ]
  }
 ],
 "metadata": {
  "kernelspec": {
   "display_name": "Python 3",
   "language": "python",
   "name": "python3"
  },
  "language_info": {
   "codemirror_mode": {
    "name": "ipython",
    "version": 3
   },
   "file_extension": ".py",
   "mimetype": "text/x-python",
   "name": "python",
   "nbconvert_exporter": "python",
   "pygments_lexer": "ipython3",
   "version": "3.7.6"
  }
 },
 "nbformat": 4,
 "nbformat_minor": 4
}
