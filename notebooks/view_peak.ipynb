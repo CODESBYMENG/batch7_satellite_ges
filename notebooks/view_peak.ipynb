{
 "cells": [
  {
   "cell_type": "markdown",
   "metadata": {},
   "source": [
    "# Visualization of detected peak of CO2"
   ]
  },
  {
   "cell_type": "code",
   "execution_count": 1,
   "metadata": {},
   "outputs": [],
   "source": [
    "%matplotlib inline"
   ]
  },
  {
   "cell_type": "code",
   "execution_count": null,
   "metadata": {},
   "outputs": [],
   "source": [
    "#!conda install geopandas\n",
    "#!pip install geopandas pandas_bokeh"
   ]
  },
  {
   "cell_type": "code",
   "execution_count": null,
   "metadata": {},
   "outputs": [],
   "source": [
    "import os\n",
    "import glob\n",
    "import numpy as np\n",
    "import pandas as pd\n",
    "# Import geopandas package\n",
    "import geopandas as gpd\n",
    "import matplotlib\n",
    "import matplotlib.pyplot as plt\n",
    "from mpl_toolkits.basemap import Basemap\n",
    "from matplotlib.pyplot import figure\n",
    "from tqdm import tqdm_notebook as tqdm\n",
    "from shapely.geometry import Point # Shapely for converting latitude/longtitude to geometry\n",
    "\n",
    "input_dir = r'../../../datasets/OCO2/csv/'\n",
    "#input_dir = r'../pipeline/'\n",
    "# peak_dataoco2_1808-o21714-i37483"
   ]
  },
  {
   "cell_type": "code",
   "execution_count": null,
   "metadata": {},
   "outputs": [],
   "source": [
    "dir = os.path.realpath(input_dir)\n",
    "print(dir)\n",
    "csv_list = glob.glob(input_dir + \"result_\"+\"*.csv\")\n",
    "# # Initialize array to store data\n",
    "df_res = pd.DataFrame()\n",
    "# Loop over the files\n",
    "for one_file in tqdm(csv_list):\n",
    "    #print('Reading', one_file)\n",
    "    df_temp = pd.read_csv(one_file, sep=\",\")\n",
    "    df_res = df_res.append(df_temp)\n",
    "\n",
    "\n",
    "\n",
    "# creating a geometry column \n",
    "geometry = [Point(xy) for xy in zip(df_res['longitude'], df_res['latitude'])]\n",
    "\n",
    "# Coordinate reference system : WGS84\n",
    "crs = {'init': 'epsg:4326'}\n",
    "\n",
    "# Creating a Geographic data frame \n",
    "gdf_res = gpd.GeoDataFrame(df_res.copy(), crs=crs, geometry=geometry)\n",
    "\n"
   ]
  },
  {
   "cell_type": "code",
   "execution_count": null,
   "metadata": {},
   "outputs": [],
   "source": [
    "df_res.tail(3)"
   ]
  },
  {
   "cell_type": "code",
   "execution_count": null,
   "metadata": {},
   "outputs": [],
   "source": [
    "gdf_res.tail(3)"
   ]
  },
  {
   "cell_type": "code",
   "execution_count": null,
   "metadata": {},
   "outputs": [],
   "source": [
    "len(df_res)"
   ]
  },
  {
   "cell_type": "code",
   "execution_count": null,
   "metadata": {},
   "outputs": [],
   "source": [
    "# Plot all points\n",
    "gdf_res.plot(marker='o', color='b', markersize=0.5)"
   ]
  },
  {
   "cell_type": "code",
   "execution_count": null,
   "metadata": {},
   "outputs": [],
   "source": [
    "def draw_map_df(data, x=\"longitude\", y=\"latitude\", c=\"xco2\", lon_min=-180, lon_max=180, lat_min=-90, lat_max=90, size_point=1, frontier=False):\n",
    "\n",
    "    plt.figure(figsize=(15, 10), edgecolor='w')\n",
    "    m = Basemap(llcrnrlat=lat_min, urcrnrlat=lat_max, llcrnrlon=lon_min, urcrnrlon=lon_max)\n",
    "    \n",
    "    m.shadedrelief()\n",
    "    \n",
    "    parallels = np.arange(-80.,81,10.)\n",
    "    m.drawparallels(parallels,labels=[False,True,True,False])\n",
    "\n",
    "    meridians = np.arange(10.,351.,20.)\n",
    "    m.drawmeridians(meridians,labels=[True,False,False,True])\n",
    "\n",
    "    normal = matplotlib.colors.LogNorm(vmin=data[c].min(), vmax=data[c].max())\n",
    "\n",
    "    m.scatter(data[x], data[y], c=data[c], cmap=plt.cm.jet, s=size_point, norm=normal)\n",
    "\n",
    "    if (frontier):\n",
    "      m.drawcountries(linewidth=0.5)\n",
    "      m.drawcoastlines(linewidth=0.7)\n",
    "\n",
    "    plt.show()"
   ]
  },
  {
   "cell_type": "code",
   "execution_count": null,
   "metadata": {},
   "outputs": [],
   "source": [
    "figure(num=None, figsize=(10, 8), dpi=80, facecolor='w', edgecolor='k')\n",
    "draw_map_df(df_res, c='delta', lon_min=min(df_res['longitude']), lon_max=max(df_res['longitude']), lat_min=min(df_res['latitude']), lat_max=max(df_res['latitude']))"
   ]
  },
  {
   "cell_type": "code",
   "execution_count": null,
   "metadata": {},
   "outputs": [],
   "source": [
    "#!conda install bokeh"
   ]
  },
  {
   "cell_type": "markdown",
   "metadata": {},
   "source": [
    "## Conversion de coordonnées\n",
    "\n",
    "On peut se référer aux projections à travers les codes « EPSG », qui sont des identificateurs de SIG nommés et gérés par l’European Petroleum Survey Group.\n",
    "La projection Sphérique de Mercator est identifiée comme EPSG: 3857. Ces coordonnées sont en mètres et exprimées par x / y.\n",
    "\n",
    "L’autre code EPSG commun est EPSG:4326, qui utilise le WGS84 comme système de coordonnées. Il décrit des coordonnées (latitude / longitude).\n",
    "\n",
    "Les données OCO2 sont en EPSG:4326 alors que Bokeh attend des coordonnées EPSG:3857. Il faut donc faire une conversion."
   ]
  },
  {
   "cell_type": "code",
   "execution_count": null,
   "metadata": {},
   "outputs": [],
   "source": [
    "import pyproj\n",
    "\n",
    "gps_projection = pyproj.Proj(\"EPSG:4326\")  # GPS\n",
    "mercator_projection = pyproj.Proj(\"EPSG:3857\")  # Mercator\n",
    "\n",
    "df_res['x'], df_res['y'] = pyproj.transform(gps_projection, mercator_projection, df_res['latitude'].tolist(), df_res['longitude'].tolist())\n",
    "df_res['size'] = df_res['delta']*4\n",
    "df_res.head(3)"
   ]
  },
  {
   "cell_type": "code",
   "execution_count": null,
   "metadata": {},
   "outputs": [],
   "source": [
    "df_res.tail(3)"
   ]
  },
  {
   "cell_type": "code",
   "execution_count": null,
   "metadata": {},
   "outputs": [],
   "source": [
    "# Crash notebook :-(\n",
    "# import pandas_bokeh\n",
    "# pandas_bokeh.output_notebook()\n",
    "# df_res.plot_bokeh(simplify_shapes=10000)"
   ]
  },
  {
   "cell_type": "code",
   "execution_count": null,
   "metadata": {},
   "outputs": [],
   "source": [
    "df_res.columns"
   ]
  },
  {
   "cell_type": "code",
   "execution_count": null,
   "metadata": {},
   "outputs": [],
   "source": [
    "from bokeh.plotting import figure, output_file, show\n",
    "#from bokeh.tile_providers import CARTODBPOSITRON, get_provider\n",
    "from bokeh.tile_providers import CARTODBPOSITRON, get_provider\n",
    "from bokeh.models import ColumnDataSource, HoverTool\n",
    "from bokeh.models import GeoJSONDataSource\n",
    "from bokeh.io import output_notebook\n",
    "# from bokeh.events import ButtonClick\n",
    "# from bokeh.models import Button, CustomJS\n",
    "# button = Button()\n",
    "# button.js_on_event(ButtonClick, CustomJS(code='console.log(\"JS:Click\")'))\n",
    "\n",
    "output_notebook()\n",
    "\n",
    "source = ColumnDataSource(data=df_res)\n",
    "output_file(\"peak_map.html\")\n",
    "\n",
    "tile_provider = get_provider(CARTODBPOSITRON)\n",
    "hover = HoverTool(tooltips=[\n",
    "    (\"Orbit\", \"@orbit\"),\n",
    "    (\"sounding_id\", \"@sounding_id\"),\n",
    "    (\"delta\", \"@delta\"),\n",
    "    (\"windspeed_u\",\"@windspeed_u\")\n",
    "])\n",
    "\n",
    "p = figure(x_range=(-3000000, 5000000), y_range=(-100000, 8000000), plot_width=1200, plot_height=800,\n",
    "           x_axis_type=\"mercator\", y_axis_type=\"mercator\"\n",
    "          ,tools=[hover, 'wheel_zoom','save','box_zoom','reset']\n",
    "          )\n",
    "p.add_tile(tile_provider)\n",
    "\n",
    "p.circle(x='x', y='y', source=source,size='size',\n",
    "         line_color=\"#FF0000\", \n",
    "         fill_color=\"#FF0000\",\n",
    "         fill_alpha=0.01)\n",
    "\n",
    "show(p)"
   ]
  },
  {
   "cell_type": "code",
   "execution_count": null,
   "metadata": {},
   "outputs": [],
   "source": [
    "# ODIAC - https://colab.research.google.com/drive/1pERH_iSkIkMYy1MDe_MAWTUs2MoPRa7x#scrollTo=uR8cnThg-paEwc\n",
    "# path6 = \"/content/drive/My Drive/Data For Good/odiac2019_1x1d_2018.nc\"\n",
    "# http://datasets.wri.org/dataset/globalpowerplantdatabase%22"
   ]
  },
  {
   "cell_type": "code",
   "execution_count": null,
   "metadata": {},
   "outputs": [],
   "source": [
    "# from bokeh.plotting import figure, show\n",
    "# from bokeh.io import output_notebook\n",
    "# output_notebook()\n",
    "# p = figure(plot_width=400, plot_height=400)\n",
    "# p.circle([1, 2, 3, 4, 5], [6, 7, 2, 4, 5], size=15, line_color=\"navy\", fill_color=\"orange\", fill_alpha=0.5)\n",
    "# show(p)"
   ]
  },
  {
   "cell_type": "code",
   "execution_count": null,
   "metadata": {},
   "outputs": [],
   "source": []
  },
  {
   "cell_type": "markdown",
   "metadata": {},
   "source": [
    "## View one peak"
   ]
  },
  {
   "cell_type": "code",
   "execution_count": null,
   "metadata": {},
   "outputs": [],
   "source": [
    "import os\n",
    "import glob\n",
    "import numpy as np\n",
    "import pandas as pd\n",
    "\n",
    "def load_one_peak_data(sounding_id, df_all_peak):\n",
    "    json_list = glob.glob(input_dir + \"peak_*-si_*\"+sounding_id+\"*.json\")\n",
    "    if len(json_list) > 1:\n",
    "        print(\"E : more than one result !\")\n",
    "        return False\n",
    "    if len(json_list) < 1:\n",
    "        print(\"ERROR : no result !\")\n",
    "        return False\n",
    "    one_file = json_list[0]\n",
    "    print(one_file)\n",
    "    df_peak = pd.read_json(one_file)\n",
    "    df_param = df_all_peak.query(\"sounding_id==2018080404560303\")\n",
    "    param_index = df_param.index[0]\n",
    "    gaussian_param = {\n",
    "        'slope' : df_param.loc[param_index, 'slope'],\n",
    "        'intercept' : df_param.loc[param_index, 'intercept'],\n",
    "        'amplitude' : df_param.loc[param_index, 'amplitude'],\n",
    "        'sigma': df_param.loc[param_index, 'sigma'],\n",
    "        'delta': df_param.loc[param_index, 'delta'],\n",
    "        'R' : df_param.loc[param_index, 'R'],\n",
    "    }\n",
    "    return df_peak, gaussian_param\n",
    "\n",
    "'''\n",
    "x : the data input value\n",
    "m : the slope of the data\n",
    "b : the intercep of the data\n",
    "A : Amplitude de la courbe\n",
    "sig : sigma / écart type de la courbe\n",
    "'''\n",
    "def gaussian(x, m, b, A, sig):\n",
    "    return m * x + b + A / (sig * (2 * np.pi)**0.5) * np.exp(-x**2 / (2*sig**2))\n",
    "\n",
    "def plot_peak(df_peak, gaussian_param):\n",
    "    x = df_peak['distance']\n",
    "    y = df_peak['xco2']\n",
    "    y = y - gaussian_param['slope'] * x - gaussian_param['intercept']\n",
    "    plt.scatter(x, y, c=y, s=3, label='sounding')\n",
    "    plt.plot(x, gaussian(x, m=0, b=0, A=gaussian_param['amplitude'], sig=gaussian_param['sigma'])-gaussian_param['delta'], 'r', label='fit')\n",
    "    plt.legend()\n",
    "    plt.title('OCO 2 data')\n",
    "    plt.xlabel('Distance')\n",
    "    plt.ylabel('CO²')\n",
    "    plt.show()"
   ]
  },
  {
   "cell_type": "code",
   "execution_count": null,
   "metadata": {},
   "outputs": [],
   "source": [
    "df_peak, gaussian_param = load_one_peak_data(\"2018082505142233\", df_res)\n",
    "print(gaussian_param)\n",
    "# df_res.query(\"sounding_id==2018080404560303\")\n",
    "# #df_peak.query(\"distance>-0.1 and distance<0.1\")\n",
    "# df_peak.query(\"distance == 0.0\")\n",
    "plot_peak(df_peak, gaussian_param)\n",
    "# Best m, b, A, sig =  [3.92560177e-03 4.00770662e+02 1.43374694e+02 1.42527377e+01]"
   ]
  },
  {
   "cell_type": "code",
   "execution_count": null,
   "metadata": {},
   "outputs": [],
   "source": [
    "df_peak"
   ]
  },
  {
   "cell_type": "code",
   "execution_count": null,
   "metadata": {},
   "outputs": [],
   "source": [
    "from scipy.optimize import curve_fit\n",
    "import numpy as np\n",
    "\n",
    "def peak_detection(df_slice):\n",
    "    default_return = {}\n",
    "    orbit_index=0\n",
    "    # Skip if too few data\n",
    "    if len(df_slice)<400:\n",
    "        #print('ERROR : Not enought data')\n",
    "        return default_return\n",
    "    med_temp = np.median(df_slice['xco2'])\n",
    "    # std_temp = np.std(df_slice['xco2']) # Not used\n",
    "    df_slice['xco2_enhancement'] = df_slice['xco2'] - med_temp\n",
    "    # Base parameters for : m, b, A, sig\n",
    "    p0 = (0.,med_temp,30*df_slice.loc[0,'xco2_enhancement'],10.) \n",
    "    #print('Estimated parameters:', p0)\n",
    "    d_centered = df_slice\n",
    "    '''\n",
    "    Gaussian Fit\n",
    "    scipy.optimize.curve_fit\n",
    "    scipy.optimize.curve_fit(f, xdata, ydata, p0=None, sigma=None, absolute_sigma=default_return, check_finite=True, bounds=(-inf, inf), method=None, jac=None, **kwargs)[source]¶\n",
    "    p0 = Initial guess for the parameters (length N).\n",
    "    sigma : Determines the uncertainty in ydata.\n",
    "    '''\n",
    "    popt, _ = curve_fit(f=gaussian, xdata=d_centered, ydata=df_slice['xco2'], sigma = df_slice['xco2_uncert'], p0 = p0, maxfev=20000, ftol=0.5, xtol=0.5) # ftol=0.5, xtol=0.5 to speed up\n",
    "    sig = abs(popt[3])  # sigma of the Gaussian (km)\n",
    "    #print(sig)\n",
    "    if sig < 2 : return default_return  # too narrow\n",
    "    if 3*sig > window / 2.: return default_return  # too large\n",
    "    delta = popt[2]/(popt[3]*(2 * np.pi)**0.5)  # height of the peak (ppm)\n",
    "    if delta < 0: return default_return  # depletion\n",
    "    #d_plume = df_slice[(d_centered >= -2*sig) & (d_centered <= 2*sig)]\n",
    "    #d_backg = df_slice[(d_centered < -2*sig) | (d_centered > 2*sig)]\n",
    "\n",
    "    # we want at least 1 1-km-sounding per km on average on both sides of the peak within 2 sigmas and between 2 and 3 sigmas\n",
    "    if len(df_slice[(d_centered >= -1*sig) & (d_centered <= 0)]) < int(sig): return default_return\n",
    "    if len(df_slice[(d_centered <= 1*sig) & (d_centered >= 0)]) < int(sig): return default_return\n",
    "    if len(df_slice[(d_centered >= -3*sig) & (d_centered <= -2*sig)]) < int(sig): return default_return\n",
    "    if len(df_slice[(d_centered <= 3*sig) & (d_centered >= 2*sig)]) < int(sig): return default_return\n",
    "    # check the quality of the fit\n",
    "    d_peak = df_slice[(d_centered >= -4*sig) & (d_centered <= 4*sig)]\n",
    "    d_peak_distance = d_peak['distance'] - df_slice.loc[0, 'distance']\n",
    "    R = np.corrcoef(gaussian(d_peak_distance,*popt), d_peak['xco2'])\n",
    "    if R[0,1]**2 < 0.25 : return default_return\n",
    "    #print('orbit_index',orbit_index, 'Number of good fit',good_find, 'Sigma:', sig, 'Ampleur de l\\'émission de CO²:',delta,'Coef de coreflation',R[0,1])\n",
    "    # TODO: Add filename of input to be able to load it later\n",
    "    peak = {\n",
    "        'sounding_id' : df_slice.loc[orbit_index, 'sounding_id'],\n",
    "        'latitude' : df_slice.loc[orbit_index, 'latitude'],\n",
    "        'longitude' : df_slice.loc[orbit_index, 'longitude'],\n",
    "        'orbit' : orbit_number,\n",
    "        'slope' : popt[0],\n",
    "        'intercept' : popt[1],\n",
    "        'amplitude' : popt[2],\n",
    "        'sigma': popt[3],\n",
    "        'delta': delta,\n",
    "        'R' : R[0,1],\n",
    "        'windspeed_u' : df_slice.loc[0, 'windspeed_u'],\n",
    "        'windspeed_v' : df_slice.loc[orbit_index, 'windspeed_v']\n",
    "    }\n",
    "    return peak\n"
   ]
  },
  {
   "cell_type": "code",
   "execution_count": null,
   "metadata": {},
   "outputs": [],
   "source": [
    "peak_detection(df_peak)"
   ]
  },
  {
   "cell_type": "code",
   "execution_count": null,
   "metadata": {},
   "outputs": [],
   "source": [
    "df_peak['xco2']"
   ]
  },
  {
   "cell_type": "code",
   "execution_count": null,
   "metadata": {},
   "outputs": [],
   "source": []
  }
 ],
 "metadata": {
  "kernelspec": {
   "display_name": "Python 3",
   "language": "python",
   "name": "python3"
  },
  "language_info": {
   "codemirror_mode": {
    "name": "ipython",
    "version": 3
   },
   "file_extension": ".py",
   "mimetype": "text/x-python",
   "name": "python",
   "nbconvert_exporter": "python",
   "pygments_lexer": "ipython3",
   "version": "3.7.6"
  }
 },
 "nbformat": 4,
 "nbformat_minor": 4
}
