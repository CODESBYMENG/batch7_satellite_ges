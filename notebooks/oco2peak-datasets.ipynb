{
 "cells": [
  {
   "cell_type": "markdown",
   "metadata": {},
   "source": [
    "# Open Stack Swift storage of the project"
   ]
  },
  {
   "cell_type": "code",
   "execution_count": null,
   "metadata": {},
   "outputs": [],
   "source": [
    "# default_exp datasets"
   ]
  },
  {
   "cell_type": "markdown",
   "metadata": {},
   "source": [
    "## Module Installation"
   ]
  },
  {
   "cell_type": "code",
   "execution_count": null,
   "metadata": {},
   "outputs": [],
   "source": [
    "#!pip install --user python-swiftclient python-keystoneclient --upgrade\n",
    "#!pip install nbdev"
   ]
  },
  {
   "cell_type": "markdown",
   "metadata": {},
   "source": [
    "## Class Datasets\n",
    "Using a config file for credentials"
   ]
  },
  {
   "cell_type": "code",
   "execution_count": null,
   "metadata": {},
   "outputs": [],
   "source": [
    "#export\n",
    "import swiftclient\n",
    "import json\n",
    "import glob\n",
    "import os\n",
    "#from tqdm import tqdm_notebook as tqdm\n",
    "from tqdm import tqdm\n",
    "import pandas as pd\n",
    "\n",
    "class Datasets:\n",
    "    \"\"\"\n",
    "    Utility class to access the Open Stack Swift storage of the project.\n",
    "    \"\"\"\n",
    "    config = None # Dict configuration\n",
    "    conn = None # swiftclient.Connection object\n",
    "    container_name = 'oco2'\n",
    "    \n",
    "    def __init__(self, config_file):\n",
    "        \"\"\"\n",
    "        Constructor\n",
    "        :param config_file: str, Path to config file\n",
    "        :return:\n",
    "        \"\"\"\n",
    "        # Load config\n",
    "        with open(config_file) as json_data_file:\n",
    "            self.config = json.load(json_data_file)\n",
    "        self.conn = self.swift_con()\n",
    "\n",
    "    def swift_con(self, config=None):\n",
    "        \"\"\"\n",
    "        Connect to Open Stack Swift\n",
    "        :param config: dict, Config dictionary.\n",
    "        :return: swiftclient.Connection\n",
    "        \"\"\"\n",
    "        if config is None:\n",
    "            config = self.config\n",
    "        user=config['swift_storage']['user']\n",
    "        key=config['swift_storage']['key']\n",
    "        auth_url=config['swift_storage']['auth_url']\n",
    "        tenant_name=config['swift_storage']['tenant_name']\n",
    "        auth_version=config['swift_storage']['auth_version']\n",
    "        options = config['swift_storage']['options']\n",
    "        self.conn = swiftclient.Connection(user=user,\n",
    "                                      key=key,\n",
    "                                      authurl=auth_url,\n",
    "                                      os_options=options,\n",
    "                                      tenant_name=tenant_name,\n",
    "                                      auth_version=auth_version)\n",
    "        return self.conn\n",
    "\n",
    "    def upload(self, mask='c:\\datasets\\*.csv', prefix=\"/Trash/\",content_type='text/csv', recursive=False):\n",
    "        \"\"\"\n",
    "        Upload files to Open Stack Swift\n",
    "        :param mask: str, Mask for seraching file to upload.\n",
    "        :param prefix: str, Prefix in destination. Useful to mimic folders.\n",
    "        :param content_type: str, Content type on the destination.\n",
    "        :param recursive: boolean, To allow search in sub-folder.\n",
    "        :return:\n",
    "        \"\"\"\n",
    "        for file in tqdm(glob.glob(mask, recursive=recursive)):\n",
    "            with open(file, 'rb') as one_file:\n",
    "                    upload_to = prefix+ os.path.basename(file)\n",
    "                    #print('Copy from',file,'to',upload_to)\n",
    "                    self.conn.put_object(self.container_name, upload_to,\n",
    "                                                    contents= one_file.read(),\n",
    "                                                    content_type=content_type) # 'text/csv'\n",
    "    def get_files_urls(self, pattern=\"\"):\n",
    "        result=[]\n",
    "        objects = self.conn.get_container(self.container_name)[1]\n",
    "        for data in objects:\n",
    "            if pattern in data['name']:\n",
    "                url = self.config['swift_storage']['base_url']+data['name']\n",
    "                result.append(url)\n",
    "        return result\n",
    "\n",
    "    def delete_files(self, pattern=\"/Trash/\", dry_run=True):\n",
    "        if dry_run:\n",
    "            print('Nothing will be deleted. Use dry_run=False to delete.')\n",
    "        for data in self.conn.get_container(self.container_name)[1]:\n",
    "            file = data['name']\n",
    "            if pattern in file:\n",
    "                print('deleting', file)\n",
    "                if not dry_run:\n",
    "                    self.conn.delete_object(self.container_name, file)\n",
    "                   \n",
    "\n",
    "    def get_containers(self):\n",
    "        return self.conn.get_account()[1]\n",
    "    def get_container(self, container_name='oco2'):\n",
    "        return self.conn.get_container(container_name)[1]\n",
    "\n",
    "    def get_url_from_sounding_id(self, sounding_id):\n",
    "        return config['swift_storage']['base_url']+'/datasets/oco-2/peaks-detected-details/peak_data-si_'+sounding_id+'.json'\n",
    "        \n",
    "    def get_dataframe(self, url):\n",
    "        \"\"\"\n",
    "        Read the url of a file and load it with Pandas\n",
    "        :param url: str, URL of the file to load.\n",
    "        :return: DataFrame\n",
    "        \"\"\"\n",
    "        # TODO : Switch to GeoPandas ?\n",
    "        df = None\n",
    "        extension = url.split('.')[-1].lower()\n",
    "        if extension == 'csv' or extension == 'xz':\n",
    "            df = pd.read_csv(url, sep=';')\n",
    "            if len(df.columns) == 1: # Very bad because we load it twice !\n",
    "                df = pd.read_csv(url, sep=',')\n",
    "            if 'sounding_id' in df.columns:\n",
    "                df['sounding_id']= df['sounding_id'].astype(str)\n",
    "        elif extension == 'json':\n",
    "            df = pd.read_json(url)\n",
    "        return df\n",
    "    \n",
    "    def get_gaussian_param(self, sounding_id, df_all_peak):\n",
    "        df_param = df_all_peak.query(\"sounding_id==@sounding_id\")\n",
    "        if len(df_param)<1:\n",
    "            print('ERROR : sounding_id not found in dataframe !')\n",
    "            return {'slope' : 1,'intercept' : 1,'amplitude' : 1,'sigma': 1,'delta': 1,'R' : 1}\n",
    "        param_index = df_param.index[0]\n",
    "\n",
    "        gaussian_param = {\n",
    "            'slope' : df_param.loc[param_index, 'slope'],\n",
    "            'intercept' : df_param.loc[param_index, 'intercept'],\n",
    "            'amplitude' : df_param.loc[param_index, 'amplitude'],\n",
    "            'sigma': df_param.loc[param_index, 'sigma'],\n",
    "            'delta': df_param.loc[param_index, 'delta'],\n",
    "            'R' : df_param.loc[param_index, 'R'],\n",
    "        }\n",
    "        return gaussian_param"
   ]
  },
  {
   "cell_type": "markdown",
   "metadata": {},
   "source": [
    "# Examples"
   ]
  },
  {
   "cell_type": "markdown",
   "metadata": {},
   "source": [
    "## Connection"
   ]
  },
  {
   "cell_type": "code",
   "execution_count": null,
   "metadata": {},
   "outputs": [],
   "source": [
    "config = './configs/config.json'\n",
    "datasets = Datasets(config)"
   ]
  },
  {
   "cell_type": "markdown",
   "metadata": {},
   "source": [
    "## Get a dataset"
   ]
  },
  {
   "cell_type": "markdown",
   "metadata": {},
   "source": [
    "### Level 2 sounding value from OCO-2 satellite"
   ]
  },
  {
   "cell_type": "code",
   "execution_count": null,
   "metadata": {},
   "outputs": [
    {
     "name": "stdout",
     "output_type": "stream",
     "text": [
      "https://storage.gra.cloud.ovh.net/v1/AUTH_2aaacef8e88a4ca897bb93b984bd04dd/oco2//datasets/oco-2/soudings/oco2_1409.csv.xz\n"
     ]
    },
    {
     "data": {
      "text/html": [
       "<div>\n",
       "<style scoped>\n",
       "    .dataframe tbody tr th:only-of-type {\n",
       "        vertical-align: middle;\n",
       "    }\n",
       "\n",
       "    .dataframe tbody tr th {\n",
       "        vertical-align: top;\n",
       "    }\n",
       "\n",
       "    .dataframe thead th {\n",
       "        text-align: right;\n",
       "    }\n",
       "</style>\n",
       "<table border=\"1\" class=\"dataframe\">\n",
       "  <thead>\n",
       "    <tr style=\"text-align: right;\">\n",
       "      <th></th>\n",
       "      <th>sounding_id</th>\n",
       "      <th>latitude</th>\n",
       "      <th>longitude</th>\n",
       "      <th>xco2</th>\n",
       "      <th>xco2_uncert</th>\n",
       "      <th>orbit</th>\n",
       "      <th>windspeed_u</th>\n",
       "      <th>windspeed_v</th>\n",
       "      <th>surface_pressure_apriori</th>\n",
       "      <th>surface_pressure</th>\n",
       "      <th>altitude</th>\n",
       "      <th>land_water_indicator</th>\n",
       "      <th>land_fraction</th>\n",
       "    </tr>\n",
       "  </thead>\n",
       "  <tbody>\n",
       "    <tr>\n",
       "      <th>0</th>\n",
       "      <td>2014090602072531</td>\n",
       "      <td>54.465824</td>\n",
       "      <td>160.511734</td>\n",
       "      <td>394.609192</td>\n",
       "      <td>0.772341</td>\n",
       "      <td>958</td>\n",
       "      <td>-2.220395</td>\n",
       "      <td>0.993341</td>\n",
       "      <td>1013.956604</td>\n",
       "      <td>1012.595825</td>\n",
       "      <td>13.096467</td>\n",
       "      <td>0.0</td>\n",
       "      <td>100.0</td>\n",
       "    </tr>\n",
       "    <tr>\n",
       "      <th>1</th>\n",
       "      <td>2014090602072573</td>\n",
       "      <td>54.482216</td>\n",
       "      <td>160.537918</td>\n",
       "      <td>394.162170</td>\n",
       "      <td>0.677214</td>\n",
       "      <td>958</td>\n",
       "      <td>-2.180700</td>\n",
       "      <td>0.966224</td>\n",
       "      <td>1014.002808</td>\n",
       "      <td>1012.873962</td>\n",
       "      <td>12.102757</td>\n",
       "      <td>0.0</td>\n",
       "      <td>100.0</td>\n",
       "    </tr>\n",
       "    <tr>\n",
       "      <th>2</th>\n",
       "      <td>2014090602072574</td>\n",
       "      <td>54.480503</td>\n",
       "      <td>160.555984</td>\n",
       "      <td>395.652740</td>\n",
       "      <td>0.741387</td>\n",
       "      <td>958</td>\n",
       "      <td>-2.182690</td>\n",
       "      <td>0.930883</td>\n",
       "      <td>1014.672607</td>\n",
       "      <td>1014.506714</td>\n",
       "      <td>6.454920</td>\n",
       "      <td>0.0</td>\n",
       "      <td>100.0</td>\n",
       "    </tr>\n",
       "  </tbody>\n",
       "</table>\n",
       "</div>"
      ],
      "text/plain": [
       "        sounding_id   latitude   longitude        xco2  xco2_uncert  orbit  \\\n",
       "0  2014090602072531  54.465824  160.511734  394.609192     0.772341    958   \n",
       "1  2014090602072573  54.482216  160.537918  394.162170     0.677214    958   \n",
       "2  2014090602072574  54.480503  160.555984  395.652740     0.741387    958   \n",
       "\n",
       "   windspeed_u  windspeed_v  surface_pressure_apriori  surface_pressure  \\\n",
       "0    -2.220395     0.993341               1013.956604       1012.595825   \n",
       "1    -2.180700     0.966224               1014.002808       1012.873962   \n",
       "2    -2.182690     0.930883               1014.672607       1014.506714   \n",
       "\n",
       "    altitude  land_water_indicator  land_fraction  \n",
       "0  13.096467                   0.0          100.0  \n",
       "1  12.102757                   0.0          100.0  \n",
       "2   6.454920                   0.0          100.0  "
      ]
     },
     "execution_count": null,
     "metadata": {},
     "output_type": "execute_result"
    }
   ],
   "source": [
    "url=datasets.get_files_urls('/soudings/')[0]\n",
    "print(url)\n",
    "df=datasets.get_dataframe(url)\n",
    "df.head(3)"
   ]
  },
  {
   "cell_type": "markdown",
   "metadata": {},
   "source": [
    "### List of detected peak"
   ]
  },
  {
   "cell_type": "code",
   "execution_count": null,
   "metadata": {},
   "outputs": [
    {
     "name": "stdout",
     "output_type": "stream",
     "text": [
      "https://storage.gra.cloud.ovh.net/v1/AUTH_2aaacef8e88a4ca897bb93b984bd04dd/oco2//datasets/oco-2/peaks-detected/result_for_oco2_1409.csv\n"
     ]
    },
    {
     "data": {
      "text/html": [
       "<div>\n",
       "<style scoped>\n",
       "    .dataframe tbody tr th:only-of-type {\n",
       "        vertical-align: middle;\n",
       "    }\n",
       "\n",
       "    .dataframe tbody tr th {\n",
       "        vertical-align: top;\n",
       "    }\n",
       "\n",
       "    .dataframe thead th {\n",
       "        text-align: right;\n",
       "    }\n",
       "</style>\n",
       "<table border=\"1\" class=\"dataframe\">\n",
       "  <thead>\n",
       "    <tr style=\"text-align: right;\">\n",
       "      <th></th>\n",
       "      <th>Unnamed: 0</th>\n",
       "      <th>sounding_id</th>\n",
       "      <th>latitude</th>\n",
       "      <th>longitude</th>\n",
       "      <th>orbit</th>\n",
       "      <th>slope</th>\n",
       "      <th>intercept</th>\n",
       "      <th>amplitude</th>\n",
       "      <th>sigma</th>\n",
       "      <th>delta</th>\n",
       "      <th>R</th>\n",
       "      <th>windspeed_u</th>\n",
       "      <th>windspeed_v</th>\n",
       "      <th>surface_pressure_apriori</th>\n",
       "      <th>surface_pressure</th>\n",
       "      <th>altitude</th>\n",
       "      <th>land_water_indicator</th>\n",
       "      <th>land_fraction</th>\n",
       "    </tr>\n",
       "  </thead>\n",
       "  <tbody>\n",
       "    <tr>\n",
       "      <th>0</th>\n",
       "      <td>0</td>\n",
       "      <td>2014090607005973</td>\n",
       "      <td>43.501789</td>\n",
       "      <td>90.922615</td>\n",
       "      <td>961</td>\n",
       "      <td>-0.007228</td>\n",
       "      <td>393.498364</td>\n",
       "      <td>29.462107</td>\n",
       "      <td>9.534737</td>\n",
       "      <td>1.232722</td>\n",
       "      <td>0.660609</td>\n",
       "      <td>2.995442</td>\n",
       "      <td>2.878621</td>\n",
       "      <td>777.691711</td>\n",
       "      <td>774.468628</td>\n",
       "      <td>2221.837158</td>\n",
       "      <td>0.0</td>\n",
       "      <td>100.0</td>\n",
       "    </tr>\n",
       "    <tr>\n",
       "      <th>1</th>\n",
       "      <td>1</td>\n",
       "      <td>2014090607010032</td>\n",
       "      <td>43.544865</td>\n",
       "      <td>90.895233</td>\n",
       "      <td>961</td>\n",
       "      <td>-0.007340</td>\n",
       "      <td>393.459130</td>\n",
       "      <td>31.360344</td>\n",
       "      <td>10.894470</td>\n",
       "      <td>1.148378</td>\n",
       "      <td>0.693845</td>\n",
       "      <td>2.847558</td>\n",
       "      <td>2.515943</td>\n",
       "      <td>774.478516</td>\n",
       "      <td>773.318420</td>\n",
       "      <td>2257.781982</td>\n",
       "      <td>0.0</td>\n",
       "      <td>100.0</td>\n",
       "    </tr>\n",
       "    <tr>\n",
       "      <th>2</th>\n",
       "      <td>2</td>\n",
       "      <td>2014090704095436</td>\n",
       "      <td>-16.547655</td>\n",
       "      <td>143.959457</td>\n",
       "      <td>974</td>\n",
       "      <td>-0.000913</td>\n",
       "      <td>395.653969</td>\n",
       "      <td>36.590754</td>\n",
       "      <td>10.926841</td>\n",
       "      <td>1.335939</td>\n",
       "      <td>0.642492</td>\n",
       "      <td>-3.830105</td>\n",
       "      <td>0.613206</td>\n",
       "      <td>994.341064</td>\n",
       "      <td>996.813232</td>\n",
       "      <td>178.946243</td>\n",
       "      <td>0.0</td>\n",
       "      <td>100.0</td>\n",
       "    </tr>\n",
       "  </tbody>\n",
       "</table>\n",
       "</div>"
      ],
      "text/plain": [
       "   Unnamed: 0       sounding_id   latitude   longitude  orbit     slope  \\\n",
       "0           0  2014090607005973  43.501789   90.922615    961 -0.007228   \n",
       "1           1  2014090607010032  43.544865   90.895233    961 -0.007340   \n",
       "2           2  2014090704095436 -16.547655  143.959457    974 -0.000913   \n",
       "\n",
       "    intercept  amplitude      sigma     delta         R  windspeed_u  \\\n",
       "0  393.498364  29.462107   9.534737  1.232722  0.660609     2.995442   \n",
       "1  393.459130  31.360344  10.894470  1.148378  0.693845     2.847558   \n",
       "2  395.653969  36.590754  10.926841  1.335939  0.642492    -3.830105   \n",
       "\n",
       "   windspeed_v  surface_pressure_apriori  surface_pressure     altitude  \\\n",
       "0     2.878621                777.691711        774.468628  2221.837158   \n",
       "1     2.515943                774.478516        773.318420  2257.781982   \n",
       "2     0.613206                994.341064        996.813232   178.946243   \n",
       "\n",
       "   land_water_indicator  land_fraction  \n",
       "0                   0.0          100.0  \n",
       "1                   0.0          100.0  \n",
       "2                   0.0          100.0  "
      ]
     },
     "execution_count": null,
     "metadata": {},
     "output_type": "execute_result"
    }
   ],
   "source": [
    "url=datasets.get_files_urls('peaks-detected/result')[0]\n",
    "print(url)\n",
    "df=datasets.get_dataframe(url)\n",
    "df.head(3)"
   ]
  },
  {
   "cell_type": "markdown",
   "metadata": {},
   "source": [
    "### Level 2 sounding value for a peak"
   ]
  },
  {
   "cell_type": "code",
   "execution_count": null,
   "metadata": {},
   "outputs": [
    {
     "name": "stdout",
     "output_type": "stream",
     "text": [
      "https://storage.gra.cloud.ovh.net/v1/AUTH_2aaacef8e88a4ca897bb93b984bd04dd/oco2//datasets/oco-2/peaks-detected-details/peak_data-si_2014090607005973.json\n"
     ]
    },
    {
     "data": {
      "text/html": [
       "<div>\n",
       "<style scoped>\n",
       "    .dataframe tbody tr th:only-of-type {\n",
       "        vertical-align: middle;\n",
       "    }\n",
       "\n",
       "    .dataframe tbody tr th {\n",
       "        vertical-align: top;\n",
       "    }\n",
       "\n",
       "    .dataframe thead th {\n",
       "        text-align: right;\n",
       "    }\n",
       "</style>\n",
       "<table border=\"1\" class=\"dataframe\">\n",
       "  <thead>\n",
       "    <tr style=\"text-align: right;\">\n",
       "      <th></th>\n",
       "      <th>orbit</th>\n",
       "      <th>sounding_id</th>\n",
       "      <th>latitude</th>\n",
       "      <th>longitude</th>\n",
       "      <th>xco2</th>\n",
       "      <th>xco2_uncert</th>\n",
       "      <th>windspeed_u</th>\n",
       "      <th>windspeed_v</th>\n",
       "      <th>surface_pressure_apriori</th>\n",
       "      <th>surface_pressure</th>\n",
       "      <th>altitude</th>\n",
       "      <th>land_water_indicator</th>\n",
       "      <th>land_fraction</th>\n",
       "      <th>latitude_orig</th>\n",
       "      <th>longitude_orig</th>\n",
       "      <th>distance</th>\n",
       "      <th>xco2_enhancement</th>\n",
       "    </tr>\n",
       "  </thead>\n",
       "  <tbody>\n",
       "    <tr>\n",
       "      <th>0</th>\n",
       "      <td>961</td>\n",
       "      <td>2014090607004536</td>\n",
       "      <td>42.636265</td>\n",
       "      <td>91.254890</td>\n",
       "      <td>394.385742</td>\n",
       "      <td>0.608847</td>\n",
       "      <td>1.066924</td>\n",
       "      <td>-0.115263</td>\n",
       "      <td>959.215515</td>\n",
       "      <td>956.433167</td>\n",
       "      <td>413.602203</td>\n",
       "      <td>0</td>\n",
       "      <td>100</td>\n",
       "      <td>16.679594</td>\n",
       "      <td>98.151855</td>\n",
       "      <td>-99.885402</td>\n",
       "      <td>0.727142</td>\n",
       "    </tr>\n",
       "    <tr>\n",
       "      <th>1</th>\n",
       "      <td>961</td>\n",
       "      <td>2014090607004502</td>\n",
       "      <td>42.630756</td>\n",
       "      <td>91.208755</td>\n",
       "      <td>394.208282</td>\n",
       "      <td>0.484068</td>\n",
       "      <td>1.061136</td>\n",
       "      <td>-0.146890</td>\n",
       "      <td>959.631592</td>\n",
       "      <td>955.195984</td>\n",
       "      <td>409.457794</td>\n",
       "      <td>0</td>\n",
       "      <td>100</td>\n",
       "      <td>16.679594</td>\n",
       "      <td>98.151855</td>\n",
       "      <td>-99.505273</td>\n",
       "      <td>0.549683</td>\n",
       "    </tr>\n",
       "    <tr>\n",
       "      <th>2</th>\n",
       "      <td>961</td>\n",
       "      <td>2014090607004535</td>\n",
       "      <td>42.639961</td>\n",
       "      <td>91.241791</td>\n",
       "      <td>394.180023</td>\n",
       "      <td>0.581653</td>\n",
       "      <td>1.080121</td>\n",
       "      <td>-0.070387</td>\n",
       "      <td>960.536621</td>\n",
       "      <td>956.597473</td>\n",
       "      <td>401.312225</td>\n",
       "      <td>0</td>\n",
       "      <td>100</td>\n",
       "      <td>16.679594</td>\n",
       "      <td>98.151855</td>\n",
       "      <td>-99.213240</td>\n",
       "      <td>0.521423</td>\n",
       "    </tr>\n",
       "  </tbody>\n",
       "</table>\n",
       "</div>"
      ],
      "text/plain": [
       "   orbit       sounding_id   latitude  longitude        xco2  xco2_uncert  \\\n",
       "0    961  2014090607004536  42.636265  91.254890  394.385742     0.608847   \n",
       "1    961  2014090607004502  42.630756  91.208755  394.208282     0.484068   \n",
       "2    961  2014090607004535  42.639961  91.241791  394.180023     0.581653   \n",
       "\n",
       "   windspeed_u  windspeed_v  surface_pressure_apriori  surface_pressure  \\\n",
       "0     1.066924    -0.115263                959.215515        956.433167   \n",
       "1     1.061136    -0.146890                959.631592        955.195984   \n",
       "2     1.080121    -0.070387                960.536621        956.597473   \n",
       "\n",
       "     altitude  land_water_indicator  land_fraction  latitude_orig  \\\n",
       "0  413.602203                     0            100      16.679594   \n",
       "1  409.457794                     0            100      16.679594   \n",
       "2  401.312225                     0            100      16.679594   \n",
       "\n",
       "   longitude_orig   distance  xco2_enhancement  \n",
       "0       98.151855 -99.885402          0.727142  \n",
       "1       98.151855 -99.505273          0.549683  \n",
       "2       98.151855 -99.213240          0.521423  "
      ]
     },
     "execution_count": null,
     "metadata": {},
     "output_type": "execute_result"
    }
   ],
   "source": [
    "url=datasets.get_files_urls('/peaks-detected-details/')[0]\n",
    "print(url)\n",
    "df=datasets.get_dataframe(url)\n",
    "df.head(3)"
   ]
  },
  {
   "cell_type": "markdown",
   "metadata": {},
   "source": [
    "## Get containers names"
   ]
  },
  {
   "cell_type": "code",
   "execution_count": null,
   "metadata": {},
   "outputs": [
    {
     "name": "stdout",
     "output_type": "stream",
     "text": [
      "Container name: oco2\n"
     ]
    }
   ],
   "source": [
    "for container in datasets.get_containers():\n",
    "    print('Container name:', container['name'])"
   ]
  },
  {
   "cell_type": "markdown",
   "metadata": {},
   "source": [
    "## List files\n",
    "\n",
    "## Open Stack directories structure\n",
    "\n",
    "We do not store the original OCO-2 files from NASA.\n",
    "\n",
    "* /emissions/ contains all the potential source of emissions : factories, power plants, cities...\n",
    "* /soudings/ contains CSV of the raw features extracted from NASA NC4 files.\n",
    "* /peaks-detected/ contains all the peak found in the satellite orbit datas.\n",
    "* /peaks-detected-details/ contains one JSON file of the full data for all detected peak"
   ]
  },
  {
   "cell_type": "code",
   "execution_count": null,
   "metadata": {},
   "outputs": [
    {
     "data": {
      "text/plain": [
       "['https://storage.gra.cloud.ovh.net/v1/AUTH_2aaacef8e88a4ca897bb93b984bd04dd/oco2//map/peaks_and_sources.html']"
      ]
     },
     "execution_count": null,
     "metadata": {},
     "output_type": "execute_result"
    }
   ],
   "source": [
    "datasets.get_files_urls('html')"
   ]
  },
  {
   "cell_type": "markdown",
   "metadata": {},
   "source": [
    "### Get files objects"
   ]
  },
  {
   "cell_type": "code",
   "execution_count": null,
   "metadata": {},
   "outputs": [
    {
     "name": "stdout",
     "output_type": "stream",
     "text": [
      "/datasets/oco-2/peaks-detected/result_for_oco2_1504.csv\t21241\t2020-05-05T17:13:30.884370\n",
      "/datasets/oco-2/soudings/oco2_1504.csv.xz\t75186100\t2020-05-03T07:48:47.793680\n"
     ]
    }
   ],
   "source": [
    "objects = datasets.get_container('oco2')\n",
    "for data in objects:\n",
    "    if 'oco2_1504' in data['name']:\n",
    "        print('{0}\\t{1}\\t{2}'.format(data['name'], data['bytes'], data['last_modified']))\n"
   ]
  },
  {
   "cell_type": "markdown",
   "metadata": {},
   "source": [
    "## Upload files"
   ]
  },
  {
   "cell_type": "code",
   "execution_count": null,
   "metadata": {},
   "outputs": [
    {
     "name": "stderr",
     "output_type": "stream",
     "text": [
      "100%|██████████| 3/3 [00:02<00:00,  1.15it/s]\n"
     ]
    }
   ],
   "source": [
    "datasets.upload(mask='../*.md', prefix=\"/Trash/\",content_type='text/text')\n",
    "# datasets.(\"/media/data-nvme/dev/datasets/OCO2/csv/*.csv\", \"/datasets/oco-2/peaks-detected/\", 'text/csv')\n",
    "# datasets.(\"/media/data-nvme/dev/datasets/OCO2/csv/*.json\", \"/datasets/oco-2/peaks-detected-details/\", 'application/json')"
   ]
  },
  {
   "cell_type": "code",
   "execution_count": null,
   "metadata": {},
   "outputs": [
    {
     "data": {
      "text/plain": [
       "['https://storage.gra.cloud.ovh.net/v1/AUTH_2aaacef8e88a4ca897bb93b984bd04dd/oco2//Trash/CONTRIBUTING.md',\n",
       " 'https://storage.gra.cloud.ovh.net/v1/AUTH_2aaacef8e88a4ca897bb93b984bd04dd/oco2//Trash/README-old.md',\n",
       " 'https://storage.gra.cloud.ovh.net/v1/AUTH_2aaacef8e88a4ca897bb93b984bd04dd/oco2//Trash/README.md']"
      ]
     },
     "execution_count": null,
     "metadata": {},
     "output_type": "execute_result"
    }
   ],
   "source": [
    "datasets.get_files_urls('/Trash/')"
   ]
  },
  {
   "cell_type": "markdown",
   "metadata": {},
   "source": [
    "### Upload HTML\n",
    "Setting content type to 'text/html' allow the file to be display by browsers, without downloading."
   ]
  },
  {
   "cell_type": "code",
   "execution_count": null,
   "metadata": {},
   "outputs": [],
   "source": [
    "#datasets.upload(\"chemin/peaks_and_sources.html\", \"/Trash/\", 'text/html')"
   ]
  },
  {
   "cell_type": "markdown",
   "metadata": {},
   "source": [
    "## Delete files"
   ]
  },
  {
   "cell_type": "code",
   "execution_count": null,
   "metadata": {},
   "outputs": [
    {
     "name": "stdout",
     "output_type": "stream",
     "text": [
      "deleting /Trash/CONTRIBUTING.md\n",
      "deleting /Trash/README-old.md\n",
      "deleting /Trash/README.md\n"
     ]
    }
   ],
   "source": [
    "datasets.delete_files(\"/Trash/\", dry_run=False)"
   ]
  },
  {
   "cell_type": "code",
   "execution_count": null,
   "metadata": {},
   "outputs": [
    {
     "name": "stdout",
     "output_type": "stream",
     "text": [
      "Converted 03_25_OCO2_Data_Exploration.ipynb.\n",
      "Converted 04_01_OCO2_Work_Base.ipynb.\n",
      "Converted 04_04_OCO2_China_Peaks.ipynb.\n",
      "Converted 04_15_OCO2_Laiwu_Peak_Detection.ipynb.\n",
      "Converted CO2_emissions_Inventory_data.ipynb.\n",
      "Converted Christian-datasets-Distances.ipynb.\n",
      "Converted Find_Peaks_with_LSTM_autoencoders.ipynb.\n",
      "Converted Laiwu_Plume-more_data.ipynb.\n",
      "Converted Laiwu_Plume-more_data_CD_exploration_selection_peaks.ipynb.\n",
      "Converted Laiwu_Plume.ipynb.\n",
      "Converted Untitled.ipynb.\n",
      "Converted WIP_OCO2_Capture.ipynb.\n",
      "Converted WIP_OCO2_Peaks_Wind.ipynb.\n",
      "Converted WIP_OCO2_Peaks_Wind_Visualization.ipynb.\n",
      "Converted find_peak_bco_test.ipynb.\n",
      "Converted index.ipynb.\n",
      "Converted oco2peak-datasets.ipynb.\n",
      "Converted oco2peak-find_peak.ipynb.\n",
      "Converted oco2peak-map.ipynb.\n",
      "Converted oco2peak-nc4_convert.ipynb.\n",
      "Converted oco2peak-swift_utils.ipynb.\n",
      "Converted show_map.ipynb.\n",
      "Converted view_peak.ipynb.\n"
     ]
    }
   ],
   "source": [
    "from nbdev.export import notebook2script\n",
    "notebook2script()"
   ]
  },
  {
   "cell_type": "code",
   "execution_count": null,
   "metadata": {},
   "outputs": [],
   "source": []
  }
 ],
 "metadata": {
  "kernelspec": {
   "display_name": "Python 3",
   "language": "python",
   "name": "python3"
  }
 },
 "nbformat": 4,
 "nbformat_minor": 4
}
