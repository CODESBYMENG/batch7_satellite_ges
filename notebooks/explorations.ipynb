{
 "cells": [
  {
   "cell_type": "code",
   "execution_count": null,
   "metadata": {},
   "outputs": [],
   "source": [
    "#hide\n",
    "# Put these at the top of every notebook, to get automatic reloading and inline plotting\n",
    "%reload_ext autoreload\n",
    "%autoreload 2\n",
    "#%matplotlib inline\n",
    "from IPython.core.interactiveshell import InteractiveShell\n",
    "InteractiveShell.ast_node_interactivity = \"all\""
   ]
  },
  {
   "cell_type": "markdown",
   "metadata": {},
   "source": [
    "# Misc notebook to explore stuff"
   ]
  },
  {
   "cell_type": "markdown",
   "metadata": {},
   "source": [
    "# Compute total number of peaks found"
   ]
  },
  {
   "cell_type": "code",
   "execution_count": null,
   "metadata": {},
   "outputs": [
    {
     "data": {
      "text/html": [
       "<div>\n",
       "<style scoped>\n",
       "    .dataframe tbody tr th:only-of-type {\n",
       "        vertical-align: middle;\n",
       "    }\n",
       "\n",
       "    .dataframe tbody tr th {\n",
       "        vertical-align: top;\n",
       "    }\n",
       "\n",
       "    .dataframe thead th {\n",
       "        text-align: right;\n",
       "    }\n",
       "</style>\n",
       "<table border=\"1\" class=\"dataframe\">\n",
       "  <thead>\n",
       "    <tr style=\"text-align: right;\">\n",
       "      <th></th>\n",
       "      <th>sounding_id</th>\n",
       "      <th>latitude</th>\n",
       "      <th>longitude</th>\n",
       "      <th>orbit</th>\n",
       "      <th>slope</th>\n",
       "      <th>intercept</th>\n",
       "      <th>amplitude</th>\n",
       "      <th>sigma</th>\n",
       "      <th>delta</th>\n",
       "      <th>R</th>\n",
       "      <th>windspeed_u</th>\n",
       "      <th>windspeed_v</th>\n",
       "      <th>surface_pressure</th>\n",
       "      <th>tcwv</th>\n",
       "      <th>gCO2_per_s</th>\n",
       "      <th>ktCO2_per_h</th>\n",
       "    </tr>\n",
       "  </thead>\n",
       "  <tbody>\n",
       "    <tr>\n",
       "      <th>0</th>\n",
       "      <td>2015070100572473</td>\n",
       "      <td>24.106812</td>\n",
       "      <td>-175.359512</td>\n",
       "      <td>5297</td>\n",
       "      <td>0.000226</td>\n",
       "      <td>400.284133</td>\n",
       "      <td>26.893780</td>\n",
       "      <td>18.481664</td>\n",
       "      <td>0.580525</td>\n",
       "      <td>0.591475</td>\n",
       "      <td>-0.308541</td>\n",
       "      <td>-3.949672</td>\n",
       "      <td>1019.459167</td>\n",
       "      <td>39.914757</td>\n",
       "      <td>5.444867e+05</td>\n",
       "      <td>1.960152</td>\n",
       "    </tr>\n",
       "    <tr>\n",
       "      <th>1</th>\n",
       "      <td>2015070100572631</td>\n",
       "      <td>24.216938</td>\n",
       "      <td>-175.369827</td>\n",
       "      <td>5297</td>\n",
       "      <td>-0.000625</td>\n",
       "      <td>400.327771</td>\n",
       "      <td>22.352668</td>\n",
       "      <td>18.658028</td>\n",
       "      <td>0.477940</td>\n",
       "      <td>0.562192</td>\n",
       "      <td>-0.184806</td>\n",
       "      <td>-3.998436</td>\n",
       "      <td>1019.247925</td>\n",
       "      <td>41.623878</td>\n",
       "      <td>4.151127e+05</td>\n",
       "      <td>1.494406</td>\n",
       "    </tr>\n",
       "    <tr>\n",
       "      <th>2</th>\n",
       "      <td>2015070100572734</td>\n",
       "      <td>24.246803</td>\n",
       "      <td>-175.404663</td>\n",
       "      <td>5297</td>\n",
       "      <td>-0.001219</td>\n",
       "      <td>400.359630</td>\n",
       "      <td>18.692141</td>\n",
       "      <td>21.909247</td>\n",
       "      <td>0.340362</td>\n",
       "      <td>0.520856</td>\n",
       "      <td>-0.180492</td>\n",
       "      <td>-4.012889</td>\n",
       "      <td>1018.860596</td>\n",
       "      <td>42.403202</td>\n",
       "      <td>3.462071e+05</td>\n",
       "      <td>1.246345</td>\n",
       "    </tr>\n",
       "    <tr>\n",
       "      <th>3</th>\n",
       "      <td>2015070101094572</td>\n",
       "      <td>64.293205</td>\n",
       "      <td>165.489151</td>\n",
       "      <td>5297</td>\n",
       "      <td>-0.008637</td>\n",
       "      <td>393.325075</td>\n",
       "      <td>15.872395</td>\n",
       "      <td>10.840370</td>\n",
       "      <td>0.584129</td>\n",
       "      <td>0.507229</td>\n",
       "      <td>4.146475</td>\n",
       "      <td>2.930043</td>\n",
       "      <td>960.575500</td>\n",
       "      <td>17.547136</td>\n",
       "      <td>1.171816e+06</td>\n",
       "      <td>4.218539</td>\n",
       "    </tr>\n",
       "    <tr>\n",
       "      <th>4</th>\n",
       "      <td>2015070101103801</td>\n",
       "      <td>66.908943</td>\n",
       "      <td>162.326157</td>\n",
       "      <td>5297</td>\n",
       "      <td>-0.013336</td>\n",
       "      <td>391.419228</td>\n",
       "      <td>6.816829</td>\n",
       "      <td>18.545482</td>\n",
       "      <td>0.146641</td>\n",
       "      <td>0.683719</td>\n",
       "      <td>1.936393</td>\n",
       "      <td>0.879399</td>\n",
       "      <td>983.892700</td>\n",
       "      <td>25.126535</td>\n",
       "      <td>1.933155e+05</td>\n",
       "      <td>0.695936</td>\n",
       "    </tr>\n",
       "    <tr>\n",
       "      <th>...</th>\n",
       "      <td>...</td>\n",
       "      <td>...</td>\n",
       "      <td>...</td>\n",
       "      <td>...</td>\n",
       "      <td>...</td>\n",
       "      <td>...</td>\n",
       "      <td>...</td>\n",
       "      <td>...</td>\n",
       "      <td>...</td>\n",
       "      <td>...</td>\n",
       "      <td>...</td>\n",
       "      <td>...</td>\n",
       "      <td>...</td>\n",
       "      <td>...</td>\n",
       "      <td>...</td>\n",
       "      <td>...</td>\n",
       "    </tr>\n",
       "    <tr>\n",
       "      <th>2456</th>\n",
       "      <td>2016103123052635</td>\n",
       "      <td>1.911193</td>\n",
       "      <td>-145.014420</td>\n",
       "      <td>12417</td>\n",
       "      <td>-0.001728</td>\n",
       "      <td>400.869417</td>\n",
       "      <td>21.050990</td>\n",
       "      <td>18.064324</td>\n",
       "      <td>0.464901</td>\n",
       "      <td>0.553807</td>\n",
       "      <td>-4.232261</td>\n",
       "      <td>3.088099</td>\n",
       "      <td>1014.123596</td>\n",
       "      <td>29.906164</td>\n",
       "      <td>1.137181e+06</td>\n",
       "      <td>4.093853</td>\n",
       "    </tr>\n",
       "    <tr>\n",
       "      <th>2457</th>\n",
       "      <td>2016103123052705</td>\n",
       "      <td>1.948609</td>\n",
       "      <td>-145.023117</td>\n",
       "      <td>12417</td>\n",
       "      <td>-0.002484</td>\n",
       "      <td>400.841788</td>\n",
       "      <td>22.227525</td>\n",
       "      <td>19.479426</td>\n",
       "      <td>0.455224</td>\n",
       "      <td>0.578773</td>\n",
       "      <td>-4.218349</td>\n",
       "      <td>3.095272</td>\n",
       "      <td>1014.302002</td>\n",
       "      <td>29.937342</td>\n",
       "      <td>1.195449e+06</td>\n",
       "      <td>4.303616</td>\n",
       "    </tr>\n",
       "    <tr>\n",
       "      <th>2458</th>\n",
       "      <td>2016103123052832</td>\n",
       "      <td>2.056763</td>\n",
       "      <td>-145.040375</td>\n",
       "      <td>12417</td>\n",
       "      <td>-0.004009</td>\n",
       "      <td>400.800864</td>\n",
       "      <td>23.021691</td>\n",
       "      <td>26.167765</td>\n",
       "      <td>0.350979</td>\n",
       "      <td>0.653377</td>\n",
       "      <td>-4.175054</td>\n",
       "      <td>3.129609</td>\n",
       "      <td>1014.051880</td>\n",
       "      <td>30.202429</td>\n",
       "      <td>1.219576e+06</td>\n",
       "      <td>4.390474</td>\n",
       "    </tr>\n",
       "    <tr>\n",
       "      <th>2459</th>\n",
       "      <td>2016103123053106</td>\n",
       "      <td>2.161568</td>\n",
       "      <td>-145.074081</td>\n",
       "      <td>12417</td>\n",
       "      <td>-0.005350</td>\n",
       "      <td>400.773774</td>\n",
       "      <td>18.820473</td>\n",
       "      <td>21.081700</td>\n",
       "      <td>0.356152</td>\n",
       "      <td>0.689490</td>\n",
       "      <td>-4.129006</td>\n",
       "      <td>3.170549</td>\n",
       "      <td>1013.964111</td>\n",
       "      <td>30.427629</td>\n",
       "      <td>9.806960e+05</td>\n",
       "      <td>3.530506</td>\n",
       "    </tr>\n",
       "    <tr>\n",
       "      <th>2460</th>\n",
       "      <td>2016103123053201</td>\n",
       "      <td>2.273020</td>\n",
       "      <td>-145.087921</td>\n",
       "      <td>12417</td>\n",
       "      <td>-0.006554</td>\n",
       "      <td>400.761771</td>\n",
       "      <td>10.613842</td>\n",
       "      <td>20.754152</td>\n",
       "      <td>0.204022</td>\n",
       "      <td>0.694697</td>\n",
       "      <td>-4.083208</td>\n",
       "      <td>3.214275</td>\n",
       "      <td>1014.388550</td>\n",
       "      <td>30.746578</td>\n",
       "      <td>5.442455e+05</td>\n",
       "      <td>1.959284</td>\n",
       "    </tr>\n",
       "  </tbody>\n",
       "</table>\n",
       "<p>136916 rows × 16 columns</p>\n",
       "</div>"
      ],
      "text/plain": [
       "           sounding_id   latitude   longitude  orbit     slope   intercept  \\\n",
       "0     2015070100572473  24.106812 -175.359512   5297  0.000226  400.284133   \n",
       "1     2015070100572631  24.216938 -175.369827   5297 -0.000625  400.327771   \n",
       "2     2015070100572734  24.246803 -175.404663   5297 -0.001219  400.359630   \n",
       "3     2015070101094572  64.293205  165.489151   5297 -0.008637  393.325075   \n",
       "4     2015070101103801  66.908943  162.326157   5297 -0.013336  391.419228   \n",
       "...                ...        ...         ...    ...       ...         ...   \n",
       "2456  2016103123052635   1.911193 -145.014420  12417 -0.001728  400.869417   \n",
       "2457  2016103123052705   1.948609 -145.023117  12417 -0.002484  400.841788   \n",
       "2458  2016103123052832   2.056763 -145.040375  12417 -0.004009  400.800864   \n",
       "2459  2016103123053106   2.161568 -145.074081  12417 -0.005350  400.773774   \n",
       "2460  2016103123053201   2.273020 -145.087921  12417 -0.006554  400.761771   \n",
       "\n",
       "      amplitude      sigma     delta         R  windspeed_u  windspeed_v  \\\n",
       "0     26.893780  18.481664  0.580525  0.591475    -0.308541    -3.949672   \n",
       "1     22.352668  18.658028  0.477940  0.562192    -0.184806    -3.998436   \n",
       "2     18.692141  21.909247  0.340362  0.520856    -0.180492    -4.012889   \n",
       "3     15.872395  10.840370  0.584129  0.507229     4.146475     2.930043   \n",
       "4      6.816829  18.545482  0.146641  0.683719     1.936393     0.879399   \n",
       "...         ...        ...       ...       ...          ...          ...   \n",
       "2456  21.050990  18.064324  0.464901  0.553807    -4.232261     3.088099   \n",
       "2457  22.227525  19.479426  0.455224  0.578773    -4.218349     3.095272   \n",
       "2458  23.021691  26.167765  0.350979  0.653377    -4.175054     3.129609   \n",
       "2459  18.820473  21.081700  0.356152  0.689490    -4.129006     3.170549   \n",
       "2460  10.613842  20.754152  0.204022  0.694697    -4.083208     3.214275   \n",
       "\n",
       "      surface_pressure       tcwv    gCO2_per_s  ktCO2_per_h  \n",
       "0          1019.459167  39.914757  5.444867e+05     1.960152  \n",
       "1          1019.247925  41.623878  4.151127e+05     1.494406  \n",
       "2          1018.860596  42.403202  3.462071e+05     1.246345  \n",
       "3           960.575500  17.547136  1.171816e+06     4.218539  \n",
       "4           983.892700  25.126535  1.933155e+05     0.695936  \n",
       "...                ...        ...           ...          ...  \n",
       "2456       1014.123596  29.906164  1.137181e+06     4.093853  \n",
       "2457       1014.302002  29.937342  1.195449e+06     4.303616  \n",
       "2458       1014.051880  30.202429  1.219576e+06     4.390474  \n",
       "2459       1013.964111  30.427629  9.806960e+05     3.530506  \n",
       "2460       1014.388550  30.746578  5.442455e+05     1.959284  \n",
       "\n",
       "[136916 rows x 16 columns]"
      ]
     },
     "execution_count": null,
     "metadata": {},
     "output_type": "execute_result"
    }
   ],
   "source": [
    "import pandas as pd\n",
    "import glob\n",
    "df = pd.DataFrame()\n",
    "for file in glob.glob('/media/data-nvme/dev/datasets/OCO2/peaks-v9/*.csv', recursive=False):\n",
    "    df_temp = pd.read_csv(file, sep=';')\n",
    "    df = df.append(df_temp)\n",
    "df"
   ]
  },
  {
   "cell_type": "code",
   "execution_count": null,
   "metadata": {},
   "outputs": [
    {
     "data": {
      "text/plain": [
       "51.46002721578818"
      ]
     },
     "execution_count": null,
     "metadata": {},
     "output_type": "execute_result"
    },
    {
     "data": {
      "text/plain": [
       "2016013004181573.0"
      ]
     },
     "execution_count": null,
     "metadata": {},
     "output_type": "execute_result"
    }
   ],
   "source": [
    "df.ktCO2_per_h.max()\n",
    "df.loc[df.ktCO2_per_h==df.ktCO2_per_h.max()].iloc[0].sounding_id"
   ]
  },
  {
   "cell_type": "code",
   "execution_count": null,
   "metadata": {},
   "outputs": [
    {
     "data": {
      "text/html": [
       "<div>\n",
       "<style scoped>\n",
       "    .dataframe tbody tr th:only-of-type {\n",
       "        vertical-align: middle;\n",
       "    }\n",
       "\n",
       "    .dataframe tbody tr th {\n",
       "        vertical-align: top;\n",
       "    }\n",
       "\n",
       "    .dataframe thead th {\n",
       "        text-align: right;\n",
       "    }\n",
       "</style>\n",
       "<table border=\"1\" class=\"dataframe\">\n",
       "  <thead>\n",
       "    <tr style=\"text-align: right;\">\n",
       "      <th></th>\n",
       "      <th>sounding_id</th>\n",
       "      <th>latitude</th>\n",
       "      <th>longitude</th>\n",
       "      <th>orbit</th>\n",
       "      <th>slope</th>\n",
       "      <th>intercept</th>\n",
       "      <th>amplitude</th>\n",
       "      <th>sigma</th>\n",
       "      <th>delta</th>\n",
       "      <th>R</th>\n",
       "      <th>windspeed_u</th>\n",
       "      <th>windspeed_v</th>\n",
       "      <th>surface_pressure</th>\n",
       "      <th>tcwv</th>\n",
       "      <th>gCO2_per_s</th>\n",
       "      <th>ktCO2_per_h</th>\n",
       "    </tr>\n",
       "  </thead>\n",
       "  <tbody>\n",
       "    <tr>\n",
       "      <th>0</th>\n",
       "      <td>2015070100572473</td>\n",
       "      <td>24.106812</td>\n",
       "      <td>-175.359512</td>\n",
       "      <td>5297</td>\n",
       "      <td>0.000226</td>\n",
       "      <td>400.284133</td>\n",
       "      <td>26.893780</td>\n",
       "      <td>18.481664</td>\n",
       "      <td>0.580525</td>\n",
       "      <td>0.591475</td>\n",
       "      <td>-0.308541</td>\n",
       "      <td>-3.949672</td>\n",
       "      <td>1019.459167</td>\n",
       "      <td>39.914757</td>\n",
       "      <td>5.444867e+05</td>\n",
       "      <td>1.960152</td>\n",
       "    </tr>\n",
       "    <tr>\n",
       "      <th>1</th>\n",
       "      <td>2015070100572631</td>\n",
       "      <td>24.216938</td>\n",
       "      <td>-175.369827</td>\n",
       "      <td>5297</td>\n",
       "      <td>-0.000625</td>\n",
       "      <td>400.327771</td>\n",
       "      <td>22.352668</td>\n",
       "      <td>18.658028</td>\n",
       "      <td>0.477940</td>\n",
       "      <td>0.562192</td>\n",
       "      <td>-0.184806</td>\n",
       "      <td>-3.998436</td>\n",
       "      <td>1019.247925</td>\n",
       "      <td>41.623878</td>\n",
       "      <td>4.151127e+05</td>\n",
       "      <td>1.494406</td>\n",
       "    </tr>\n",
       "    <tr>\n",
       "      <th>2</th>\n",
       "      <td>2015070100572734</td>\n",
       "      <td>24.246803</td>\n",
       "      <td>-175.404663</td>\n",
       "      <td>5297</td>\n",
       "      <td>-0.001219</td>\n",
       "      <td>400.359630</td>\n",
       "      <td>18.692141</td>\n",
       "      <td>21.909247</td>\n",
       "      <td>0.340362</td>\n",
       "      <td>0.520856</td>\n",
       "      <td>-0.180492</td>\n",
       "      <td>-4.012889</td>\n",
       "      <td>1018.860596</td>\n",
       "      <td>42.403202</td>\n",
       "      <td>3.462071e+05</td>\n",
       "      <td>1.246345</td>\n",
       "    </tr>\n",
       "    <tr>\n",
       "      <th>3</th>\n",
       "      <td>2015070101094572</td>\n",
       "      <td>64.293205</td>\n",
       "      <td>165.489151</td>\n",
       "      <td>5297</td>\n",
       "      <td>-0.008637</td>\n",
       "      <td>393.325075</td>\n",
       "      <td>15.872395</td>\n",
       "      <td>10.840370</td>\n",
       "      <td>0.584129</td>\n",
       "      <td>0.507229</td>\n",
       "      <td>4.146475</td>\n",
       "      <td>2.930043</td>\n",
       "      <td>960.575500</td>\n",
       "      <td>17.547136</td>\n",
       "      <td>1.171816e+06</td>\n",
       "      <td>4.218539</td>\n",
       "    </tr>\n",
       "    <tr>\n",
       "      <th>4</th>\n",
       "      <td>2015070101103801</td>\n",
       "      <td>66.908943</td>\n",
       "      <td>162.326157</td>\n",
       "      <td>5297</td>\n",
       "      <td>-0.013336</td>\n",
       "      <td>391.419228</td>\n",
       "      <td>6.816829</td>\n",
       "      <td>18.545482</td>\n",
       "      <td>0.146641</td>\n",
       "      <td>0.683719</td>\n",
       "      <td>1.936393</td>\n",
       "      <td>0.879399</td>\n",
       "      <td>983.892700</td>\n",
       "      <td>25.126535</td>\n",
       "      <td>1.933155e+05</td>\n",
       "      <td>0.695936</td>\n",
       "    </tr>\n",
       "    <tr>\n",
       "      <th>...</th>\n",
       "      <td>...</td>\n",
       "      <td>...</td>\n",
       "      <td>...</td>\n",
       "      <td>...</td>\n",
       "      <td>...</td>\n",
       "      <td>...</td>\n",
       "      <td>...</td>\n",
       "      <td>...</td>\n",
       "      <td>...</td>\n",
       "      <td>...</td>\n",
       "      <td>...</td>\n",
       "      <td>...</td>\n",
       "      <td>...</td>\n",
       "      <td>...</td>\n",
       "      <td>...</td>\n",
       "      <td>...</td>\n",
       "    </tr>\n",
       "    <tr>\n",
       "      <th>1501</th>\n",
       "      <td>2020013121555771</td>\n",
       "      <td>-3.162153</td>\n",
       "      <td>-126.226120</td>\n",
       "      <td>29702</td>\n",
       "      <td>0.003111</td>\n",
       "      <td>410.271111</td>\n",
       "      <td>5.047962</td>\n",
       "      <td>14.027559</td>\n",
       "      <td>0.143564</td>\n",
       "      <td>0.518497</td>\n",
       "      <td>-4.617935</td>\n",
       "      <td>2.030735</td>\n",
       "      <td>1011.186462</td>\n",
       "      <td>33.102734</td>\n",
       "      <td>3.209835e+05</td>\n",
       "      <td>1.155541</td>\n",
       "    </tr>\n",
       "    <tr>\n",
       "      <th>1502</th>\n",
       "      <td>2020013121555831</td>\n",
       "      <td>-3.124929</td>\n",
       "      <td>-126.234833</td>\n",
       "      <td>29702</td>\n",
       "      <td>0.003010</td>\n",
       "      <td>410.277607</td>\n",
       "      <td>5.526621</td>\n",
       "      <td>8.907864</td>\n",
       "      <td>0.247512</td>\n",
       "      <td>0.515314</td>\n",
       "      <td>-4.629416</td>\n",
       "      <td>2.035738</td>\n",
       "      <td>1012.165466</td>\n",
       "      <td>33.271229</td>\n",
       "      <td>3.526228e+05</td>\n",
       "      <td>1.269442</td>\n",
       "    </tr>\n",
       "    <tr>\n",
       "      <th>1503</th>\n",
       "      <td>2020013121560576</td>\n",
       "      <td>-2.767140</td>\n",
       "      <td>-126.319405</td>\n",
       "      <td>29702</td>\n",
       "      <td>0.004262</td>\n",
       "      <td>410.434316</td>\n",
       "      <td>2.034446</td>\n",
       "      <td>31.420488</td>\n",
       "      <td>0.025831</td>\n",
       "      <td>0.570299</td>\n",
       "      <td>-4.664302</td>\n",
       "      <td>2.084498</td>\n",
       "      <td>1011.317383</td>\n",
       "      <td>34.005138</td>\n",
       "      <td>1.304572e+05</td>\n",
       "      <td>0.469646</td>\n",
       "    </tr>\n",
       "    <tr>\n",
       "      <th>1504</th>\n",
       "      <td>2020013123351436</td>\n",
       "      <td>-1.893355</td>\n",
       "      <td>-151.233307</td>\n",
       "      <td>29703</td>\n",
       "      <td>0.000214</td>\n",
       "      <td>410.288779</td>\n",
       "      <td>15.174053</td>\n",
       "      <td>6.560968</td>\n",
       "      <td>0.922664</td>\n",
       "      <td>0.556970</td>\n",
       "      <td>-5.893700</td>\n",
       "      <td>0.288363</td>\n",
       "      <td>1009.555298</td>\n",
       "      <td>45.396519</td>\n",
       "      <td>1.345056e+06</td>\n",
       "      <td>4.842203</td>\n",
       "    </tr>\n",
       "    <tr>\n",
       "      <th>1505</th>\n",
       "      <td>2020013123351538</td>\n",
       "      <td>-1.858543</td>\n",
       "      <td>-151.243011</td>\n",
       "      <td>29703</td>\n",
       "      <td>-0.000019</td>\n",
       "      <td>410.245430</td>\n",
       "      <td>17.081261</td>\n",
       "      <td>3.971358</td>\n",
       "      <td>1.715896</td>\n",
       "      <td>0.531320</td>\n",
       "      <td>-5.882268</td>\n",
       "      <td>0.296848</td>\n",
       "      <td>1010.309326</td>\n",
       "      <td>45.016781</td>\n",
       "      <td>1.511869e+06</td>\n",
       "      <td>5.442729</td>\n",
       "    </tr>\n",
       "  </tbody>\n",
       "</table>\n",
       "<p>144168 rows × 16 columns</p>\n",
       "</div>"
      ],
      "text/plain": [
       "           sounding_id   latitude   longitude  orbit     slope   intercept  \\\n",
       "0     2015070100572473  24.106812 -175.359512   5297  0.000226  400.284133   \n",
       "1     2015070100572631  24.216938 -175.369827   5297 -0.000625  400.327771   \n",
       "2     2015070100572734  24.246803 -175.404663   5297 -0.001219  400.359630   \n",
       "3     2015070101094572  64.293205  165.489151   5297 -0.008637  393.325075   \n",
       "4     2015070101103801  66.908943  162.326157   5297 -0.013336  391.419228   \n",
       "...                ...        ...         ...    ...       ...         ...   \n",
       "1501  2020013121555771  -3.162153 -126.226120  29702  0.003111  410.271111   \n",
       "1502  2020013121555831  -3.124929 -126.234833  29702  0.003010  410.277607   \n",
       "1503  2020013121560576  -2.767140 -126.319405  29702  0.004262  410.434316   \n",
       "1504  2020013123351436  -1.893355 -151.233307  29703  0.000214  410.288779   \n",
       "1505  2020013123351538  -1.858543 -151.243011  29703 -0.000019  410.245430   \n",
       "\n",
       "      amplitude      sigma     delta         R  windspeed_u  windspeed_v  \\\n",
       "0     26.893780  18.481664  0.580525  0.591475    -0.308541    -3.949672   \n",
       "1     22.352668  18.658028  0.477940  0.562192    -0.184806    -3.998436   \n",
       "2     18.692141  21.909247  0.340362  0.520856    -0.180492    -4.012889   \n",
       "3     15.872395  10.840370  0.584129  0.507229     4.146475     2.930043   \n",
       "4      6.816829  18.545482  0.146641  0.683719     1.936393     0.879399   \n",
       "...         ...        ...       ...       ...          ...          ...   \n",
       "1501   5.047962  14.027559  0.143564  0.518497    -4.617935     2.030735   \n",
       "1502   5.526621   8.907864  0.247512  0.515314    -4.629416     2.035738   \n",
       "1503   2.034446  31.420488  0.025831  0.570299    -4.664302     2.084498   \n",
       "1504  15.174053   6.560968  0.922664  0.556970    -5.893700     0.288363   \n",
       "1505  17.081261   3.971358  1.715896  0.531320    -5.882268     0.296848   \n",
       "\n",
       "      surface_pressure       tcwv    gCO2_per_s  ktCO2_per_h  \n",
       "0          1019.459167  39.914757  5.444867e+05     1.960152  \n",
       "1          1019.247925  41.623878  4.151127e+05     1.494406  \n",
       "2          1018.860596  42.403202  3.462071e+05     1.246345  \n",
       "3           960.575500  17.547136  1.171816e+06     4.218539  \n",
       "4           983.892700  25.126535  1.933155e+05     0.695936  \n",
       "...                ...        ...           ...          ...  \n",
       "1501       1011.186462  33.102734  3.209835e+05     1.155541  \n",
       "1502       1012.165466  33.271229  3.526228e+05     1.269442  \n",
       "1503       1011.317383  34.005138  1.304572e+05     0.469646  \n",
       "1504       1009.555298  45.396519  1.345056e+06     4.842203  \n",
       "1505       1010.309326  45.016781  1.511869e+06     5.442729  \n",
       "\n",
       "[144168 rows x 16 columns]"
      ]
     },
     "execution_count": null,
     "metadata": {},
     "output_type": "execute_result"
    }
   ],
   "source": [
    "for file in glob.glob('/media/data-nvme/dev/datasets/OCO2/peaks-v10/*.csv', recursive=False):\n",
    "    df_temp = pd.read_csv(file, sep=';')\n",
    "    df = df.append(df_temp)\n",
    "df"
   ]
  },
  {
   "cell_type": "code",
   "execution_count": null,
   "metadata": {},
   "outputs": [],
   "source": [
    "from datetime import datetime\n",
    "def to_date(a):\n",
    "    return datetime.strptime(str(a), '%Y%m%d%H%M%S%f')\n",
    "\n",
    "df['date'] = df['sounding_id'].apply(to_date)"
   ]
  },
  {
   "cell_type": "code",
   "execution_count": null,
   "metadata": {},
   "outputs": [],
   "source": [
    "df = df.set_index('date')"
   ]
  },
  {
   "cell_type": "code",
   "execution_count": null,
   "metadata": {},
   "outputs": [],
   "source": [
    "DF = df[['orbit']]\n",
    "GB=DF.groupby([DF.index.year.values,DF.index.month.values]).count()\n"
   ]
  },
  {
   "cell_type": "code",
   "execution_count": null,
   "metadata": {},
   "outputs": [
    {
     "data": {
      "text/plain": [
       "<matplotlib.axes._subplots.AxesSubplot at 0x7f14623bf590>"
      ]
     },
     "execution_count": null,
     "metadata": {},
     "output_type": "execute_result"
    },
    {
     "data": {
      "image/png": "[encoded data removed]",
      "text/plain": [
       "<Figure size 1440x720 with 1 Axes>"
      ]
     },
     "metadata": {
      "needs_background": "light"
     },
     "output_type": "display_data"
    }
   ],
   "source": [
    "GB.plot(figsize=(20,10), kind=\"bar\", title=\"Number of peaks found by month\", legend=False)"
   ]
  },
  {
   "cell_type": "markdown",
   "metadata": {},
   "source": [
    "# Compute monthly count of soudings"
   ]
  },
  {
   "cell_type": "code",
   "execution_count": null,
   "metadata": {},
   "outputs": [
    {
     "name": "stdout",
     "output_type": "stream",
     "text": [
      "{'yearmonth': '1903', 'xco2': 1913921}\n",
      "{'yearmonth': '1912', 'xco2': 2528809}\n",
      "{'yearmonth': '1906', 'xco2': 1970775}\n",
      "{'yearmonth': '1909', 'xco2': 2720365}\n",
      "{'yearmonth': '1907', 'xco2': 2590434}\n",
      "{'yearmonth': '1908', 'xco2': 2695956}\n",
      "{'yearmonth': '1904', 'xco2': 2280869}\n",
      "{'yearmonth': '1902', 'xco2': 2493892}\n",
      "{'yearmonth': '1910', 'xco2': 2783847}\n",
      "{'yearmonth': '1905', 'xco2': 2396647}\n",
      "{'yearmonth': '1911', 'xco2': 2505806}\n",
      "{'yearmonth': '1901', 'xco2': 2732097}\n"
     ]
    },
    {
     "data": {
      "text/html": [
       "<div>\n",
       "<style scoped>\n",
       "    .dataframe tbody tr th:only-of-type {\n",
       "        vertical-align: middle;\n",
       "    }\n",
       "\n",
       "    .dataframe tbody tr th {\n",
       "        vertical-align: top;\n",
       "    }\n",
       "\n",
       "    .dataframe thead th {\n",
       "        text-align: right;\n",
       "    }\n",
       "</style>\n",
       "<table border=\"1\" class=\"dataframe\">\n",
       "  <thead>\n",
       "    <tr style=\"text-align: right;\">\n",
       "      <th></th>\n",
       "      <th>xco2</th>\n",
       "      <th>yearmonth</th>\n",
       "    </tr>\n",
       "  </thead>\n",
       "  <tbody>\n",
       "    <tr>\n",
       "      <th>0</th>\n",
       "      <td>1913921.0</td>\n",
       "      <td>1903</td>\n",
       "    </tr>\n",
       "    <tr>\n",
       "      <th>1</th>\n",
       "      <td>2528809.0</td>\n",
       "      <td>1912</td>\n",
       "    </tr>\n",
       "    <tr>\n",
       "      <th>2</th>\n",
       "      <td>1970775.0</td>\n",
       "      <td>1906</td>\n",
       "    </tr>\n",
       "    <tr>\n",
       "      <th>3</th>\n",
       "      <td>2720365.0</td>\n",
       "      <td>1909</td>\n",
       "    </tr>\n",
       "    <tr>\n",
       "      <th>4</th>\n",
       "      <td>2590434.0</td>\n",
       "      <td>1907</td>\n",
       "    </tr>\n",
       "    <tr>\n",
       "      <th>5</th>\n",
       "      <td>2695956.0</td>\n",
       "      <td>1908</td>\n",
       "    </tr>\n",
       "    <tr>\n",
       "      <th>6</th>\n",
       "      <td>2280869.0</td>\n",
       "      <td>1904</td>\n",
       "    </tr>\n",
       "    <tr>\n",
       "      <th>7</th>\n",
       "      <td>2493892.0</td>\n",
       "      <td>1902</td>\n",
       "    </tr>\n",
       "    <tr>\n",
       "      <th>8</th>\n",
       "      <td>2783847.0</td>\n",
       "      <td>1910</td>\n",
       "    </tr>\n",
       "    <tr>\n",
       "      <th>9</th>\n",
       "      <td>2396647.0</td>\n",
       "      <td>1905</td>\n",
       "    </tr>\n",
       "    <tr>\n",
       "      <th>10</th>\n",
       "      <td>2505806.0</td>\n",
       "      <td>1911</td>\n",
       "    </tr>\n",
       "    <tr>\n",
       "      <th>11</th>\n",
       "      <td>2732097.0</td>\n",
       "      <td>1901</td>\n",
       "    </tr>\n",
       "  </tbody>\n",
       "</table>\n",
       "</div>"
      ],
      "text/plain": [
       "         xco2 yearmonth\n",
       "0   1913921.0      1903\n",
       "1   2528809.0      1912\n",
       "2   1970775.0      1906\n",
       "3   2720365.0      1909\n",
       "4   2590434.0      1907\n",
       "5   2695956.0      1908\n",
       "6   2280869.0      1904\n",
       "7   2493892.0      1902\n",
       "8   2783847.0      1910\n",
       "9   2396647.0      1905\n",
       "10  2505806.0      1911\n",
       "11  2732097.0      1901"
      ]
     },
     "execution_count": null,
     "metadata": {},
     "output_type": "execute_result"
    }
   ],
   "source": [
    "import pandas as pd\n",
    "import glob\n",
    "import re\n",
    "df = pd.DataFrame()\n",
    "files = glob.glob('/media/data-nvme/dev/datasets/OCO2/csv-v9/*19*.bz2', recursive=False)\n",
    "for file in files:\n",
    "    yearmonth = re.findall(r'(\\d{4})\\.', file)[-1]\n",
    "    #print(yearmonth)\n",
    "    df_temp = pd.read_csv(file, sep=';')\n",
    "    value = { 'yearmonth' : yearmonth,\n",
    "               'xco2' : df_temp.xco2.count()}\n",
    "    print(value)\n",
    "    df = df.append(value, ignore_index=True)\n",
    "df"
   ]
  },
  {
   "cell_type": "markdown",
   "metadata": {},
   "source": [
    "# Test Progress bar"
   ]
  },
  {
   "cell_type": "code",
   "execution_count": null,
   "metadata": {},
   "outputs": [
    {
     "data": {
      "text/html": [],
      "text/plain": [
       "<IPython.core.display.HTML object>"
      ]
     },
     "metadata": {},
     "output_type": "display_data"
    }
   ],
   "source": [
    "from fastprogress.fastprogress import master_bar, progress_bar\n",
    "from time import sleep\n",
    "mb = master_bar(range(1))\n",
    "for i in mb:\n",
    "    sleep(0.1)\n",
    "    for j in progress_bar(range(10), parent=mb):\n",
    "        sleep(0.1)\n",
    "    #mb.child.comment = f'second bar stat'\n",
    "    #mb.write(f'Finished loop {i}.')"
   ]
  },
  {
   "cell_type": "code",
   "execution_count": null,
   "metadata": {},
   "outputs": [
    {
     "data": {
      "text/html": [
       "\n",
       "    <div>\n",
       "        <style>\n",
       "            /* Turns off some styling */\n",
       "            progress {\n",
       "                /* gets rid of default border in Firefox and Opera. */\n",
       "                border: none;\n",
       "                /* Needs to be in here for Safari polyfill so background images work as expected. */\n",
       "                background-size: auto;\n",
       "            }\n",
       "            .progress-bar-interrupted, .progress-bar-interrupted::-webkit-progress-bar {\n",
       "                background: #F44336;\n",
       "            }\n",
       "        </style>\n",
       "      <progress value='0' class='progress-bar-interrupted' max='1', style='width:300px; height:20px; vertical-align: middle;'></progress>\n",
       "      Interrupted\n",
       "    </div>\n",
       "    \n",
       "\n",
       "\n",
       "    <div>\n",
       "        <style>\n",
       "            /* Turns off some styling */\n",
       "            progress {\n",
       "                /* gets rid of default border in Firefox and Opera. */\n",
       "                border: none;\n",
       "                /* Needs to be in here for Safari polyfill so background images work as expected. */\n",
       "                background-size: auto;\n",
       "            }\n",
       "            .progress-bar-interrupted, .progress-bar-interrupted::-webkit-progress-bar {\n",
       "                background: #F44336;\n",
       "            }\n",
       "        </style>\n",
       "      <progress value='10' class='' max='10', style='width:300px; height:20px; vertical-align: middle;'></progress>\n",
       "      100.00% [10/10 00:01<00:00]\n",
       "    </div>\n",
       "    "
      ],
      "text/plain": [
       "<IPython.core.display.HTML object>"
      ]
     },
     "metadata": {},
     "output_type": "display_data"
    },
    {
     "name": "stdout",
     "output_type": "stream",
     "text": [
      "0\n"
     ]
    }
   ],
   "source": [
    "mb = master_bar(range(1))\n",
    "a = mb.__iter__().__next__()\n",
    "print(a)\n",
    "\n",
    "for j in progress_bar(range(10), parent=mb):\n",
    "    sleep(0.1)"
   ]
  },
  {
   "cell_type": "code",
   "execution_count": null,
   "metadata": {},
   "outputs": [
    {
     "data": {
      "text/html": [
       "\n",
       "    <div>\n",
       "        <style>\n",
       "            /* Turns off some styling */\n",
       "            progress {\n",
       "                /* gets rid of default border in Firefox and Opera. */\n",
       "                border: none;\n",
       "                /* Needs to be in here for Safari polyfill so background images work as expected. */\n",
       "                background-size: auto;\n",
       "            }\n",
       "            .progress-bar-interrupted, .progress-bar-interrupted::-webkit-progress-bar {\n",
       "                background: #F44336;\n",
       "            }\n",
       "        </style>\n",
       "      <progress value='1' class='' max='1', style='width:300px; height:20px; vertical-align: middle;'></progress>\n",
       "      100.00% [1/1 00:00<00:00]\n",
       "    </div>\n",
       "    \n",
       "\n",
       "\n",
       "    <div>\n",
       "        <style>\n",
       "            /* Turns off some styling */\n",
       "            progress {\n",
       "                /* gets rid of default border in Firefox and Opera. */\n",
       "                border: none;\n",
       "                /* Needs to be in here for Safari polyfill so background images work as expected. */\n",
       "                background-size: auto;\n",
       "            }\n",
       "            .progress-bar-interrupted, .progress-bar-interrupted::-webkit-progress-bar {\n",
       "                background: #F44336;\n",
       "            }\n",
       "        </style>\n",
       "      <progress value='10' class='' max='10', style='width:300px; height:20px; vertical-align: middle;'></progress>\n",
       "      100.00% [10/10 00:01<00:00]\n",
       "    </div>\n",
       "    "
      ],
      "text/plain": [
       "<IPython.core.display.HTML object>"
      ]
     },
     "metadata": {},
     "output_type": "display_data"
    }
   ],
   "source": [
    "mb = master_bar(range(1))\n",
    "for i in mb: None\n",
    "for j in progress_bar(range(10), parent=mb):\n",
    "    sleep(0.1)"
   ]
  },
  {
   "cell_type": "markdown",
   "metadata": {},
   "source": [
    "# Open Stack upload"
   ]
  },
  {
   "cell_type": "code",
   "execution_count": null,
   "metadata": {},
   "outputs": [
    {
     "data": {
      "text/plain": [
       "['https://storage.gra.cloud.ovh.net/v1/AUTH_2aaacef8e88a4ca897bb93b984bd04dd/oco2//datasets/oco-2/peaks-detected/result_for_oco2_1410.csv',\n",
       " 'https://storage.gra.cloud.ovh.net/v1/AUTH_2aaacef8e88a4ca897bb93b984bd04dd/oco2//datasets/oco-2/peaks-detected/result_for_oco2_1411.csv',\n",
       " 'https://storage.gra.cloud.ovh.net/v1/AUTH_2aaacef8e88a4ca897bb93b984bd04dd/oco2//datasets/oco-2/peaks-detected/result_for_oco2_1412.csv']"
      ]
     },
     "execution_count": null,
     "metadata": {},
     "output_type": "execute_result"
    }
   ],
   "source": [
    "from oco2peak.datasets import Datasets\n",
    "config = './configs/config.json'\n",
    "datasets = Datasets(config)\n",
    "datasets.get_files_urls(prefix=\"/datasets/oco-2/peaks-detected/\", pattern='141')"
   ]
  },
  {
   "cell_type": "code",
   "execution_count": null,
   "metadata": {},
   "outputs": [
    {
     "data": {
      "text/html": [
       "\n",
       "    <div>\n",
       "        <style>\n",
       "            /* Turns off some styling */\n",
       "            progress {\n",
       "                /* gets rid of default border in Firefox and Opera. */\n",
       "                border: none;\n",
       "                /* Needs to be in here for Safari polyfill so background images work as expected. */\n",
       "                background-size: auto;\n",
       "            }\n",
       "            .progress-bar-interrupted, .progress-bar-interrupted::-webkit-progress-bar {\n",
       "                background: #F44336;\n",
       "            }\n",
       "        </style>\n",
       "      <progress value='1' class='' max='1', style='width:300px; height:20px; vertical-align: middle;'></progress>\n",
       "      100.00% [1/1 00:00<00:00]\n",
       "    </div>\n",
       "    \n",
       "\n",
       "\n",
       "    <div>\n",
       "        <style>\n",
       "            /* Turns off some styling */\n",
       "            progress {\n",
       "                /* gets rid of default border in Firefox and Opera. */\n",
       "                border: none;\n",
       "                /* Needs to be in here for Safari polyfill so background images work as expected. */\n",
       "                background-size: auto;\n",
       "            }\n",
       "            .progress-bar-interrupted, .progress-bar-interrupted::-webkit-progress-bar {\n",
       "                background: #F44336;\n",
       "            }\n",
       "        </style>\n",
       "      <progress value='63' class='' max='63', style='width:300px; height:20px; vertical-align: middle;'></progress>\n",
       "      100.00% [63/63 00:37<00:00]\n",
       "    </div>\n",
       "    "
      ],
      "text/plain": [
       "<IPython.core.display.HTML object>"
      ]
     },
     "metadata": {},
     "output_type": "display_data"
    },
    {
     "data": {
      "text/html": [
       "\n",
       "    <div>\n",
       "        <style>\n",
       "            /* Turns off some styling */\n",
       "            progress {\n",
       "                /* gets rid of default border in Firefox and Opera. */\n",
       "                border: none;\n",
       "                /* Needs to be in here for Safari polyfill so background images work as expected. */\n",
       "                background-size: auto;\n",
       "            }\n",
       "            .progress-bar-interrupted, .progress-bar-interrupted::-webkit-progress-bar {\n",
       "                background: #F44336;\n",
       "            }\n",
       "        </style>\n",
       "      <progress value='1' class='' max='1', style='width:300px; height:20px; vertical-align: middle;'></progress>\n",
       "      100.00% [1/1 00:00<00:00]\n",
       "    </div>\n",
       "    \n",
       "\n",
       "\n",
       "    <div>\n",
       "        <style>\n",
       "            /* Turns off some styling */\n",
       "            progress {\n",
       "                /* gets rid of default border in Firefox and Opera. */\n",
       "                border: none;\n",
       "                /* Needs to be in here for Safari polyfill so background images work as expected. */\n",
       "                background-size: auto;\n",
       "            }\n",
       "            .progress-bar-interrupted, .progress-bar-interrupted::-webkit-progress-bar {\n",
       "                background: #F44336;\n",
       "            }\n",
       "        </style>\n",
       "      <progress value='4' class='' max='4', style='width:300px; height:20px; vertical-align: middle;'></progress>\n",
       "      100.00% [4/4 00:02<00:00]\n",
       "    </div>\n",
       "    "
      ],
      "text/plain": [
       "<IPython.core.display.HTML object>"
      ]
     },
     "metadata": {},
     "output_type": "display_data"
    }
   ],
   "source": [
    "datasets.upload(\"/media/data-nvme/dev/datasets/OCO2/peaks-v9/*.csv\", \"/datasets/oco-2/peaks-detected/\", 'text/csv')\n",
    "datasets.upload(\"/media/data-nvme/dev/datasets/OCO2/peaks-v10/*.csv\", \"/datasets/oco-2/peaks-detected/\", 'text/csv')"
   ]
  },
  {
   "cell_type": "code",
   "execution_count": null,
   "metadata": {},
   "outputs": [],
   "source": [
    "datasets.get_files_urls('/datasets/oco-2/peaks-detected/')"
   ]
  },
  {
   "cell_type": "code",
   "execution_count": null,
   "metadata": {},
   "outputs": [],
   "source": [
    "# datasets.upload(\"/media/data-nvme/dev/datasets/OCO2/peaks-v9/*.json\", \"/datasets/oco-2/peaks-detected-details/\", 'application/json')\n",
    "# datasets.upload(\"/media/data-nvme/dev/datasets/OCO2/peaks-v10/*.json\", \"/datasets/oco-2/peaks-detected-details/\", 'application/json')"
   ]
  },
  {
   "cell_type": "code",
   "execution_count": null,
   "metadata": {},
   "outputs": [],
   "source": [
    "#datasets.delete_files(prefix=\"/datasets/oco-2/peaks-detected-details/\", dry_run=False)"
   ]
  },
  {
   "cell_type": "code",
   "execution_count": null,
   "metadata": {},
   "outputs": [
    {
     "name": "stdout",
     "output_type": "stream",
     "text": [
      "/media/data-nvme/dev/datasets/OCO2/csv-v10/oco2_2001.csv.bz2\n",
      "/media/data-nvme/dev/datasets/OCO2/csv-v10/oco2_2002.csv.bz2\n",
      "/media/data-nvme/dev/datasets/OCO2/csv-v10/oco2_2003.csv.bz2\n",
      "/media/data-nvme/dev/datasets/OCO2/csv-v10/oco2_2004.csv.bz2\n",
      "/media/data-nvme/dev/datasets/OCO2/csv-v10/oco2_202003.csv.bz2\n",
      "/media/data-nvme/dev/datasets/OCO2/csv-v10/oco2_202004.csv.bz2\n"
     ]
    }
   ],
   "source": [
    "!ls /media/data-nvme/dev/datasets/OCO2/csv-v10/*.bz2"
   ]
  },
  {
   "cell_type": "code",
   "execution_count": null,
   "metadata": {},
   "outputs": [
    {
     "name": "stdout",
     "output_type": "stream",
     "text": [
      "412.6066118049324\n"
     ]
    }
   ],
   "source": [
    "df_temp = pd.read_csv('/media/data-nvme/dev/datasets/OCO2/csv-v10/oco2_202004.csv.bz2', sep=';')\n",
    "value = df_temp.xco2.mean()\n",
    "print(value)"
   ]
  },
  {
   "cell_type": "markdown",
   "metadata": {},
   "source": [
    "# Mean of CO2 per month"
   ]
  },
  {
   "cell_type": "code",
   "execution_count": null,
   "metadata": {},
   "outputs": [
    {
     "name": "stdout",
     "output_type": "stream",
     "text": [
      "{'yearmonth': '1601', 'xco2': 400.4561308962127}\n",
      "{'yearmonth': '1809', 'xco2': 404.79656034784387}\n",
      "{'yearmonth': '1903', 'xco2': 408.63329987679856}\n",
      "{'yearmonth': '1912', 'xco2': 409.19623519400125}\n",
      "{'yearmonth': '1701', 'xco2': 402.72433279145713}\n",
      "{'yearmonth': '1906', 'xco2': 409.52251675663615}\n",
      "{'yearmonth': '1909', 'xco2': 407.6837585288238}\n",
      "{'yearmonth': '1810', 'xco2': 405.37417328163224}\n",
      "{'yearmonth': '1712', 'xco2': 404.267726302568}\n",
      "{'yearmonth': '1802', 'xco2': 405.15625823639573}\n",
      "{'yearmonth': '1807', 'xco2': 405.3865592119696}\n",
      "{'yearmonth': '1806', 'xco2': 406.6914806549711}\n",
      "{'yearmonth': '1811', 'xco2': 406.0137927301061}\n",
      "{'yearmonth': '1706', 'xco2': 404.6130364379264}\n",
      "{'yearmonth': '1412', 'xco2': 397.1411983643511}\n",
      "{'yearmonth': '1907', 'xco2': 408.58671854500807}\n",
      "{'yearmonth': '1508', 'xco2': 397.4488539577091}\n",
      "{'yearmonth': '1908', 'xco2': 407.9104977360547}\n",
      "{'yearmonth': '1710', 'xco2': 403.16976397760754}\n",
      "{'yearmonth': '1504', 'xco2': 399.3998716077096}\n",
      "{'yearmonth': '1904', 'xco2': 409.3328656829057}\n",
      "{'yearmonth': '1803', 'xco2': 405.9635535520236}\n",
      "{'yearmonth': '1702', 'xco2': 403.1192416215079}\n",
      "{'yearmonth': '1709', 'xco2': 402.6838715173987}\n",
      "{'yearmonth': '1607', 'xco2': 401.26618359933633}\n",
      "{'yearmonth': '1805', 'xco2': 407.15646938904086}\n",
      "{'yearmonth': '1804', 'xco2': 406.6553221300155}\n",
      "{'yearmonth': '1512', 'xco2': 399.82853694689527}\n",
      "{'yearmonth': '1902', 'xco2': 407.5935872217949}\n",
      "{'yearmonth': '1510', 'xco2': 398.494266883645}\n",
      "{'yearmonth': '1502', 'xco2': 398.032829329775}\n",
      "{'yearmonth': '1410', 'xco2': 395.87818442136967}\n",
      "{'yearmonth': '1505', 'xco2': 399.95472902955066}\n",
      "{'yearmonth': '1411', 'xco2': 396.6049113036989}\n",
      "{'yearmonth': '1704', 'xco2': 404.6273707661944}\n",
      "{'yearmonth': '1606', 'xco2': 402.5266003836602}\n",
      "{'yearmonth': '1501', 'xco2': 397.61163141430137}\n",
      "{'yearmonth': '1910', 'xco2': 408.1220734706071}\n",
      "{'yearmonth': '1612', 'xco2': 402.1761303713802}\n",
      "{'yearmonth': '1611', 'xco2': 401.6441940736211}\n",
      "{'yearmonth': '1703', 'xco2': 403.8422202643375}\n",
      "{'yearmonth': '1609', 'xco2': 400.48311588950986}\n",
      "{'yearmonth': '1707', 'xco2': 403.2829833031801}\n",
      "{'yearmonth': '1905', 'xco2': 409.7867020547775}\n",
      "{'yearmonth': '1604', 'xco2': 402.7828689752249}\n",
      "{'yearmonth': '1711', 'xco2': 403.78413367147584}\n",
      "{'yearmonth': '1511', 'xco2': 399.2275955871074}\n",
      "{'yearmonth': '1506', 'xco2': 399.34203481060746}\n",
      "{'yearmonth': '1911', 'xco2': 408.66491717548985}\n",
      "{'yearmonth': '1503', 'xco2': 398.57866791424715}\n",
      "{'yearmonth': '1901', 'xco2': 407.23581328589927}\n",
      "{'yearmonth': '1603', 'xco2': 401.7341727238528}\n",
      "{'yearmonth': '1801', 'xco2': 404.6410176461028}\n",
      "{'yearmonth': '1409', 'xco2': 395.4638340064117}\n",
      "{'yearmonth': '1608', 'xco2': 400.3990380360866}\n",
      "{'yearmonth': '1602', 'xco2': 401.04182507750977}\n",
      "{'yearmonth': '1605', 'xco2': 403.0815027577195}\n",
      "{'yearmonth': '1705', 'xco2': 405.0389330577134}\n",
      "{'yearmonth': '1610', 'xco2': 401.0590830594593}\n",
      "{'yearmonth': '1812', 'xco2': 406.75514819877304}\n",
      "{'yearmonth': '1808', 'xco2': 404.7848393177189}\n",
      "{'yearmonth': '1509', 'xco2': 397.60851784310216}\n",
      "{'yearmonth': '1507', 'xco2': 398.23637739585024}\n",
      "{'yearmonth': '2001', 'xco2': 410.7073538049095}\n",
      "{'yearmonth': '2002', 'xco2': 411.51864898001514}\n",
      "{'yearmonth': '2003', 'xco2': 411.9493262410011}\n",
      "{'yearmonth': '2004', 'xco2': 412.44856308851485}\n"
     ]
    },
    {
     "data": {
      "text/html": [
       "<div>\n",
       "<style scoped>\n",
       "    .dataframe tbody tr th:only-of-type {\n",
       "        vertical-align: middle;\n",
       "    }\n",
       "\n",
       "    .dataframe tbody tr th {\n",
       "        vertical-align: top;\n",
       "    }\n",
       "\n",
       "    .dataframe thead th {\n",
       "        text-align: right;\n",
       "    }\n",
       "</style>\n",
       "<table border=\"1\" class=\"dataframe\">\n",
       "  <thead>\n",
       "    <tr style=\"text-align: right;\">\n",
       "      <th></th>\n",
       "      <th>xco2</th>\n",
       "      <th>yearmonth</th>\n",
       "    </tr>\n",
       "  </thead>\n",
       "  <tbody>\n",
       "    <tr>\n",
       "      <th>0</th>\n",
       "      <td>400.456131</td>\n",
       "      <td>1601</td>\n",
       "    </tr>\n",
       "    <tr>\n",
       "      <th>1</th>\n",
       "      <td>404.796560</td>\n",
       "      <td>1809</td>\n",
       "    </tr>\n",
       "    <tr>\n",
       "      <th>2</th>\n",
       "      <td>408.633300</td>\n",
       "      <td>1903</td>\n",
       "    </tr>\n",
       "    <tr>\n",
       "      <th>3</th>\n",
       "      <td>409.196235</td>\n",
       "      <td>1912</td>\n",
       "    </tr>\n",
       "    <tr>\n",
       "      <th>4</th>\n",
       "      <td>402.724333</td>\n",
       "      <td>1701</td>\n",
       "    </tr>\n",
       "    <tr>\n",
       "      <th>...</th>\n",
       "      <td>...</td>\n",
       "      <td>...</td>\n",
       "    </tr>\n",
       "    <tr>\n",
       "      <th>62</th>\n",
       "      <td>398.236377</td>\n",
       "      <td>1507</td>\n",
       "    </tr>\n",
       "    <tr>\n",
       "      <th>63</th>\n",
       "      <td>410.707354</td>\n",
       "      <td>2001</td>\n",
       "    </tr>\n",
       "    <tr>\n",
       "      <th>64</th>\n",
       "      <td>411.518649</td>\n",
       "      <td>2002</td>\n",
       "    </tr>\n",
       "    <tr>\n",
       "      <th>65</th>\n",
       "      <td>411.949326</td>\n",
       "      <td>2003</td>\n",
       "    </tr>\n",
       "    <tr>\n",
       "      <th>66</th>\n",
       "      <td>412.448563</td>\n",
       "      <td>2004</td>\n",
       "    </tr>\n",
       "  </tbody>\n",
       "</table>\n",
       "<p>67 rows × 2 columns</p>\n",
       "</div>"
      ],
      "text/plain": [
       "          xco2 yearmonth\n",
       "0   400.456131      1601\n",
       "1   404.796560      1809\n",
       "2   408.633300      1903\n",
       "3   409.196235      1912\n",
       "4   402.724333      1701\n",
       "..         ...       ...\n",
       "62  398.236377      1507\n",
       "63  410.707354      2001\n",
       "64  411.518649      2002\n",
       "65  411.949326      2003\n",
       "66  412.448563      2004\n",
       "\n",
       "[67 rows x 2 columns]"
      ]
     },
     "execution_count": null,
     "metadata": {},
     "output_type": "execute_result"
    }
   ],
   "source": [
    "import pandas as pd\n",
    "import glob\n",
    "import re\n",
    "df = pd.DataFrame()\n",
    "files = glob.glob('/media/data-nvme/dev/datasets/OCO2/csv-v9/*.bz2', recursive=False)\n",
    "for file in glob.glob('/media/data-nvme/dev/datasets/OCO2/csv-v10/*.bz2', recursive=False):\n",
    "    files.append(file)\n",
    "for file in files:\n",
    "    yearmonth = re.findall(r'(\\d{4})\\.', file)[-1]\n",
    "    #print(yearmonth)\n",
    "    df_temp = pd.read_csv(file, sep=';')\n",
    "    value = { 'yearmonth' : yearmonth,\n",
    "               'xco2' : df_temp.xco2.mean()}\n",
    "    print(value)\n",
    "    df = df.append(value, ignore_index=True)\n",
    "df"
   ]
  },
  {
   "cell_type": "code",
   "execution_count": null,
   "metadata": {},
   "outputs": [],
   "source": [
    "df.to_csv('xco2_monthly_mean.csv', sep=';', index=False)"
   ]
  },
  {
   "cell_type": "code",
   "execution_count": null,
   "metadata": {},
   "outputs": [],
   "source": [
    "df = pd.read_csv('xco2_monthly_mean.csv', sep=';')"
   ]
  },
  {
   "cell_type": "code",
   "execution_count": null,
   "metadata": {},
   "outputs": [
    {
     "data": {
      "text/html": [
       "<div>\n",
       "<style scoped>\n",
       "    .dataframe tbody tr th:only-of-type {\n",
       "        vertical-align: middle;\n",
       "    }\n",
       "\n",
       "    .dataframe tbody tr th {\n",
       "        vertical-align: top;\n",
       "    }\n",
       "\n",
       "    .dataframe thead th {\n",
       "        text-align: right;\n",
       "    }\n",
       "</style>\n",
       "<table border=\"1\" class=\"dataframe\">\n",
       "  <thead>\n",
       "    <tr style=\"text-align: right;\">\n",
       "      <th></th>\n",
       "      <th>xco2</th>\n",
       "    </tr>\n",
       "    <tr>\n",
       "      <th>yearmonth</th>\n",
       "      <th></th>\n",
       "    </tr>\n",
       "  </thead>\n",
       "  <tbody>\n",
       "    <tr>\n",
       "      <th>1409</th>\n",
       "      <td>395.463834</td>\n",
       "    </tr>\n",
       "    <tr>\n",
       "      <th>1410</th>\n",
       "      <td>395.878184</td>\n",
       "    </tr>\n",
       "    <tr>\n",
       "      <th>1411</th>\n",
       "      <td>396.604911</td>\n",
       "    </tr>\n",
       "    <tr>\n",
       "      <th>1412</th>\n",
       "      <td>397.141198</td>\n",
       "    </tr>\n",
       "    <tr>\n",
       "      <th>1501</th>\n",
       "      <td>397.611631</td>\n",
       "    </tr>\n",
       "    <tr>\n",
       "      <th>...</th>\n",
       "      <td>...</td>\n",
       "    </tr>\n",
       "    <tr>\n",
       "      <th>1912</th>\n",
       "      <td>409.196235</td>\n",
       "    </tr>\n",
       "    <tr>\n",
       "      <th>2001</th>\n",
       "      <td>410.707354</td>\n",
       "    </tr>\n",
       "    <tr>\n",
       "      <th>2002</th>\n",
       "      <td>411.518649</td>\n",
       "    </tr>\n",
       "    <tr>\n",
       "      <th>2003</th>\n",
       "      <td>411.949326</td>\n",
       "    </tr>\n",
       "    <tr>\n",
       "      <th>2004</th>\n",
       "      <td>412.448563</td>\n",
       "    </tr>\n",
       "  </tbody>\n",
       "</table>\n",
       "<p>67 rows × 1 columns</p>\n",
       "</div>"
      ],
      "text/plain": [
       "                 xco2\n",
       "yearmonth            \n",
       "1409       395.463834\n",
       "1410       395.878184\n",
       "1411       396.604911\n",
       "1412       397.141198\n",
       "1501       397.611631\n",
       "...               ...\n",
       "1912       409.196235\n",
       "2001       410.707354\n",
       "2002       411.518649\n",
       "2003       411.949326\n",
       "2004       412.448563\n",
       "\n",
       "[67 rows x 1 columns]"
      ]
     },
     "execution_count": null,
     "metadata": {},
     "output_type": "execute_result"
    }
   ],
   "source": [
    "df = df.set_index('yearmonth').sort_index()\n",
    "df"
   ]
  },
  {
   "cell_type": "code",
   "execution_count": null,
   "metadata": {},
   "outputs": [],
   "source": []
  },
  {
   "cell_type": "code",
   "execution_count": null,
   "metadata": {},
   "outputs": [
    {
     "data": {
      "text/plain": [
       "<matplotlib.axes._subplots.AxesSubplot at 0x7f424758a250>"
      ]
     },
     "execution_count": null,
     "metadata": {},
     "output_type": "execute_result"
    },
    {
     "data": {
      "image/png": "[encoded data removed]",
      "text/plain": [
       "<Figure size 1440x720 with 1 Axes>"
      ]
     },
     "metadata": {
      "needs_background": "light"
     },
     "output_type": "display_data"
    }
   ],
   "source": [
    "df.plot(figsize=(20,10), kind=\"bar\", title=\"Mean of CO2 per month\", legend=False)"
   ]
  },
  {
   "cell_type": "code",
   "execution_count": null,
   "metadata": {},
   "outputs": [
    {
     "data": {
      "application/vnd.plotly.v1+json": {
       "config": {
        "plotlyServerURL": "https://plot.ly"
       },
       "data": [
        {
         "alignmentgroup": "True",
         "hovertemplate": "x=%{x}<br>xco2=%{marker.color}<extra></extra>",
         "legendgroup": "",
         "marker": {
          "color": [
           395.4638340064117,
           395.8781844213697,
           396.6049113036989,
           397.1411983643511,
           397.61163141430137,
           398.032829329775,
           398.5786679142472,
           399.39987160770966,
           399.9547290295506,
           399.34203481060746,
           398.23637739585024,
           397.4488539577091,
           397.60851784310216,
           398.494266883645,
           399.2275955871074,
           399.8285369468952,
           400.4561308962127,
           401.04182507750977,
           401.73417272385285,
           402.78286897522486,
           403.0815027577195,
           402.5266003836602,
           401.26618359933633,
           400.39903803608667,
           400.4831158895098,
           401.0590830594593,
           401.6441940736211,
           402.17613037138017,
           402.72433279145713,
           403.11924162150785,
           403.84222026433747,
           404.62737076619436,
           405.0389330577134,
           404.6130364379264,
           403.2829833031802,
           402.6838715173987,
           403.1697639776075,
           403.78413367147584,
           404.26772630256795,
           404.64101764610285,
           405.15625823639573,
           405.9635535520236,
           406.65532213001546,
           407.1564693890409,
           406.69148065497114,
           405.3865592119696,
           404.7848393177189,
           404.7965603478439,
           405.3741732816322,
           406.0137927301061,
           406.755148198773,
           407.23581328589927,
           407.5935872217949,
           408.63329987679856,
           409.33286568290566,
           409.78670205477755,
           409.5225167566362,
           408.58671854500807,
           407.9104977360547,
           407.6837585288238,
           408.1220734706071,
           408.6649171754898,
           409.19623519400125,
           410.70735380490953,
           411.5186489800152,
           411.94932624100113,
           412.44856308851485
          ],
          "coloraxis": "coloraxis"
         },
         "name": "",
         "offsetgroup": "",
         "orientation": "v",
         "showlegend": false,
         "textposition": "auto",
         "type": "bar",
         "x": [
          "2014/09",
          "2014/10",
          "2014/11",
          "2014/12",
          "2015/01",
          "2015/02",
          "2015/03",
          "2015/04",
          "2015/05",
          "2015/06",
          "2015/07",
          "2015/08",
          "2015/09",
          "2015/10",
          "2015/11",
          "2015/12",
          "2016/01",
          "2016/02",
          "2016/03",
          "2016/04",
          "2016/05",
          "2016/06",
          "2016/07",
          "2016/08",
          "2016/09",
          "2016/10",
          "2016/11",
          "2016/12",
          "2017/01",
          "2017/02",
          "2017/03",
          "2017/04",
          "2017/05",
          "2017/06",
          "2017/07",
          "2017/09",
          "2017/10",
          "2017/11",
          "2017/12",
          "2018/01",
          "2018/02",
          "2018/03",
          "2018/04",
          "2018/05",
          "2018/06",
          "2018/07",
          "2018/08",
          "2018/09",
          "2018/10",
          "2018/11",
          "2018/12",
          "2019/01",
          "2019/02",
          "2019/03",
          "2019/04",
          "2019/05",
          "2019/06",
          "2019/07",
          "2019/08",
          "2019/09",
          "2019/10",
          "2019/11",
          "2019/12",
          "2020/01",
          "2020/02",
          "2020/03",
          "2020/04"
         ],
         "xaxis": "x",
         "y": [
          395.4638340064117,
          395.8781844213697,
          396.6049113036989,
          397.1411983643511,
          397.61163141430137,
          398.032829329775,
          398.5786679142472,
          399.39987160770966,
          399.9547290295506,
          399.34203481060746,
          398.23637739585024,
          397.4488539577091,
          397.60851784310216,
          398.494266883645,
          399.2275955871074,
          399.8285369468952,
          400.4561308962127,
          401.04182507750977,
          401.73417272385285,
          402.78286897522486,
          403.0815027577195,
          402.5266003836602,
          401.26618359933633,
          400.39903803608667,
          400.4831158895098,
          401.0590830594593,
          401.6441940736211,
          402.17613037138017,
          402.72433279145713,
          403.11924162150785,
          403.84222026433747,
          404.62737076619436,
          405.0389330577134,
          404.6130364379264,
          403.2829833031802,
          402.6838715173987,
          403.1697639776075,
          403.78413367147584,
          404.26772630256795,
          404.64101764610285,
          405.15625823639573,
          405.9635535520236,
          406.65532213001546,
          407.1564693890409,
          406.69148065497114,
          405.3865592119696,
          404.7848393177189,
          404.7965603478439,
          405.3741732816322,
          406.0137927301061,
          406.755148198773,
          407.23581328589927,
          407.5935872217949,
          408.63329987679856,
          409.33286568290566,
          409.78670205477755,
          409.5225167566362,
          408.58671854500807,
          407.9104977360547,
          407.6837585288238,
          408.1220734706071,
          408.6649171754898,
          409.19623519400125,
          410.70735380490953,
          411.5186489800152,
          411.94932624100113,
          412.44856308851485
         ],
         "yaxis": "y"
        }
       ],
       "layout": {
        "autosize": true,
        "barmode": "relative",
        "coloraxis": {
         "colorbar": {
          "title": {
           "text": "xco2"
          }
         },
         "colorscale": [
          [
           0,
           "#0d0887"
          ],
          [
           0.1111111111111111,
           "#46039f"
          ],
          [
           0.2222222222222222,
           "#7201a8"
          ],
          [
           0.3333333333333333,
           "#9c179e"
          ],
          [
           0.4444444444444444,
           "#bd3786"
          ],
          [
           0.5555555555555556,
           "#d8576b"
          ],
          [
           0.6666666666666666,
           "#ed7953"
          ],
          [
           0.7777777777777778,
           "#fb9f3a"
          ],
          [
           0.8888888888888888,
           "#fdca26"
          ],
          [
           1,
           "#f0f921"
          ]
         ]
        },
        "legend": {
         "tracegroupgap": 0
        },
        "margin": {
         "t": 60
        },
        "template": {
         "data": {
          "bar": [
           {
            "error_x": {
             "color": "#2a3f5f"
            },
            "error_y": {
             "color": "#2a3f5f"
            },
            "marker": {
             "line": {
              "color": "#E5ECF6",
              "width": 0.5
             }
            },
            "type": "bar"
           }
          ],
          "barpolar": [
           {
            "marker": {
             "line": {
              "color": "#E5ECF6",
              "width": 0.5
             }
            },
            "type": "barpolar"
           }
          ],
          "carpet": [
           {
            "aaxis": {
             "endlinecolor": "#2a3f5f",
             "gridcolor": "white",
             "linecolor": "white",
             "minorgridcolor": "white",
             "startlinecolor": "#2a3f5f"
            },
            "baxis": {
             "endlinecolor": "#2a3f5f",
             "gridcolor": "white",
             "linecolor": "white",
             "minorgridcolor": "white",
             "startlinecolor": "#2a3f5f"
            },
            "type": "carpet"
           }
          ],
          "choropleth": [
           {
            "colorbar": {
             "outlinewidth": 0,
             "ticks": ""
            },
            "type": "choropleth"
           }
          ],
          "contour": [
           {
            "colorbar": {
             "outlinewidth": 0,
             "ticks": ""
            },
            "colorscale": [
             [
              0,
              "#0d0887"
             ],
             [
              0.1111111111111111,
              "#46039f"
             ],
             [
              0.2222222222222222,
              "#7201a8"
             ],
             [
              0.3333333333333333,
              "#9c179e"
             ],
             [
              0.4444444444444444,
              "#bd3786"
             ],
             [
              0.5555555555555556,
              "#d8576b"
             ],
             [
              0.6666666666666666,
              "#ed7953"
             ],
             [
              0.7777777777777778,
              "#fb9f3a"
             ],
             [
              0.8888888888888888,
              "#fdca26"
             ],
             [
              1,
              "#f0f921"
             ]
            ],
            "type": "contour"
           }
          ],
          "contourcarpet": [
           {
            "colorbar": {
             "outlinewidth": 0,
             "ticks": ""
            },
            "type": "contourcarpet"
           }
          ],
          "heatmap": [
           {
            "colorbar": {
             "outlinewidth": 0,
             "ticks": ""
            },
            "colorscale": [
             [
              0,
              "#0d0887"
             ],
             [
              0.1111111111111111,
              "#46039f"
             ],
             [
              0.2222222222222222,
              "#7201a8"
             ],
             [
              0.3333333333333333,
              "#9c179e"
             ],
             [
              0.4444444444444444,
              "#bd3786"
             ],
             [
              0.5555555555555556,
              "#d8576b"
             ],
             [
              0.6666666666666666,
              "#ed7953"
             ],
             [
              0.7777777777777778,
              "#fb9f3a"
             ],
             [
              0.8888888888888888,
              "#fdca26"
             ],
             [
              1,
              "#f0f921"
             ]
            ],
            "type": "heatmap"
           }
          ],
          "heatmapgl": [
           {
            "colorbar": {
             "outlinewidth": 0,
             "ticks": ""
            },
            "colorscale": [
             [
              0,
              "#0d0887"
             ],
             [
              0.1111111111111111,
              "#46039f"
             ],
             [
              0.2222222222222222,
              "#7201a8"
             ],
             [
              0.3333333333333333,
              "#9c179e"
             ],
             [
              0.4444444444444444,
              "#bd3786"
             ],
             [
              0.5555555555555556,
              "#d8576b"
             ],
             [
              0.6666666666666666,
              "#ed7953"
             ],
             [
              0.7777777777777778,
              "#fb9f3a"
             ],
             [
              0.8888888888888888,
              "#fdca26"
             ],
             [
              1,
              "#f0f921"
             ]
            ],
            "type": "heatmapgl"
           }
          ],
          "histogram": [
           {
            "marker": {
             "colorbar": {
              "outlinewidth": 0,
              "ticks": ""
             }
            },
            "type": "histogram"
           }
          ],
          "histogram2d": [
           {
            "colorbar": {
             "outlinewidth": 0,
             "ticks": ""
            },
            "colorscale": [
             [
              0,
              "#0d0887"
             ],
             [
              0.1111111111111111,
              "#46039f"
             ],
             [
              0.2222222222222222,
              "#7201a8"
             ],
             [
              0.3333333333333333,
              "#9c179e"
             ],
             [
              0.4444444444444444,
              "#bd3786"
             ],
             [
              0.5555555555555556,
              "#d8576b"
             ],
             [
              0.6666666666666666,
              "#ed7953"
             ],
             [
              0.7777777777777778,
              "#fb9f3a"
             ],
             [
              0.8888888888888888,
              "#fdca26"
             ],
             [
              1,
              "#f0f921"
             ]
            ],
            "type": "histogram2d"
           }
          ],
          "histogram2dcontour": [
           {
            "colorbar": {
             "outlinewidth": 0,
             "ticks": ""
            },
            "colorscale": [
             [
              0,
              "#0d0887"
             ],
             [
              0.1111111111111111,
              "#46039f"
             ],
             [
              0.2222222222222222,
              "#7201a8"
             ],
             [
              0.3333333333333333,
              "#9c179e"
             ],
             [
              0.4444444444444444,
              "#bd3786"
             ],
             [
              0.5555555555555556,
              "#d8576b"
             ],
             [
              0.6666666666666666,
              "#ed7953"
             ],
             [
              0.7777777777777778,
              "#fb9f3a"
             ],
             [
              0.8888888888888888,
              "#fdca26"
             ],
             [
              1,
              "#f0f921"
             ]
            ],
            "type": "histogram2dcontour"
           }
          ],
          "mesh3d": [
           {
            "colorbar": {
             "outlinewidth": 0,
             "ticks": ""
            },
            "type": "mesh3d"
           }
          ],
          "parcoords": [
           {
            "line": {
             "colorbar": {
              "outlinewidth": 0,
              "ticks": ""
             }
            },
            "type": "parcoords"
           }
          ],
          "pie": [
           {
            "automargin": true,
            "type": "pie"
           }
          ],
          "scatter": [
           {
            "marker": {
             "colorbar": {
              "outlinewidth": 0,
              "ticks": ""
             }
            },
            "type": "scatter"
           }
          ],
          "scatter3d": [
           {
            "line": {
             "colorbar": {
              "outlinewidth": 0,
              "ticks": ""
             }
            },
            "marker": {
             "colorbar": {
              "outlinewidth": 0,
              "ticks": ""
             }
            },
            "type": "scatter3d"
           }
          ],
          "scattercarpet": [
           {
            "marker": {
             "colorbar": {
              "outlinewidth": 0,
              "ticks": ""
             }
            },
            "type": "scattercarpet"
           }
          ],
          "scattergeo": [
           {
            "marker": {
             "colorbar": {
              "outlinewidth": 0,
              "ticks": ""
             }
            },
            "type": "scattergeo"
           }
          ],
          "scattergl": [
           {
            "marker": {
             "colorbar": {
              "outlinewidth": 0,
              "ticks": ""
             }
            },
            "type": "scattergl"
           }
          ],
          "scattermapbox": [
           {
            "marker": {
             "colorbar": {
              "outlinewidth": 0,
              "ticks": ""
             }
            },
            "type": "scattermapbox"
           }
          ],
          "scatterpolar": [
           {
            "marker": {
             "colorbar": {
              "outlinewidth": 0,
              "ticks": ""
             }
            },
            "type": "scatterpolar"
           }
          ],
          "scatterpolargl": [
           {
            "marker": {
             "colorbar": {
              "outlinewidth": 0,
              "ticks": ""
             }
            },
            "type": "scatterpolargl"
           }
          ],
          "scatterternary": [
           {
            "marker": {
             "colorbar": {
              "outlinewidth": 0,
              "ticks": ""
             }
            },
            "type": "scatterternary"
           }
          ],
          "surface": [
           {
            "colorbar": {
             "outlinewidth": 0,
             "ticks": ""
            },
            "colorscale": [
             [
              0,
              "#0d0887"
             ],
             [
              0.1111111111111111,
              "#46039f"
             ],
             [
              0.2222222222222222,
              "#7201a8"
             ],
             [
              0.3333333333333333,
              "#9c179e"
             ],
             [
              0.4444444444444444,
              "#bd3786"
             ],
             [
              0.5555555555555556,
              "#d8576b"
             ],
             [
              0.6666666666666666,
              "#ed7953"
             ],
             [
              0.7777777777777778,
              "#fb9f3a"
             ],
             [
              0.8888888888888888,
              "#fdca26"
             ],
             [
              1,
              "#f0f921"
             ]
            ],
            "type": "surface"
           }
          ],
          "table": [
           {
            "cells": {
             "fill": {
              "color": "#EBF0F8"
             },
             "line": {
              "color": "white"
             }
            },
            "header": {
             "fill": {
              "color": "#C8D4E3"
             },
             "line": {
              "color": "white"
             }
            },
            "type": "table"
           }
          ]
         },
         "layout": {
          "annotationdefaults": {
           "arrowcolor": "#2a3f5f",
           "arrowhead": 0,
           "arrowwidth": 1
          },
          "coloraxis": {
           "colorbar": {
            "outlinewidth": 0,
            "ticks": ""
           }
          },
          "colorscale": {
           "diverging": [
            [
             0,
             "#8e0152"
            ],
            [
             0.1,
             "#c51b7d"
            ],
            [
             0.2,
             "#de77ae"
            ],
            [
             0.3,
             "#f1b6da"
            ],
            [
             0.4,
             "#fde0ef"
            ],
            [
             0.5,
             "#f7f7f7"
            ],
            [
             0.6,
             "#e6f5d0"
            ],
            [
             0.7,
             "#b8e186"
            ],
            [
             0.8,
             "#7fbc41"
            ],
            [
             0.9,
             "#4d9221"
            ],
            [
             1,
             "#276419"
            ]
           ],
           "sequential": [
            [
             0,
             "#0d0887"
            ],
            [
             0.1111111111111111,
             "#46039f"
            ],
            [
             0.2222222222222222,
             "#7201a8"
            ],
            [
             0.3333333333333333,
             "#9c179e"
            ],
            [
             0.4444444444444444,
             "#bd3786"
            ],
            [
             0.5555555555555556,
             "#d8576b"
            ],
            [
             0.6666666666666666,
             "#ed7953"
            ],
            [
             0.7777777777777778,
             "#fb9f3a"
            ],
            [
             0.8888888888888888,
             "#fdca26"
            ],
            [
             1,
             "#f0f921"
            ]
           ],
           "sequentialminus": [
            [
             0,
             "#0d0887"
            ],
            [
             0.1111111111111111,
             "#46039f"
            ],
            [
             0.2222222222222222,
             "#7201a8"
            ],
            [
             0.3333333333333333,
             "#9c179e"
            ],
            [
             0.4444444444444444,
             "#bd3786"
            ],
            [
             0.5555555555555556,
             "#d8576b"
            ],
            [
             0.6666666666666666,
             "#ed7953"
            ],
            [
             0.7777777777777778,
             "#fb9f3a"
            ],
            [
             0.8888888888888888,
             "#fdca26"
            ],
            [
             1,
             "#f0f921"
            ]
           ]
          },
          "colorway": [
           "#636efa",
           "#EF553B",
           "#00cc96",
           "#ab63fa",
           "#FFA15A",
           "#19d3f3",
           "#FF6692",
           "#B6E880",
           "#FF97FF",
           "#FECB52"
          ],
          "font": {
           "color": "#2a3f5f"
          },
          "geo": {
           "bgcolor": "white",
           "lakecolor": "white",
           "landcolor": "#E5ECF6",
           "showlakes": true,
           "showland": true,
           "subunitcolor": "white"
          },
          "hoverlabel": {
           "align": "left"
          },
          "hovermode": "closest",
          "mapbox": {
           "style": "light"
          },
          "paper_bgcolor": "white",
          "plot_bgcolor": "#E5ECF6",
          "polar": {
           "angularaxis": {
            "gridcolor": "white",
            "linecolor": "white",
            "ticks": ""
           },
           "bgcolor": "#E5ECF6",
           "radialaxis": {
            "gridcolor": "white",
            "linecolor": "white",
            "ticks": ""
           }
          },
          "scene": {
           "xaxis": {
            "backgroundcolor": "#E5ECF6",
            "gridcolor": "white",
            "gridwidth": 2,
            "linecolor": "white",
            "showbackground": true,
            "ticks": "",
            "zerolinecolor": "white"
           },
           "yaxis": {
            "backgroundcolor": "#E5ECF6",
            "gridcolor": "white",
            "gridwidth": 2,
            "linecolor": "white",
            "showbackground": true,
            "ticks": "",
            "zerolinecolor": "white"
           },
           "zaxis": {
            "backgroundcolor": "#E5ECF6",
            "gridcolor": "white",
            "gridwidth": 2,
            "linecolor": "white",
            "showbackground": true,
            "ticks": "",
            "zerolinecolor": "white"
           }
          },
          "shapedefaults": {
           "line": {
            "color": "#2a3f5f"
           }
          },
          "ternary": {
           "aaxis": {
            "gridcolor": "white",
            "linecolor": "white",
            "ticks": ""
           },
           "baxis": {
            "gridcolor": "white",
            "linecolor": "white",
            "ticks": ""
           },
           "bgcolor": "#E5ECF6",
           "caxis": {
            "gridcolor": "white",
            "linecolor": "white",
            "ticks": ""
           }
          },
          "title": {
           "x": 0.05
          },
          "xaxis": {
           "automargin": true,
           "gridcolor": "white",
           "linecolor": "white",
           "ticks": "",
           "title": {
            "standoff": 15
           },
           "zerolinecolor": "white",
           "zerolinewidth": 2
          },
          "yaxis": {
           "automargin": true,
           "gridcolor": "white",
           "linecolor": "white",
           "ticks": "",
           "title": {
            "standoff": 15
           },
           "zerolinecolor": "white",
           "zerolinewidth": 2
          }
         }
        },
        "xaxis": {
         "anchor": "y",
         "autorange": true,
         "domain": [
          0,
          1
         ],
         "range": [
          -0.5,
          66.5
         ],
         "title": {
          "text": "x"
         },
         "type": "category"
        },
        "yaxis": {
         "anchor": "x",
         "autorange": true,
         "domain": [
          0,
          1
         ],
         "range": [
          0,
          434.1563821984367
         ],
         "title": {
          "text": "xco2"
         },
         "type": "linear"
        }
       }
      },
      "image/png": "[encoded data removed]",
      "text/html": [
       "<div>\n",
       "        \n",
       "        \n",
       "            <div id=\"f88d841f-d1f2-465d-a882-4102569c24f1\" class=\"plotly-graph-div\" style=\"height:525px; width:100%;\"></div>\n",
       "            <script type=\"text/javascript\">\n",
       "                require([\"plotly\"], function(Plotly) {\n",
       "                    window.PLOTLYENV=window.PLOTLYENV || {};\n",
       "                    \n",
       "                if (document.getElementById(\"f88d841f-d1f2-465d-a882-4102569c24f1\")) {\n",
       "                    Plotly.newPlot(\n",
       "                        'f88d841f-d1f2-465d-a882-4102569c24f1',\n",
       "                        [{\"alignmentgroup\": \"True\", \"hovertemplate\": \"x=%{x}<br>xco2=%{marker.color}<extra></extra>\", \"legendgroup\": \"\", \"marker\": {\"color\": [395.4638340064117, 395.8781844213697, 396.6049113036989, 397.1411983643511, 397.61163141430137, 398.032829329775, 398.5786679142472, 399.39987160770966, 399.9547290295506, 399.34203481060746, 398.23637739585024, 397.4488539577091, 397.60851784310216, 398.494266883645, 399.2275955871074, 399.8285369468952, 400.4561308962127, 401.04182507750977, 401.73417272385285, 402.78286897522486, 403.0815027577195, 402.5266003836602, 401.26618359933633, 400.39903803608667, 400.4831158895098, 401.0590830594593, 401.6441940736211, 402.17613037138017, 402.72433279145713, 403.11924162150785, 403.84222026433747, 404.62737076619436, 405.0389330577134, 404.6130364379264, 403.2829833031802, 402.6838715173987, 403.1697639776075, 403.78413367147584, 404.26772630256795, 404.64101764610285, 405.15625823639573, 405.9635535520236, 406.65532213001546, 407.1564693890409, 406.69148065497114, 405.3865592119696, 404.7848393177189, 404.7965603478439, 405.3741732816322, 406.0137927301061, 406.755148198773, 407.23581328589927, 407.5935872217949, 408.63329987679856, 409.33286568290566, 409.78670205477755, 409.5225167566362, 408.58671854500807, 407.9104977360547, 407.6837585288238, 408.1220734706071, 408.6649171754898, 409.19623519400125, 410.70735380490953, 411.5186489800152, 411.94932624100113, 412.44856308851485], \"coloraxis\": \"coloraxis\"}, \"name\": \"\", \"offsetgroup\": \"\", \"orientation\": \"v\", \"showlegend\": false, \"textposition\": \"auto\", \"type\": \"bar\", \"x\": [\"2014/09\", \"2014/10\", \"2014/11\", \"2014/12\", \"2015/01\", \"2015/02\", \"2015/03\", \"2015/04\", \"2015/05\", \"2015/06\", \"2015/07\", \"2015/08\", \"2015/09\", \"2015/10\", \"2015/11\", \"2015/12\", \"2016/01\", \"2016/02\", \"2016/03\", \"2016/04\", \"2016/05\", \"2016/06\", \"2016/07\", \"2016/08\", \"2016/09\", \"2016/10\", \"2016/11\", \"2016/12\", \"2017/01\", \"2017/02\", \"2017/03\", \"2017/04\", \"2017/05\", \"2017/06\", \"2017/07\", \"2017/09\", \"2017/10\", \"2017/11\", \"2017/12\", \"2018/01\", \"2018/02\", \"2018/03\", \"2018/04\", \"2018/05\", \"2018/06\", \"2018/07\", \"2018/08\", \"2018/09\", \"2018/10\", \"2018/11\", \"2018/12\", \"2019/01\", \"2019/02\", \"2019/03\", \"2019/04\", \"2019/05\", \"2019/06\", \"2019/07\", \"2019/08\", \"2019/09\", \"2019/10\", \"2019/11\", \"2019/12\", \"2020/01\", \"2020/02\", \"2020/03\", \"2020/04\"], \"xaxis\": \"x\", \"y\": [395.4638340064117, 395.8781844213697, 396.6049113036989, 397.1411983643511, 397.61163141430137, 398.032829329775, 398.5786679142472, 399.39987160770966, 399.9547290295506, 399.34203481060746, 398.23637739585024, 397.4488539577091, 397.60851784310216, 398.494266883645, 399.2275955871074, 399.8285369468952, 400.4561308962127, 401.04182507750977, 401.73417272385285, 402.78286897522486, 403.0815027577195, 402.5266003836602, 401.26618359933633, 400.39903803608667, 400.4831158895098, 401.0590830594593, 401.6441940736211, 402.17613037138017, 402.72433279145713, 403.11924162150785, 403.84222026433747, 404.62737076619436, 405.0389330577134, 404.6130364379264, 403.2829833031802, 402.6838715173987, 403.1697639776075, 403.78413367147584, 404.26772630256795, 404.64101764610285, 405.15625823639573, 405.9635535520236, 406.65532213001546, 407.1564693890409, 406.69148065497114, 405.3865592119696, 404.7848393177189, 404.7965603478439, 405.3741732816322, 406.0137927301061, 406.755148198773, 407.23581328589927, 407.5935872217949, 408.63329987679856, 409.33286568290566, 409.78670205477755, 409.5225167566362, 408.58671854500807, 407.9104977360547, 407.6837585288238, 408.1220734706071, 408.6649171754898, 409.19623519400125, 410.70735380490953, 411.5186489800152, 411.94932624100113, 412.44856308851485], \"yaxis\": \"y\"}],\n",
       "                        {\"barmode\": \"relative\", \"coloraxis\": {\"colorbar\": {\"title\": {\"text\": \"xco2\"}}, \"colorscale\": [[0.0, \"#0d0887\"], [0.1111111111111111, \"#46039f\"], [0.2222222222222222, \"#7201a8\"], [0.3333333333333333, \"#9c179e\"], [0.4444444444444444, \"#bd3786\"], [0.5555555555555556, \"#d8576b\"], [0.6666666666666666, \"#ed7953\"], [0.7777777777777778, \"#fb9f3a\"], [0.8888888888888888, \"#fdca26\"], [1.0, \"#f0f921\"]]}, \"legend\": {\"tracegroupgap\": 0}, \"margin\": {\"t\": 60}, \"template\": {\"data\": {\"bar\": [{\"error_x\": {\"color\": \"#2a3f5f\"}, \"error_y\": {\"color\": \"#2a3f5f\"}, \"marker\": {\"line\": {\"color\": \"#E5ECF6\", \"width\": 0.5}}, \"type\": \"bar\"}], \"barpolar\": [{\"marker\": {\"line\": {\"color\": \"#E5ECF6\", \"width\": 0.5}}, \"type\": \"barpolar\"}], \"carpet\": [{\"aaxis\": {\"endlinecolor\": \"#2a3f5f\", \"gridcolor\": \"white\", \"linecolor\": \"white\", \"minorgridcolor\": \"white\", \"startlinecolor\": \"#2a3f5f\"}, \"baxis\": {\"endlinecolor\": \"#2a3f5f\", \"gridcolor\": \"white\", \"linecolor\": \"white\", \"minorgridcolor\": \"white\", \"startlinecolor\": \"#2a3f5f\"}, \"type\": \"carpet\"}], \"choropleth\": [{\"colorbar\": {\"outlinewidth\": 0, \"ticks\": \"\"}, \"type\": \"choropleth\"}], \"contour\": [{\"colorbar\": {\"outlinewidth\": 0, \"ticks\": \"\"}, \"colorscale\": [[0.0, \"#0d0887\"], [0.1111111111111111, \"#46039f\"], [0.2222222222222222, \"#7201a8\"], [0.3333333333333333, \"#9c179e\"], [0.4444444444444444, \"#bd3786\"], [0.5555555555555556, \"#d8576b\"], [0.6666666666666666, \"#ed7953\"], [0.7777777777777778, \"#fb9f3a\"], [0.8888888888888888, \"#fdca26\"], [1.0, \"#f0f921\"]], \"type\": \"contour\"}], \"contourcarpet\": [{\"colorbar\": {\"outlinewidth\": 0, \"ticks\": \"\"}, \"type\": \"contourcarpet\"}], \"heatmap\": [{\"colorbar\": {\"outlinewidth\": 0, \"ticks\": \"\"}, \"colorscale\": [[0.0, \"#0d0887\"], [0.1111111111111111, \"#46039f\"], [0.2222222222222222, \"#7201a8\"], [0.3333333333333333, \"#9c179e\"], [0.4444444444444444, \"#bd3786\"], [0.5555555555555556, \"#d8576b\"], [0.6666666666666666, \"#ed7953\"], [0.7777777777777778, \"#fb9f3a\"], [0.8888888888888888, \"#fdca26\"], [1.0, \"#f0f921\"]], \"type\": \"heatmap\"}], \"heatmapgl\": [{\"colorbar\": {\"outlinewidth\": 0, \"ticks\": \"\"}, \"colorscale\": [[0.0, \"#0d0887\"], [0.1111111111111111, \"#46039f\"], [0.2222222222222222, \"#7201a8\"], [0.3333333333333333, \"#9c179e\"], [0.4444444444444444, \"#bd3786\"], [0.5555555555555556, \"#d8576b\"], [0.6666666666666666, \"#ed7953\"], [0.7777777777777778, \"#fb9f3a\"], [0.8888888888888888, \"#fdca26\"], [1.0, \"#f0f921\"]], \"type\": \"heatmapgl\"}], \"histogram\": [{\"marker\": {\"colorbar\": {\"outlinewidth\": 0, \"ticks\": \"\"}}, \"type\": \"histogram\"}], \"histogram2d\": [{\"colorbar\": {\"outlinewidth\": 0, \"ticks\": \"\"}, \"colorscale\": [[0.0, \"#0d0887\"], [0.1111111111111111, \"#46039f\"], [0.2222222222222222, \"#7201a8\"], [0.3333333333333333, \"#9c179e\"], [0.4444444444444444, \"#bd3786\"], [0.5555555555555556, \"#d8576b\"], [0.6666666666666666, \"#ed7953\"], [0.7777777777777778, \"#fb9f3a\"], [0.8888888888888888, \"#fdca26\"], [1.0, \"#f0f921\"]], \"type\": \"histogram2d\"}], \"histogram2dcontour\": [{\"colorbar\": {\"outlinewidth\": 0, \"ticks\": \"\"}, \"colorscale\": [[0.0, \"#0d0887\"], [0.1111111111111111, \"#46039f\"], [0.2222222222222222, \"#7201a8\"], [0.3333333333333333, \"#9c179e\"], [0.4444444444444444, \"#bd3786\"], [0.5555555555555556, \"#d8576b\"], [0.6666666666666666, \"#ed7953\"], [0.7777777777777778, \"#fb9f3a\"], [0.8888888888888888, \"#fdca26\"], [1.0, \"#f0f921\"]], \"type\": \"histogram2dcontour\"}], \"mesh3d\": [{\"colorbar\": {\"outlinewidth\": 0, \"ticks\": \"\"}, \"type\": \"mesh3d\"}], \"parcoords\": [{\"line\": {\"colorbar\": {\"outlinewidth\": 0, \"ticks\": \"\"}}, \"type\": \"parcoords\"}], \"pie\": [{\"automargin\": true, \"type\": \"pie\"}], \"scatter\": [{\"marker\": {\"colorbar\": {\"outlinewidth\": 0, \"ticks\": \"\"}}, \"type\": \"scatter\"}], \"scatter3d\": [{\"line\": {\"colorbar\": {\"outlinewidth\": 0, \"ticks\": \"\"}}, \"marker\": {\"colorbar\": {\"outlinewidth\": 0, \"ticks\": \"\"}}, \"type\": \"scatter3d\"}], \"scattercarpet\": [{\"marker\": {\"colorbar\": {\"outlinewidth\": 0, \"ticks\": \"\"}}, \"type\": \"scattercarpet\"}], \"scattergeo\": [{\"marker\": {\"colorbar\": {\"outlinewidth\": 0, \"ticks\": \"\"}}, \"type\": \"scattergeo\"}], \"scattergl\": [{\"marker\": {\"colorbar\": {\"outlinewidth\": 0, \"ticks\": \"\"}}, \"type\": \"scattergl\"}], \"scattermapbox\": [{\"marker\": {\"colorbar\": {\"outlinewidth\": 0, \"ticks\": \"\"}}, \"type\": \"scattermapbox\"}], \"scatterpolar\": [{\"marker\": {\"colorbar\": {\"outlinewidth\": 0, \"ticks\": \"\"}}, \"type\": \"scatterpolar\"}], \"scatterpolargl\": [{\"marker\": {\"colorbar\": {\"outlinewidth\": 0, \"ticks\": \"\"}}, \"type\": \"scatterpolargl\"}], \"scatterternary\": [{\"marker\": {\"colorbar\": {\"outlinewidth\": 0, \"ticks\": \"\"}}, \"type\": \"scatterternary\"}], \"surface\": [{\"colorbar\": {\"outlinewidth\": 0, \"ticks\": \"\"}, \"colorscale\": [[0.0, \"#0d0887\"], [0.1111111111111111, \"#46039f\"], [0.2222222222222222, \"#7201a8\"], [0.3333333333333333, \"#9c179e\"], [0.4444444444444444, \"#bd3786\"], [0.5555555555555556, \"#d8576b\"], [0.6666666666666666, \"#ed7953\"], [0.7777777777777778, \"#fb9f3a\"], [0.8888888888888888, \"#fdca26\"], [1.0, \"#f0f921\"]], \"type\": \"surface\"}], \"table\": [{\"cells\": {\"fill\": {\"color\": \"#EBF0F8\"}, \"line\": {\"color\": \"white\"}}, \"header\": {\"fill\": {\"color\": \"#C8D4E3\"}, \"line\": {\"color\": \"white\"}}, \"type\": \"table\"}]}, \"layout\": {\"annotationdefaults\": {\"arrowcolor\": \"#2a3f5f\", \"arrowhead\": 0, \"arrowwidth\": 1}, \"coloraxis\": {\"colorbar\": {\"outlinewidth\": 0, \"ticks\": \"\"}}, \"colorscale\": {\"diverging\": [[0, \"#8e0152\"], [0.1, \"#c51b7d\"], [0.2, \"#de77ae\"], [0.3, \"#f1b6da\"], [0.4, \"#fde0ef\"], [0.5, \"#f7f7f7\"], [0.6, \"#e6f5d0\"], [0.7, \"#b8e186\"], [0.8, \"#7fbc41\"], [0.9, \"#4d9221\"], [1, \"#276419\"]], \"sequential\": [[0.0, \"#0d0887\"], [0.1111111111111111, \"#46039f\"], [0.2222222222222222, \"#7201a8\"], [0.3333333333333333, \"#9c179e\"], [0.4444444444444444, \"#bd3786\"], [0.5555555555555556, \"#d8576b\"], [0.6666666666666666, \"#ed7953\"], [0.7777777777777778, \"#fb9f3a\"], [0.8888888888888888, \"#fdca26\"], [1.0, \"#f0f921\"]], \"sequentialminus\": [[0.0, \"#0d0887\"], [0.1111111111111111, \"#46039f\"], [0.2222222222222222, \"#7201a8\"], [0.3333333333333333, \"#9c179e\"], [0.4444444444444444, \"#bd3786\"], [0.5555555555555556, \"#d8576b\"], [0.6666666666666666, \"#ed7953\"], [0.7777777777777778, \"#fb9f3a\"], [0.8888888888888888, \"#fdca26\"], [1.0, \"#f0f921\"]]}, \"colorway\": [\"#636efa\", \"#EF553B\", \"#00cc96\", \"#ab63fa\", \"#FFA15A\", \"#19d3f3\", \"#FF6692\", \"#B6E880\", \"#FF97FF\", \"#FECB52\"], \"font\": {\"color\": \"#2a3f5f\"}, \"geo\": {\"bgcolor\": \"white\", \"lakecolor\": \"white\", \"landcolor\": \"#E5ECF6\", \"showlakes\": true, \"showland\": true, \"subunitcolor\": \"white\"}, \"hoverlabel\": {\"align\": \"left\"}, \"hovermode\": \"closest\", \"mapbox\": {\"style\": \"light\"}, \"paper_bgcolor\": \"white\", \"plot_bgcolor\": \"#E5ECF6\", \"polar\": {\"angularaxis\": {\"gridcolor\": \"white\", \"linecolor\": \"white\", \"ticks\": \"\"}, \"bgcolor\": \"#E5ECF6\", \"radialaxis\": {\"gridcolor\": \"white\", \"linecolor\": \"white\", \"ticks\": \"\"}}, \"scene\": {\"xaxis\": {\"backgroundcolor\": \"#E5ECF6\", \"gridcolor\": \"white\", \"gridwidth\": 2, \"linecolor\": \"white\", \"showbackground\": true, \"ticks\": \"\", \"zerolinecolor\": \"white\"}, \"yaxis\": {\"backgroundcolor\": \"#E5ECF6\", \"gridcolor\": \"white\", \"gridwidth\": 2, \"linecolor\": \"white\", \"showbackground\": true, \"ticks\": \"\", \"zerolinecolor\": \"white\"}, \"zaxis\": {\"backgroundcolor\": \"#E5ECF6\", \"gridcolor\": \"white\", \"gridwidth\": 2, \"linecolor\": \"white\", \"showbackground\": true, \"ticks\": \"\", \"zerolinecolor\": \"white\"}}, \"shapedefaults\": {\"line\": {\"color\": \"#2a3f5f\"}}, \"ternary\": {\"aaxis\": {\"gridcolor\": \"white\", \"linecolor\": \"white\", \"ticks\": \"\"}, \"baxis\": {\"gridcolor\": \"white\", \"linecolor\": \"white\", \"ticks\": \"\"}, \"bgcolor\": \"#E5ECF6\", \"caxis\": {\"gridcolor\": \"white\", \"linecolor\": \"white\", \"ticks\": \"\"}}, \"title\": {\"x\": 0.05}, \"xaxis\": {\"automargin\": true, \"gridcolor\": \"white\", \"linecolor\": \"white\", \"ticks\": \"\", \"title\": {\"standoff\": 15}, \"zerolinecolor\": \"white\", \"zerolinewidth\": 2}, \"yaxis\": {\"automargin\": true, \"gridcolor\": \"white\", \"linecolor\": \"white\", \"ticks\": \"\", \"title\": {\"standoff\": 15}, \"zerolinecolor\": \"white\", \"zerolinewidth\": 2}}}, \"xaxis\": {\"anchor\": \"y\", \"domain\": [0.0, 1.0], \"title\": {\"text\": \"x\"}}, \"yaxis\": {\"anchor\": \"x\", \"domain\": [0.0, 1.0], \"title\": {\"text\": \"xco2\"}}},\n",
       "                        {\"responsive\": true}\n",
       "                    ).then(function(){\n",
       "                            \n",
       "var gd = document.getElementById('f88d841f-d1f2-465d-a882-4102569c24f1');\n",
       "var x = new MutationObserver(function (mutations, observer) {{\n",
       "        var display = window.getComputedStyle(gd).display;\n",
       "        if (!display || display === 'none') {{\n",
       "            console.log([gd, 'removed!']);\n",
       "            Plotly.purge(gd);\n",
       "            observer.disconnect();\n",
       "        }}\n",
       "}});\n",
       "\n",
       "// Listen for the removal of the full notebook cells\n",
       "var notebookContainer = gd.closest('#notebook-container');\n",
       "if (notebookContainer) {{\n",
       "    x.observe(notebookContainer, {childList: true});\n",
       "}}\n",
       "\n",
       "// Listen for the clearing of the current output cell\n",
       "var outputEl = gd.closest('.output');\n",
       "if (outputEl) {{\n",
       "    x.observe(outputEl, {childList: true});\n",
       "}}\n",
       "\n",
       "                        })\n",
       "                };\n",
       "                });\n",
       "            </script>\n",
       "        </div>"
      ]
     },
     "metadata": {},
     "output_type": "display_data"
    }
   ],
   "source": [
    "year_month = []\n",
    "for ym in df.index.to_list():\n",
    "    year_month.append('20'+ym[:2]+'/'+ym[2:])\n",
    "fig = px.bar(df, x=year_month, y=\"xco2\", color='xco2')\n",
    "fig.show()"
   ]
  },
  {
   "cell_type": "code",
   "execution_count": null,
   "metadata": {},
   "outputs": [],
   "source": [
    "from datetime import datetime\n",
    "def to_date(a):\n",
    "    return datetime.strptime(str(a), '%Y%m%d%H%M%S%f')\n",
    "\n",
    "df['date'] = df['sounding_id'].apply(to_date)"
   ]
  }
 ],
 "metadata": {
  "kernelspec": {
   "display_name": "Python 3",
   "language": "python",
   "name": "python3"
  }
 },
 "nbformat": 4,
 "nbformat_minor": 4
}
