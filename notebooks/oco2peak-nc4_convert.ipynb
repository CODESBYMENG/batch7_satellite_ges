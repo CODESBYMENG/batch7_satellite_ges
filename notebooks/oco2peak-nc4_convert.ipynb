{
 "cells": [
  {
   "cell_type": "code",
   "execution_count": null,
   "metadata": {},
   "outputs": [],
   "source": [
    "# default_exp nc4_convert"
   ]
  },
  {
   "cell_type": "markdown",
   "metadata": {},
   "source": [
    "# NASA NC4 Loader\n",
    "\n",
    "This module allow you to :\n",
    "- load Level 2 NC4 files from disk\n",
    "- read the datas with netCDF4 library\n",
    "- save them to CSV\n",
    "\n",
    "In a recursive way."
   ]
  },
  {
   "cell_type": "code",
   "execution_count": null,
   "metadata": {},
   "outputs": [],
   "source": [
    "#hide\n",
    "# Put these at the top of every notebook, to get automatic reloading and inline plotting\n",
    "%reload_ext autoreload\n",
    "%autoreload 2\n",
    "#%matplotlib inline\n",
    "from IPython.core.interactiveshell import InteractiveShell\n",
    "InteractiveShell.ast_node_interactivity = \"all\""
   ]
  },
  {
   "cell_type": "code",
   "execution_count": null,
   "metadata": {},
   "outputs": [],
   "source": [
    "#export\n",
    "import os\n",
    "import glob\n",
    "from netCDF4 import Dataset\n",
    "import numpy as np\n",
    "import pandas as pd\n",
    "from fastprogress.fastprogress import master_bar, progress_bar"
   ]
  },
  {
   "cell_type": "markdown",
   "metadata": {},
   "source": [
    "## Get the content of a directory\n",
    "A filter allow you to get only some file. Useful to process only a month for example."
   ]
  },
  {
   "cell_type": "code",
   "execution_count": null,
   "metadata": {},
   "outputs": [],
   "source": [
    "#export\n",
    "def get_file_list(nc4_directory, pattern='*.nc4'):\n",
    "    nc4_directory = os.path.realpath(nc4_directory)\n",
    "    return glob.glob(nc4_directory + '/' + pattern)"
   ]
  },
  {
   "cell_type": "code",
   "execution_count": null,
   "metadata": {},
   "outputs": [
    {
     "data": {
      "text/plain": [
       "'/media/NAS-Divers/dev/datasets/OCO2/nc4-v9/oco2_LtCO2_191231_B9003r_200130003035s.nc4'"
      ]
     },
     "execution_count": null,
     "metadata": {},
     "output_type": "execute_result"
    },
    {
     "data": {
      "text/plain": [
       "'/media/NAS-Divers/dev/datasets/OCO2/nc4-v10/oco2_LtCO2_20200407_B10offline.nc4'"
      ]
     },
     "execution_count": null,
     "metadata": {},
     "output_type": "execute_result"
    }
   ],
   "source": [
    "last_nc4 = get_file_list('/media/NAS-Divers/dev/datasets/OCO2/nc4-v9/')[-1]\n",
    "last_nc4\n",
    "last_nc4 = get_file_list('/media/NAS-Divers/dev/datasets/OCO2/nc4-v10/')[-1]\n",
    "last_nc4"
   ]
  },
  {
   "cell_type": "markdown",
   "metadata": {},
   "source": [
    "## Open the file with netCDF4"
   ]
  },
  {
   "cell_type": "code",
   "execution_count": null,
   "metadata": {},
   "outputs": [],
   "source": [
    "#export\n",
    "def get_nc4_raw_content(one_file):\n",
    "    return Dataset(one_file, 'r')"
   ]
  },
  {
   "cell_type": "markdown",
   "metadata": {},
   "source": [
    "This allow you to get info from the file by yourself."
   ]
  },
  {
   "cell_type": "code",
   "execution_count": null,
   "metadata": {},
   "outputs": [
    {
     "data": {
      "text/plain": [
       "<class 'netCDF4._netCDF4.Dataset'>\n",
       "root group (NETCDF4 data model, file format HDF5):\n",
       "    filter_function: oco2_xco2_quality_flag_b10\n",
       "    bc_function: oco2_xco2_bias_correct_b10\n",
       "    warn_level_function: From_L2Std\n",
       "    Bias_Correction_land: XCO2_Bias_Corrected = (XCO2_Raw + 0.855*(dpfrac + 0.0) + 0.0335*(co2_grad_del - 5.00) + 0.335*(logDWS + 5.00) - 5.20*(aod_fine - 0.0300) - footprint_bias)/0.99580\n",
       "    Bias_Correction_oceanGL: XCO2_Bias_Corrected = (XCO2_Raw + 0.213*(dp_sco2 + 0.0) - 0.0870*((co2_grad_del<(0.)) + 6.00) - footprint_bias)/0.99560\n",
       "    Bias_Correction_oceanND: XCO2_Bias_Corrected = (XCO2_Raw + 0.213*(dp_sco2 + 0.0) - 0.0870*((co2_grad_del<(0.)) + 6.00) - footprint_bias)/0.99560\n",
       "    Footprint_bias_land: Assumed footprint biases in xco2 [ppm] for footprints 1-8: -0.51, -0.24, -0.20, -0.15, 0.11, 0.40, 0.20, 0.39\n",
       "    Footprint_bias_oceanGL: Assumed footprint biases in xco2 [ppm] for footprints 1-8: -0.37, -0.10, -0.15, -0.10, 0.04, 0.28, 0.11, 0.29\n",
       "    Footprint_bias_oceanND: Assumed footprint biases in xco2 [ppm] for footprints 1-8: -0.37, -0.10, -0.15, -0.10, 0.04, 0.28, 0.11, 0.29\n",
       "    Bias_Uncertainty: Bias correction parameter uncertainties are given in the data users guide.\n",
       "    Note_regarding_bias_correction: There is some uncertainty in not only the bias correction coefficients but in the chosen parameters themselves. This release bias correction may be slightly different that of previous releases, and also somewhat different from those of previous ACOS algorithm versions.  This has to do with details of the particular retrieval algorithm version and is considered normal (though not ideal).\n",
       "    Platform: OCO-2\n",
       "    Sensor: OCO-2\n",
       "    BuildId: B10.0.04\n",
       "    CollectionLabel: Ops_B10007_r02\n",
       "    L2FullPhysicsExeVersion: SVN-B10.0.04_sdos_testing_1-34778\n",
       "    title: ACOS L2 Lite Output\n",
       "    filtering state: Filtered with oco2_lite_file_prefilter_b8a\n",
       "    creation_date: May 2020\n",
       "    contact: Chris O'Dell: odell@atmos.colostate.edu\n",
       "    dimensions(sizes): sounding_id(202617), levels(20), bands(3), vertices(4), footprints(8), source_files(15), epoch_dimension(7)\n",
       "    variables(dimensions): uint64 sounding_id(sounding_id), int16 levels(levels), int16 bands(bands), int16 vertices(vertices), int16 footprints(footprints), int16 date(sounding_id,epoch_dimension), float32 latitude(sounding_id), float32 longitude(sounding_id), float64 time(sounding_id), float32 solar_zenith_angle(sounding_id), float32 sensor_zenith_angle(sounding_id), int8 xco2_quality_flag(sounding_id), int32 xco2_qf_bitflag(sounding_id), uint8 xco2_qf_simple_bitflag(sounding_id), <class 'str'> source_files(source_files), uint8 file_index(sounding_id), float32 vertex_latitude(sounding_id,vertices), float32 vertex_longitude(sounding_id,vertices), float32 xco2(sounding_id), float32 xco2_uncertainty(sounding_id), float32 xco2_apriori(sounding_id), float32 pressure_levels(sounding_id,levels), float32 co2_profile_apriori(sounding_id,levels), float32 xco2_averaging_kernel(sounding_id,levels), float32 pressure_weight(sounding_id,levels)\n",
       "    groups: Meteorology, Preprocessors, Retrieval, Sounding"
      ]
     },
     "execution_count": null,
     "metadata": {},
     "output_type": "execute_result"
    },
    {
     "data": {
      "text/plain": [
       "<class 'netCDF4._netCDF4.Group'>\n",
       "group /Sounding:\n",
       "    dimensions(sizes): \n",
       "    variables(dimensions): float32 solar_azimuth_angle(sounding_id), float32 sensor_azimuth_angle(sounding_id), float32 polarization_angle(sounding_id), int8 land_fraction(sounding_id), float32 glint_angle(sounding_id), float32 airmass(sounding_id), float32 snr_o2a(sounding_id), float32 snr_wco2(sounding_id), float32 snr_sco2(sounding_id), int32 l1b_type(sounding_id), int8 operation_mode(sounding_id), int32 orbit(sounding_id), uint8 path(sounding_id), int8 footprint(sounding_id), int8 land_water_indicator(sounding_id), float32 altitude(sounding_id), float32 altitude_stddev(sounding_id)\n",
       "    groups: "
      ]
     },
     "execution_count": null,
     "metadata": {},
     "output_type": "execute_result"
    },
    {
     "data": {
      "text/plain": [
       "<class 'netCDF4._netCDF4.Group'>\n",
       "group /Meteorology:\n",
       "    dimensions(sizes): \n",
       "    variables(dimensions): float32 psurf_apriori_o2a(sounding_id), float32 psurf_apriori_wco2(sounding_id), float32 psurf_apriori_sco2(sounding_id), float32 windspeed_u_met(sounding_id), float32 windspeed_v_met(sounding_id)\n",
       "    groups: "
      ]
     },
     "execution_count": null,
     "metadata": {},
     "output_type": "execute_result"
    },
    {
     "data": {
      "text/plain": [
       "<class 'netCDF4._netCDF4.Group'>\n",
       "group /Retrieval:\n",
       "    dimensions(sizes): \n",
       "    variables(dimensions): int8 surface_type(sounding_id), float32 psurf(sounding_id), float32 SigmaB(levels), float32 windspeed(sounding_id), float32 windspeed_apriori(sounding_id), float32 psurf_apriori(sounding_id), float32 t700(sounding_id), float32 fs(sounding_id), float32 fs_rel(sounding_id), float32 tcwv(sounding_id), float32 tcwv_apriori(sounding_id), float32 tcwv_uncertainty(sounding_id), float32 xco2_raw(sounding_id), float32 dp(sounding_id), float32 dp_o2a(sounding_id), float32 dp_sco2(sounding_id), float32 dpfrac(sounding_id), float32 s31(sounding_id), float32 s32(sounding_id), float32 co2_grad_del(sounding_id), float32 dws(sounding_id), float32 eof3_3_rel(sounding_id), int8 snow_flag(sounding_id), float32 aod_dust(sounding_id), float32 aod_bc(sounding_id), float32 aod_oc(sounding_id), float32 aod_seasalt(sounding_id), float32 aod_sulfate(sounding_id), float32 aod_strataer(sounding_id), float32 aod_water(sounding_id), float32 aod_ice(sounding_id), float32 aod_total(sounding_id), float32 dust_height(sounding_id), float32 ice_height(sounding_id), float32 water_height(sounding_id), float32 h2o_scale(sounding_id), float32 deltaT(sounding_id), float32 albedo_o2a(sounding_id), float32 albedo_wco2(sounding_id), float32 albedo_sco2(sounding_id), float32 albedo_slope_o2a(sounding_id), float32 albedo_slope_wco2(sounding_id), float32 albedo_slope_sco2(sounding_id), float32 albedo_quad_o2a(sounding_id), float32 albedo_quad_wco2(sounding_id), float32 albedo_quad_sco2(sounding_id), float32 chi2_o2a(sounding_id), float32 chi2_wco2(sounding_id), float32 chi2_sco2(sounding_id), float32 rms_rel_o2a(sounding_id), float32 rms_rel_wco2(sounding_id), float32 rms_rel_sco2(sounding_id), int8 iterations(sounding_id), int8 diverging_steps(sounding_id)\n",
       "    groups: "
      ]
     },
     "execution_count": null,
     "metadata": {},
     "output_type": "execute_result"
    }
   ],
   "source": [
    "get_nc4_raw_content(last_nc4)\n",
    "get_nc4_raw_content(last_nc4).groups['Sounding']\n",
    "get_nc4_raw_content(last_nc4).groups['Meteorology']\n",
    "get_nc4_raw_content(last_nc4).groups['Retrieval']\n",
    "\n"
   ]
  },
  {
   "cell_type": "markdown",
   "metadata": {},
   "source": [
    "To get the version of the NASA pipeline :"
   ]
  },
  {
   "cell_type": "code",
   "execution_count": null,
   "metadata": {},
   "outputs": [
    {
     "data": {
      "text/plain": [
       "'B10.0.04'"
      ]
     },
     "execution_count": null,
     "metadata": {},
     "output_type": "execute_result"
    }
   ],
   "source": [
    "get_nc4_raw_content(last_nc4).BuildId"
   ]
  },
  {
   "cell_type": "markdown",
   "metadata": {},
   "source": [
    "## Extract the useful informations"
   ]
  },
  {
   "cell_type": "code",
   "execution_count": null,
   "metadata": {},
   "outputs": [],
   "source": [
    "#export\n",
    "columns=['flag','sounding_id', 'latitude', 'longitude', 'xco2', 'xco2_uncert', 'orbit', 'windspeed_u', 'windspeed_v',\n",
    "    'surface_pressure_apriori', 'surface_pressure', 'altitude', 'land_water_indicator', 'land_fraction', 'tcwv', 'tcwv_apriori', 'tcwv_uncertainty']\n",
    "def get_np_table(one_file):\n",
    "    # Open the file\n",
    "    try:\n",
    "        file_nc = Dataset(one_file, 'r')\n",
    "    except:\n",
    "        print('ERROR reading', one_file)\n",
    "        return np.empty((0,len(columns)))\n",
    "    # Documentation of data : https://docserver.gesdisc.eosdis.nasa.gov/public/project/OCO/OCO2_DUG.V9.pdf\n",
    "    #print(file_nc)\n",
    "    if file_nc.BuildId[0:3] == 'B10' :\n",
    "        np_table = np.column_stack((file_nc.variables['xco2_quality_flag'],file_nc.variables['sounding_id'],file_nc.variables['latitude'],file_nc.variables['longitude'],\n",
    "            file_nc.variables['xco2'],file_nc.variables['xco2_uncertainty'],file_nc.groups['Sounding'].variables['orbit'],\n",
    "            file_nc.groups['Meteorology']['windspeed_u_met'], file_nc.groups['Meteorology']['windspeed_v_met'],\n",
    "            file_nc.groups['Meteorology']['psurf_apriori_o2a'], file_nc.groups['Retrieval']['psurf'],\n",
    "            file_nc.groups['Sounding']['altitude'], file_nc.groups['Sounding']['land_water_indicator'], file_nc.groups['Sounding']['land_fraction'],\n",
    "            file_nc.groups['Retrieval']['tcwv'], file_nc.groups['Retrieval']['tcwv_apriori'], file_nc.groups['Retrieval']['tcwv_uncertainty']))\n",
    "    else:\n",
    "        np_table = np.column_stack((file_nc.variables['xco2_quality_flag'],file_nc.variables['sounding_id'],file_nc.variables['latitude'],file_nc.variables['longitude'],\n",
    "            file_nc.variables['xco2'],file_nc.variables['xco2_uncertainty'],file_nc.groups['Sounding'].variables['orbit'],\n",
    "            file_nc.groups['Meteorology']['windspeed_u_met'], file_nc.groups['Meteorology']['windspeed_v_met'],\n",
    "            file_nc.groups['Meteorology']['psurf_apriori'], file_nc.groups['Retrieval']['psurf'], file_nc.groups['Sounding']['altitude'], file_nc.groups['Sounding']['land_water_indicator'],\n",
    "            file_nc.groups['Sounding']['land_fraction'],\n",
    "            file_nc.groups['Retrieval']['tcwv'], file_nc.groups['Retrieval']['tcwv_apriori'], file_nc.groups['Retrieval']['tcwv_uncertainty']))#))\n",
    "    return np_table"
   ]
  },
  {
   "cell_type": "code",
   "execution_count": null,
   "metadata": {},
   "outputs": [
    {
     "data": {
      "text/plain": [
       "(202617, 17)"
      ]
     },
     "execution_count": null,
     "metadata": {},
     "output_type": "execute_result"
    }
   ],
   "source": [
    "np_table =  get_np_table(last_nc4)\n",
    "np_table.shape"
   ]
  },
  {
   "cell_type": "markdown",
   "metadata": {},
   "source": [
    "## Convert them to Pandas\n",
    "This method take a list of file in argument, and process them all in one Pandas Dataframe."
   ]
  },
  {
   "cell_type": "code",
   "execution_count": null,
   "metadata": {},
   "outputs": [],
   "source": [
    "#export\n",
    "def get_dataframe(nc4_list, master_progress_bar = None):\n",
    "    global columns\n",
    "    month_data = np.empty((0,len(columns)))\n",
    "    # Loop over the files\n",
    "    if master_progress_bar is None:\n",
    "        master_progress_bar = master_bar([0])\n",
    "        for _ in master_progress_bar: None\n",
    "\n",
    "    for one_file in progress_bar(nc4_list, parent=master_progress_bar):\n",
    "        np_table = get_np_table(one_file)\n",
    "        month_data = np.concatenate((month_data, np_table), axis=0)\n",
    "\n",
    "    if(month_data.size == 0):\n",
    "        return pd.DataFrame(columns=columns)\n",
    "    df = pd.DataFrame(month_data, columns=columns)\n",
    "    # using dictionary to convert specific columns (https://www.geeksforgeeks.org/change-data-type-for-one-or-more-columns-in-pandas-dataframe/)\n",
    "    convert_dict = {'sounding_id': int, \n",
    "                    'orbit': int\n",
    "                } \n",
    "    df = df.astype(convert_dict) \n",
    "    # Remove bad quality\n",
    "    df=df[df['flag']==0]\n",
    "    # Remove flag\n",
    "    df.drop(['flag'], axis=1, inplace=True)\n",
    "    return df"
   ]
  },
  {
   "cell_type": "code",
   "execution_count": null,
   "metadata": {},
   "outputs": [
    {
     "data": {
      "text/html": [
       "\n",
       "    <div>\n",
       "        <style>\n",
       "            /* Turns off some styling */\n",
       "            progress {\n",
       "                /* gets rid of default border in Firefox and Opera. */\n",
       "                border: none;\n",
       "                /* Needs to be in here for Safari polyfill so background images work as expected. */\n",
       "                background-size: auto;\n",
       "            }\n",
       "            .progress-bar-interrupted, .progress-bar-interrupted::-webkit-progress-bar {\n",
       "                background: #F44336;\n",
       "            }\n",
       "        </style>\n",
       "      <progress value='1' class='' max='1', style='width:300px; height:20px; vertical-align: middle;'></progress>\n",
       "      100.00% [1/1 00:00<00:00]\n",
       "    </div>\n",
       "    \n",
       "\n",
       "\n",
       "    <div>\n",
       "        <style>\n",
       "            /* Turns off some styling */\n",
       "            progress {\n",
       "                /* gets rid of default border in Firefox and Opera. */\n",
       "                border: none;\n",
       "                /* Needs to be in here for Safari polyfill so background images work as expected. */\n",
       "                background-size: auto;\n",
       "            }\n",
       "            .progress-bar-interrupted, .progress-bar-interrupted::-webkit-progress-bar {\n",
       "                background: #F44336;\n",
       "            }\n",
       "        </style>\n",
       "      <progress value='1' class='' max='1', style='width:300px; height:20px; vertical-align: middle;'></progress>\n",
       "      100.00% [1/1 00:00<00:00]\n",
       "    </div>\n",
       "    "
      ],
      "text/plain": [
       "<IPython.core.display.HTML object>"
      ]
     },
     "metadata": {},
     "output_type": "display_data"
    },
    {
     "data": {
      "text/html": [
       "<div>\n",
       "<style scoped>\n",
       "    .dataframe tbody tr th:only-of-type {\n",
       "        vertical-align: middle;\n",
       "    }\n",
       "\n",
       "    .dataframe tbody tr th {\n",
       "        vertical-align: top;\n",
       "    }\n",
       "\n",
       "    .dataframe thead th {\n",
       "        text-align: right;\n",
       "    }\n",
       "</style>\n",
       "<table border=\"1\" class=\"dataframe\">\n",
       "  <thead>\n",
       "    <tr style=\"text-align: right;\">\n",
       "      <th></th>\n",
       "      <th>sounding_id</th>\n",
       "      <th>latitude</th>\n",
       "      <th>longitude</th>\n",
       "      <th>xco2</th>\n",
       "      <th>xco2_uncert</th>\n",
       "      <th>orbit</th>\n",
       "      <th>windspeed_u</th>\n",
       "      <th>windspeed_v</th>\n",
       "      <th>surface_pressure_apriori</th>\n",
       "      <th>surface_pressure</th>\n",
       "      <th>altitude</th>\n",
       "      <th>land_water_indicator</th>\n",
       "      <th>land_fraction</th>\n",
       "      <th>tcwv</th>\n",
       "      <th>tcwv_apriori</th>\n",
       "      <th>tcwv_uncertainty</th>\n",
       "    </tr>\n",
       "  </thead>\n",
       "  <tbody>\n",
       "    <tr>\n",
       "      <th>7</th>\n",
       "      <td>2020040700492638</td>\n",
       "      <td>-42.680946</td>\n",
       "      <td>-163.926727</td>\n",
       "      <td>409.077057</td>\n",
       "      <td>0.494898</td>\n",
       "      <td>30665</td>\n",
       "      <td>-8.192998</td>\n",
       "      <td>-1.161757</td>\n",
       "      <td>1005.479065</td>\n",
       "      <td>996.547852</td>\n",
       "      <td>0.0</td>\n",
       "      <td>1.0</td>\n",
       "      <td>0.0</td>\n",
       "      <td>18.573519</td>\n",
       "      <td>17.652161</td>\n",
       "      <td>0.109404</td>\n",
       "    </tr>\n",
       "    <tr>\n",
       "      <th>13</th>\n",
       "      <td>2020040700492703</td>\n",
       "      <td>-42.659702</td>\n",
       "      <td>-163.818771</td>\n",
       "      <td>409.052002</td>\n",
       "      <td>0.489938</td>\n",
       "      <td>30665</td>\n",
       "      <td>-7.951118</td>\n",
       "      <td>-1.333183</td>\n",
       "      <td>1005.495911</td>\n",
       "      <td>996.656250</td>\n",
       "      <td>0.0</td>\n",
       "      <td>1.0</td>\n",
       "      <td>0.0</td>\n",
       "      <td>18.361076</td>\n",
       "      <td>17.563622</td>\n",
       "      <td>0.097325</td>\n",
       "    </tr>\n",
       "    <tr>\n",
       "      <th>16</th>\n",
       "      <td>2020040700492707</td>\n",
       "      <td>-42.648354</td>\n",
       "      <td>-163.912247</td>\n",
       "      <td>408.720642</td>\n",
       "      <td>0.471686</td>\n",
       "      <td>30665</td>\n",
       "      <td>-8.057251</td>\n",
       "      <td>-1.286553</td>\n",
       "      <td>1005.430115</td>\n",
       "      <td>997.372009</td>\n",
       "      <td>0.0</td>\n",
       "      <td>1.0</td>\n",
       "      <td>0.0</td>\n",
       "      <td>18.235178</td>\n",
       "      <td>17.771111</td>\n",
       "      <td>0.093667</td>\n",
       "    </tr>\n",
       "  </tbody>\n",
       "</table>\n",
       "</div>"
      ],
      "text/plain": [
       "         sounding_id   latitude   longitude        xco2  xco2_uncert  orbit  \\\n",
       "7   2020040700492638 -42.680946 -163.926727  409.077057     0.494898  30665   \n",
       "13  2020040700492703 -42.659702 -163.818771  409.052002     0.489938  30665   \n",
       "16  2020040700492707 -42.648354 -163.912247  408.720642     0.471686  30665   \n",
       "\n",
       "    windspeed_u  windspeed_v  surface_pressure_apriori  surface_pressure  \\\n",
       "7     -8.192998    -1.161757               1005.479065        996.547852   \n",
       "13    -7.951118    -1.333183               1005.495911        996.656250   \n",
       "16    -8.057251    -1.286553               1005.430115        997.372009   \n",
       "\n",
       "    altitude  land_water_indicator  land_fraction       tcwv  tcwv_apriori  \\\n",
       "7        0.0                   1.0            0.0  18.573519     17.652161   \n",
       "13       0.0                   1.0            0.0  18.361076     17.563622   \n",
       "16       0.0                   1.0            0.0  18.235178     17.771111   \n",
       "\n",
       "    tcwv_uncertainty  \n",
       "7           0.109404  \n",
       "13          0.097325  \n",
       "16          0.093667  "
      ]
     },
     "execution_count": null,
     "metadata": {},
     "output_type": "execute_result"
    }
   ],
   "source": [
    "df = get_dataframe([last_nc4])\n",
    "df.head(3)"
   ]
  },
  {
   "cell_type": "code",
   "execution_count": null,
   "metadata": {},
   "outputs": [
    {
     "data": {
      "text/html": [
       "<div>\n",
       "<style scoped>\n",
       "    .dataframe tbody tr th:only-of-type {\n",
       "        vertical-align: middle;\n",
       "    }\n",
       "\n",
       "    .dataframe tbody tr th {\n",
       "        vertical-align: top;\n",
       "    }\n",
       "\n",
       "    .dataframe thead th {\n",
       "        text-align: right;\n",
       "    }\n",
       "</style>\n",
       "<table border=\"1\" class=\"dataframe\">\n",
       "  <thead>\n",
       "    <tr style=\"text-align: right;\">\n",
       "      <th></th>\n",
       "      <th>sounding_id</th>\n",
       "      <th>latitude</th>\n",
       "      <th>longitude</th>\n",
       "      <th>xco2</th>\n",
       "      <th>xco2_uncert</th>\n",
       "      <th>orbit</th>\n",
       "      <th>windspeed_u</th>\n",
       "      <th>windspeed_v</th>\n",
       "      <th>surface_pressure_apriori</th>\n",
       "      <th>surface_pressure</th>\n",
       "      <th>altitude</th>\n",
       "      <th>land_water_indicator</th>\n",
       "      <th>land_fraction</th>\n",
       "      <th>tcwv</th>\n",
       "      <th>tcwv_apriori</th>\n",
       "      <th>tcwv_uncertainty</th>\n",
       "    </tr>\n",
       "  </thead>\n",
       "  <tbody>\n",
       "    <tr>\n",
       "      <th>count</th>\n",
       "      <td>1.026720e+05</td>\n",
       "      <td>102672.000000</td>\n",
       "      <td>102672.000000</td>\n",
       "      <td>102672.000000</td>\n",
       "      <td>102672.000000</td>\n",
       "      <td>102672.000000</td>\n",
       "      <td>102672.000000</td>\n",
       "      <td>102672.000000</td>\n",
       "      <td>102672.000000</td>\n",
       "      <td>102672.000000</td>\n",
       "      <td>102672.000000</td>\n",
       "      <td>102672.000000</td>\n",
       "      <td>102672.000000</td>\n",
       "      <td>102672.000000</td>\n",
       "      <td>102672.000000</td>\n",
       "      <td>102672.000000</td>\n",
       "    </tr>\n",
       "    <tr>\n",
       "      <th>mean</th>\n",
       "      <td>2.020041e+15</td>\n",
       "      <td>6.799648</td>\n",
       "      <td>-0.213743</td>\n",
       "      <td>412.532200</td>\n",
       "      <td>0.453390</td>\n",
       "      <td>30671.647927</td>\n",
       "      <td>-0.474404</td>\n",
       "      <td>-0.649793</td>\n",
       "      <td>996.979927</td>\n",
       "      <td>996.165778</td>\n",
       "      <td>153.193501</td>\n",
       "      <td>0.704330</td>\n",
       "      <td>29.814536</td>\n",
       "      <td>25.079223</td>\n",
       "      <td>25.389070</td>\n",
       "      <td>0.089610</td>\n",
       "    </tr>\n",
       "    <tr>\n",
       "      <th>std</th>\n",
       "      <td>6.811327e+06</td>\n",
       "      <td>27.727262</td>\n",
       "      <td>103.142932</td>\n",
       "      <td>2.655431</td>\n",
       "      <td>0.099719</td>\n",
       "      <td>4.137757</td>\n",
       "      <td>4.379928</td>\n",
       "      <td>3.129051</td>\n",
       "      <td>38.246736</td>\n",
       "      <td>37.936126</td>\n",
       "      <td>348.045096</td>\n",
       "      <td>0.462135</td>\n",
       "      <td>45.733770</td>\n",
       "      <td>13.437647</td>\n",
       "      <td>13.318149</td>\n",
       "      <td>0.047803</td>\n",
       "    </tr>\n",
       "    <tr>\n",
       "      <th>min</th>\n",
       "      <td>2.020041e+15</td>\n",
       "      <td>-50.229252</td>\n",
       "      <td>-179.998718</td>\n",
       "      <td>401.247559</td>\n",
       "      <td>0.259756</td>\n",
       "      <td>30665.000000</td>\n",
       "      <td>-12.165148</td>\n",
       "      <td>-14.724771</td>\n",
       "      <td>569.062927</td>\n",
       "      <td>574.740662</td>\n",
       "      <td>-10.927058</td>\n",
       "      <td>0.000000</td>\n",
       "      <td>0.000000</td>\n",
       "      <td>1.488046</td>\n",
       "      <td>1.375631</td>\n",
       "      <td>0.007579</td>\n",
       "    </tr>\n",
       "    <tr>\n",
       "      <th>25%</th>\n",
       "      <td>2.020041e+15</td>\n",
       "      <td>-20.594182</td>\n",
       "      <td>-93.544983</td>\n",
       "      <td>409.817978</td>\n",
       "      <td>0.386220</td>\n",
       "      <td>30667.000000</td>\n",
       "      <td>-4.173923</td>\n",
       "      <td>-3.127896</td>\n",
       "      <td>1002.930862</td>\n",
       "      <td>1001.288177</td>\n",
       "      <td>0.000000</td>\n",
       "      <td>0.000000</td>\n",
       "      <td>0.000000</td>\n",
       "      <td>14.507736</td>\n",
       "      <td>15.098022</td>\n",
       "      <td>0.050798</td>\n",
       "    </tr>\n",
       "    <tr>\n",
       "      <th>50%</th>\n",
       "      <td>2.020041e+15</td>\n",
       "      <td>10.888887</td>\n",
       "      <td>-5.311413</td>\n",
       "      <td>413.222961</td>\n",
       "      <td>0.432248</td>\n",
       "      <td>30672.000000</td>\n",
       "      <td>-0.819255</td>\n",
       "      <td>-0.489899</td>\n",
       "      <td>1011.487122</td>\n",
       "      <td>1010.897705</td>\n",
       "      <td>0.000000</td>\n",
       "      <td>1.000000</td>\n",
       "      <td>0.000000</td>\n",
       "      <td>23.878181</td>\n",
       "      <td>23.651602</td>\n",
       "      <td>0.085683</td>\n",
       "    </tr>\n",
       "    <tr>\n",
       "      <th>75%</th>\n",
       "      <td>2.020041e+15</td>\n",
       "      <td>29.144582</td>\n",
       "      <td>93.615358</td>\n",
       "      <td>414.809303</td>\n",
       "      <td>0.495875</td>\n",
       "      <td>30675.000000</td>\n",
       "      <td>3.014307</td>\n",
       "      <td>1.558952</td>\n",
       "      <td>1015.685547</td>\n",
       "      <td>1014.205765</td>\n",
       "      <td>117.972736</td>\n",
       "      <td>1.000000</td>\n",
       "      <td>100.000000</td>\n",
       "      <td>35.180960</td>\n",
       "      <td>35.131514</td>\n",
       "      <td>0.122442</td>\n",
       "    </tr>\n",
       "    <tr>\n",
       "      <th>max</th>\n",
       "      <td>2.020041e+15</td>\n",
       "      <td>62.634010</td>\n",
       "      <td>179.999802</td>\n",
       "      <td>424.836792</td>\n",
       "      <td>1.217122</td>\n",
       "      <td>30679.000000</td>\n",
       "      <td>13.394435</td>\n",
       "      <td>9.827548</td>\n",
       "      <td>1032.375610</td>\n",
       "      <td>1032.910767</td>\n",
       "      <td>4751.152344</td>\n",
       "      <td>3.000000</td>\n",
       "      <td>100.000000</td>\n",
       "      <td>64.513527</td>\n",
       "      <td>68.197533</td>\n",
       "      <td>0.304702</td>\n",
       "    </tr>\n",
       "  </tbody>\n",
       "</table>\n",
       "</div>"
      ],
      "text/plain": [
       "        sounding_id       latitude      longitude           xco2  \\\n",
       "count  1.026720e+05  102672.000000  102672.000000  102672.000000   \n",
       "mean   2.020041e+15       6.799648      -0.213743     412.532200   \n",
       "std    6.811327e+06      27.727262     103.142932       2.655431   \n",
       "min    2.020041e+15     -50.229252    -179.998718     401.247559   \n",
       "25%    2.020041e+15     -20.594182     -93.544983     409.817978   \n",
       "50%    2.020041e+15      10.888887      -5.311413     413.222961   \n",
       "75%    2.020041e+15      29.144582      93.615358     414.809303   \n",
       "max    2.020041e+15      62.634010     179.999802     424.836792   \n",
       "\n",
       "         xco2_uncert          orbit    windspeed_u    windspeed_v  \\\n",
       "count  102672.000000  102672.000000  102672.000000  102672.000000   \n",
       "mean        0.453390   30671.647927      -0.474404      -0.649793   \n",
       "std         0.099719       4.137757       4.379928       3.129051   \n",
       "min         0.259756   30665.000000     -12.165148     -14.724771   \n",
       "25%         0.386220   30667.000000      -4.173923      -3.127896   \n",
       "50%         0.432248   30672.000000      -0.819255      -0.489899   \n",
       "75%         0.495875   30675.000000       3.014307       1.558952   \n",
       "max         1.217122   30679.000000      13.394435       9.827548   \n",
       "\n",
       "       surface_pressure_apriori  surface_pressure       altitude  \\\n",
       "count             102672.000000     102672.000000  102672.000000   \n",
       "mean                 996.979927        996.165778     153.193501   \n",
       "std                   38.246736         37.936126     348.045096   \n",
       "min                  569.062927        574.740662     -10.927058   \n",
       "25%                 1002.930862       1001.288177       0.000000   \n",
       "50%                 1011.487122       1010.897705       0.000000   \n",
       "75%                 1015.685547       1014.205765     117.972736   \n",
       "max                 1032.375610       1032.910767    4751.152344   \n",
       "\n",
       "       land_water_indicator  land_fraction           tcwv   tcwv_apriori  \\\n",
       "count         102672.000000  102672.000000  102672.000000  102672.000000   \n",
       "mean               0.704330      29.814536      25.079223      25.389070   \n",
       "std                0.462135      45.733770      13.437647      13.318149   \n",
       "min                0.000000       0.000000       1.488046       1.375631   \n",
       "25%                0.000000       0.000000      14.507736      15.098022   \n",
       "50%                1.000000       0.000000      23.878181      23.651602   \n",
       "75%                1.000000     100.000000      35.180960      35.131514   \n",
       "max                3.000000     100.000000      64.513527      68.197533   \n",
       "\n",
       "       tcwv_uncertainty  \n",
       "count     102672.000000  \n",
       "mean           0.089610  \n",
       "std            0.047803  \n",
       "min            0.007579  \n",
       "25%            0.050798  \n",
       "50%            0.085683  \n",
       "75%            0.122442  \n",
       "max            0.304702  "
      ]
     },
     "execution_count": null,
     "metadata": {},
     "output_type": "execute_result"
    }
   ],
   "source": [
    "df.describe()"
   ]
  },
  {
   "cell_type": "markdown",
   "metadata": {},
   "source": [
    "## Helpers function to process many files"
   ]
  },
  {
   "cell_type": "code",
   "execution_count": null,
   "metadata": {},
   "outputs": [],
   "source": [
    "# export\n",
    "def get_pattern_yearmonth():\n",
    "    '''\n",
    "    Generate a list of every YYMM from 2014 to 2020\n",
    "    '''\n",
    "    years_months = []\n",
    "    for year in range(14, 20+1):\n",
    "        for month in range(1,12+1):\n",
    "            years_months.append(str(year)+str(month).zfill(2))\n",
    "    return years_months\n",
    "\n",
    "def process_files(input_dir, output_dir, patterns):\n",
    "    '''\n",
    "    Process all NC4 file corresponding to the patterns list.\n",
    "    '''\n",
    "    if len(patterns) < 1:\n",
    "        raise Exception(\"ERROR You must give an array pattern !\")\n",
    "    master_progress_bar = master_bar(patterns)\n",
    "    for pattern in master_progress_bar:\n",
    "        # Get the file list in directory\n",
    "        nc4_list = get_file_list(input_dir, pattern='oco2_LtCO2_'+pattern+\"*.nc4\")\n",
    "        master_progress_bar.write(f'Files to process for {pattern} : {len(nc4_list)}')\n",
    "        if len(nc4_list) > 1:\n",
    "            #master_progress_bar.write(f'Loading {pattern}')\n",
    "            df = get_dataframe(nc4_list, master_progress_bar)\n",
    "            master_progress_bar.write(f'Saving {pattern} to disk...')\n",
    "            df.to_csv(output_dir + 'oco2_'+pattern+'.csv.bz2', sep=';', index=False, compression='bz2')\n",
    "            del(df)\n",
    "        else:\n",
    "            master_progress_bar.write(f'WARNING : No file for {pattern}')"
   ]
  },
  {
   "cell_type": "markdown",
   "metadata": {},
   "source": [
    "# Example usage"
   ]
  },
  {
   "cell_type": "code",
   "execution_count": null,
   "metadata": {},
   "outputs": [
    {
     "name": "stdout",
     "output_type": "stream",
     "text": [
      "['1401', '1402', '1403', '1404', '1405', '1406', '1407', '1408', '1409', '1410', '1411', '1412', '1501', '1502', '1503', '1504', '1505', '1506', '1507', '1508', '1509', '1510', '1511', '1512', '1601', '1602', '1603', '1604', '1605', '1606', '1607', '1608', '1609', '1610', '1611', '1612', '1701', '1702', '1703', '1704', '1705', '1706', '1707', '1708', '1709', '1710', '1711', '1712', '1801', '1802', '1803', '1804', '1805', '1806', '1807', '1808', '1809', '1810', '1811', '1812', '1901', '1902', '1903', '1904', '1905', '1906', '1907', '1908', '1909', '1910', '1911', '1912', '2001', '2002', '2003', '2004', '2005', '2006', '2007', '2008', '2009', '2010', '2011', '2012']\n"
     ]
    },
    {
     "data": {
      "text/html": [
       "Files to process for 202003 : 31<p>Saving 202003 to disk..."
      ],
      "text/plain": [
       "<IPython.core.display.HTML object>"
      ]
     },
     "metadata": {},
     "output_type": "display_data"
    }
   ],
   "source": [
    "years_months = get_pattern_yearmonth()\n",
    "print(years_months)\n",
    "input_dir = r'/media/NAS-Divers/dev/datasets/OCO2/nc4-v10/'\n",
    "output_dir = r'/media/data-nvme/dev/datasets/OCO2/csv-v10/'\n",
    "# Replace ['1409'] by years_months to process every files.\n",
    "process_files(input_dir, output_dir, ['202003'])"
   ]
  },
  {
   "cell_type": "code",
   "execution_count": null,
   "metadata": {},
   "outputs": [
    {
     "data": {
      "text/html": [
       "Files to process for 1409 : 21<p>Saving 1409 to disk..."
      ],
      "text/plain": [
       "<IPython.core.display.HTML object>"
      ]
     },
     "metadata": {},
     "output_type": "display_data"
    },
    {
     "name": "stdout",
     "output_type": "stream",
     "text": [
      "ERROR reading /media/NAS-Divers/dev/datasets/OCO2/nc4-v9/oco2_LtCO2_140910_B9003r_180927220447s.nc4\n"
     ]
    }
   ],
   "source": [
    "input_dir = r'/media/NAS-Divers/dev/datasets/OCO2/nc4-v9/'\n",
    "output_dir = r'/media/data-nvme/dev/datasets/OCO2/csv-v9/'\n",
    "process_files(input_dir, output_dir, ['1409'])"
   ]
  },
  {
   "cell_type": "code",
   "execution_count": null,
   "metadata": {},
   "outputs": [
    {
     "name": "stdout",
     "output_type": "stream",
     "text": [
      "Converted 03_25_OCO2_Data_Exploration.ipynb.\n",
      "Converted 04_01_OCO2_Work_Base.ipynb.\n",
      "Converted 04_04_OCO2_China_Peaks.ipynb.\n",
      "Converted 04_15_OCO2_Laiwu_Peak_Detection.ipynb.\n",
      "Converted CO2_emissions_Inventory_data.ipynb.\n",
      "Converted Christian-datasets-Distances.ipynb.\n",
      "Converted Find_Peaks_with_LSTM_autoencoders.ipynb.\n",
      "Converted Laiwu_Plume-more_data.ipynb.\n",
      "Converted Laiwu_Plume-more_data_CD_exploration_selection_peaks.ipynb.\n",
      "Converted Laiwu_Plume.ipynb.\n",
      "Converted Untitled1.ipynb.\n",
      "Converted WIP_OCO2_Capture.ipynb.\n",
      "Converted WIP_OCO2_Peaks_Wind.ipynb.\n",
      "Converted WIP_OCO2_Peaks_Wind_Visualization.ipynb.\n",
      "Converted bco_playground.ipynb.\n",
      "Converted find_peak_bco_test.ipynb.\n",
      "Converted index.ipynb.\n",
      "Converted oco2peak-datasets.ipynb.\n",
      "Converted oco2peak-find_peak.ipynb.\n",
      "Converted oco2peak-map.ipynb.\n",
      "Converted oco2peak-nc4_convert.ipynb.\n",
      "Converted oco2peak-swift_utils.ipynb.\n",
      "Converted oco2peak_find_source.ipynb.\n",
      "Converted show_map.ipynb.\n",
      "Converted view_peak.ipynb.\n"
     ]
    }
   ],
   "source": [
    "from nbdev.export import notebook2script\n",
    "notebook2script()"
   ]
  },
  {
   "cell_type": "code",
   "execution_count": null,
   "metadata": {},
   "outputs": [
    {
     "data": {
      "text/plain": [
       "0.4638109305760709"
      ]
     },
     "execution_count": null,
     "metadata": {},
     "output_type": "execute_result"
    }
   ],
   "source": [
    "628/1354"
   ]
  }
 ],
 "metadata": {
  "kernelspec": {
   "display_name": "Python 3",
   "language": "python",
   "name": "python3"
  }
 },
 "nbformat": 4,
 "nbformat_minor": 4
}
