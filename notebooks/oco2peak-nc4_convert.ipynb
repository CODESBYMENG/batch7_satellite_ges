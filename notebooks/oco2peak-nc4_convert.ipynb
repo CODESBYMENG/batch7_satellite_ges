{
 "cells": [
  {
   "cell_type": "code",
   "execution_count": null,
   "metadata": {},
   "outputs": [],
   "source": [
    "# default_exp nc4_convert"
   ]
  },
  {
   "cell_type": "markdown",
   "metadata": {},
   "source": [
    "# NASA NC4 Loader\n",
    "\n",
    "This module allow you to :\n",
    "- load Level 2 NC4 files from disk\n",
    "- read the datas with netCDF4 library\n",
    "- save them to CSV\n",
    "\n",
    "In a recursive way."
   ]
  },
  {
   "cell_type": "code",
   "execution_count": null,
   "metadata": {},
   "outputs": [],
   "source": [
    "#hide\n",
    "# Put these at the top of every notebook, to get automatic reloading and inline plotting\n",
    "%reload_ext autoreload\n",
    "%autoreload 2\n",
    "#%matplotlib inline\n",
    "from IPython.core.interactiveshell import InteractiveShell\n",
    "InteractiveShell.ast_node_interactivity = \"all\""
   ]
  },
  {
   "cell_type": "code",
   "execution_count": null,
   "metadata": {},
   "outputs": [],
   "source": [
    "#export\n",
    "import os\n",
    "import glob\n",
    "import re\n",
    "import sys\n",
    "from netCDF4 import Dataset\n",
    "import numpy as np\n",
    "import pandas as pd\n",
    "from tqdm import tqdm"
   ]
  },
  {
   "cell_type": "markdown",
   "metadata": {},
   "source": [
    "## Get the content of a directory\n",
    "A filter allow you to get only some file. Useful to process only a month for example."
   ]
  },
  {
   "cell_type": "code",
   "execution_count": null,
   "metadata": {},
   "outputs": [],
   "source": [
    "#export\n",
    "def get_file_list(nc4_directory, pattern='*.nc4'):\n",
    "    nc4_directory = os.path.realpath(nc4_directory)\n",
    "    #print(nc4_directory)\n",
    "    return glob.glob(nc4_directory + '/' + pattern)"
   ]
  },
  {
   "cell_type": "code",
   "execution_count": null,
   "metadata": {},
   "outputs": [
    {
     "data": {
      "text/plain": [
       "'/media/NAS-Divers/dev/datasets/OCO2/nc4-v10/oco2_LtCO2_20200407_B10offline.nc4'"
      ]
     },
     "execution_count": null,
     "metadata": {},
     "output_type": "execute_result"
    }
   ],
   "source": [
    "last_nc4 = get_file_list('/media/NAS-Divers/dev/datasets/OCO2/nc4-v10/')[-1]\n",
    "last_nc4"
   ]
  },
  {
   "cell_type": "markdown",
   "metadata": {},
   "source": [
    "## Open the file with netCDF4"
   ]
  },
  {
   "cell_type": "code",
   "execution_count": null,
   "metadata": {},
   "outputs": [],
   "source": [
    "#export\n",
    "def get_nc4_raw_content(one_file):\n",
    "    return Dataset(one_file, 'r')"
   ]
  },
  {
   "cell_type": "markdown",
   "metadata": {},
   "source": [
    "This allow you to get info from the file by yourself."
   ]
  },
  {
   "cell_type": "code",
   "execution_count": null,
   "metadata": {},
   "outputs": [
    {
     "data": {
      "text/plain": [
       "<class 'netCDF4._netCDF4.Group'>\n",
       "group /Sounding:\n",
       "    dimensions(sizes): \n",
       "    variables(dimensions): float32 solar_azimuth_angle(sounding_id), float32 sensor_azimuth_angle(sounding_id), float32 polarization_angle(sounding_id), int8 land_fraction(sounding_id), float32 glint_angle(sounding_id), float32 airmass(sounding_id), float32 snr_o2a(sounding_id), float32 snr_wco2(sounding_id), float32 snr_sco2(sounding_id), int32 l1b_type(sounding_id), int8 operation_mode(sounding_id), int32 orbit(sounding_id), uint8 path(sounding_id), int8 footprint(sounding_id), int8 land_water_indicator(sounding_id), float32 altitude(sounding_id), float32 altitude_stddev(sounding_id)\n",
       "    groups: "
      ]
     },
     "execution_count": null,
     "metadata": {},
     "output_type": "execute_result"
    }
   ],
   "source": [
    "get_nc4_raw_content(last_nc4).groups['Sounding']"
   ]
  },
  {
   "cell_type": "markdown",
   "metadata": {},
   "source": [
    "To get the version of the NASA pipeline :"
   ]
  },
  {
   "cell_type": "code",
   "execution_count": null,
   "metadata": {},
   "outputs": [
    {
     "data": {
      "text/plain": [
       "'B10.0.04'"
      ]
     },
     "execution_count": null,
     "metadata": {},
     "output_type": "execute_result"
    }
   ],
   "source": [
    "get_nc4_raw_content(last_nc4).BuildId"
   ]
  },
  {
   "cell_type": "markdown",
   "metadata": {},
   "source": [
    "## Extract the useful informations"
   ]
  },
  {
   "cell_type": "code",
   "execution_count": null,
   "metadata": {},
   "outputs": [],
   "source": [
    "#export\n",
    "columns=['flag','sounding_id', 'latitude', 'longitude', 'xco2', 'xco2_uncert', 'orbit', 'windspeed_u', 'windspeed_v',\n",
    "    'surface_pressure_apriori', 'surface_pressure', 'altitude', 'land_water_indicator', 'land_fraction']\n",
    "def get_np_table(one_file):\n",
    "    # Open the file\n",
    "    try:\n",
    "        file_nc = Dataset(one_file, 'r')\n",
    "    except:\n",
    "        print('ERROR reading', one_file)\n",
    "        return np.empty((0,len(columns)))\n",
    "    # Documentation of data : https://docserver.gesdisc.eosdis.nasa.gov/public/project/OCO/OCO2_DUG.V9.pdf\n",
    "    #print(file_nc)\n",
    "    if file_nc.BuildId[0:3] == 'B10' :\n",
    "        np_table = np.column_stack((file_nc.variables['xco2_quality_flag'],file_nc.variables['sounding_id'],file_nc.variables['latitude'],file_nc.variables['longitude'],\n",
    "            file_nc.variables['xco2'],file_nc.variables['xco2_uncertainty'],file_nc.groups['Sounding'].variables['orbit'], file_nc.groups['Meteorology']['windspeed_u_met'], file_nc.groups['Meteorology']['windspeed_v_met'],\n",
    "            file_nc.groups['Meteorology']['psurf_apriori_o2a'], file_nc.groups['Retrieval']['psurf'], file_nc.groups['Sounding']['altitude'], file_nc.groups['Sounding']['land_water_indicator'],\n",
    "             file_nc.groups['Sounding']['land_fraction']))\n",
    "    else:\n",
    "        np_table = np.column_stack((file_nc.variables['xco2_quality_flag'],file_nc.variables['sounding_id'],file_nc.variables['latitude'],file_nc.variables['longitude'],\n",
    "            file_nc.variables['xco2'],file_nc.variables['xco2_uncertainty'],file_nc.groups['Sounding'].variables['orbit'], file_nc.groups['Meteorology']['windspeed_u_met'], file_nc.groups['Meteorology']['windspeed_v_met'],\n",
    "            file_nc.groups['Meteorology']['psurf_apriori'], file_nc.groups['Retrieval']['psurf'], file_nc.groups['Sounding']['altitude'], file_nc.groups['Sounding']['land_water_indicator'],\n",
    "             file_nc.groups['Sounding']['land_fraction']))\n",
    "    return np_table"
   ]
  },
  {
   "cell_type": "code",
   "execution_count": null,
   "metadata": {},
   "outputs": [
    {
     "data": {
      "text/plain": [
       "(202617, 14)"
      ]
     },
     "execution_count": null,
     "metadata": {},
     "output_type": "execute_result"
    }
   ],
   "source": [
    "np_table =  get_np_table(last_nc4)\n",
    "np_table.shape"
   ]
  },
  {
   "cell_type": "markdown",
   "metadata": {},
   "source": [
    "## Convert them to Pandas\n",
    "This method take a list of file in argument, and process them all in one Pandas Dataframe."
   ]
  },
  {
   "cell_type": "code",
   "execution_count": null,
   "metadata": {},
   "outputs": [],
   "source": [
    "#export\n",
    "def get_dataframe(nc4_list):\n",
    "    columns=['flag','sounding_id', 'latitude', 'longitude', 'xco2', 'xco2_uncert', 'orbit', 'windspeed_u', 'windspeed_v',\n",
    "    'surface_pressure_apriori', 'surface_pressure', 'altitude', 'land_water_indicator', 'land_fraction']\n",
    "    month_data = np.empty((0,len(columns)))\n",
    "    # Loop over the files\n",
    "    for one_file in tqdm(nc4_list):\n",
    "        np_table = get_np_table(one_file)\n",
    "        month_data = np.concatenate((month_data, np_table), axis=0)\n",
    "    if(month_data.size == 0):\n",
    "        return pd.DataFrame(columns=columns)\n",
    "    \n",
    "    df = pd.DataFrame(month_data, columns=columns)\n",
    "    # using dictionary to convert specific columns (https://www.geeksforgeeks.org/change-data-type-for-one-or-more-columns-in-pandas-dataframe/)\n",
    "    convert_dict = {'sounding_id': int, \n",
    "                    'orbit': int\n",
    "                } \n",
    "    df = df.astype(convert_dict) \n",
    "    # Remove bad quality\n",
    "    df=df[df['flag']==0]\n",
    "    # Remove flag\n",
    "    df.drop(['flag'], axis=1, inplace=True)\n",
    "    return df"
   ]
  },
  {
   "cell_type": "code",
   "execution_count": null,
   "metadata": {},
   "outputs": [
    {
     "name": "stderr",
     "output_type": "stream",
     "text": [
      "100%|██████████| 1/1 [00:00<00:00, 13.03it/s]\n"
     ]
    },
    {
     "data": {
      "text/html": [
       "<div>\n",
       "<style scoped>\n",
       "    .dataframe tbody tr th:only-of-type {\n",
       "        vertical-align: middle;\n",
       "    }\n",
       "\n",
       "    .dataframe tbody tr th {\n",
       "        vertical-align: top;\n",
       "    }\n",
       "\n",
       "    .dataframe thead th {\n",
       "        text-align: right;\n",
       "    }\n",
       "</style>\n",
       "<table border=\"1\" class=\"dataframe\">\n",
       "  <thead>\n",
       "    <tr style=\"text-align: right;\">\n",
       "      <th></th>\n",
       "      <th>sounding_id</th>\n",
       "      <th>latitude</th>\n",
       "      <th>longitude</th>\n",
       "      <th>xco2</th>\n",
       "      <th>xco2_uncert</th>\n",
       "      <th>orbit</th>\n",
       "      <th>windspeed_u</th>\n",
       "      <th>windspeed_v</th>\n",
       "      <th>surface_pressure_apriori</th>\n",
       "      <th>surface_pressure</th>\n",
       "      <th>altitude</th>\n",
       "      <th>land_water_indicator</th>\n",
       "      <th>land_fraction</th>\n",
       "    </tr>\n",
       "  </thead>\n",
       "  <tbody>\n",
       "    <tr>\n",
       "      <th>7</th>\n",
       "      <td>2020040700492638</td>\n",
       "      <td>-42.680946</td>\n",
       "      <td>-163.926727</td>\n",
       "      <td>409.077057</td>\n",
       "      <td>0.494898</td>\n",
       "      <td>30665</td>\n",
       "      <td>-8.192998</td>\n",
       "      <td>-1.161757</td>\n",
       "      <td>1005.479065</td>\n",
       "      <td>996.547852</td>\n",
       "      <td>0.0</td>\n",
       "      <td>1.0</td>\n",
       "      <td>0.0</td>\n",
       "    </tr>\n",
       "    <tr>\n",
       "      <th>13</th>\n",
       "      <td>2020040700492703</td>\n",
       "      <td>-42.659702</td>\n",
       "      <td>-163.818771</td>\n",
       "      <td>409.052002</td>\n",
       "      <td>0.489938</td>\n",
       "      <td>30665</td>\n",
       "      <td>-7.951118</td>\n",
       "      <td>-1.333183</td>\n",
       "      <td>1005.495911</td>\n",
       "      <td>996.656250</td>\n",
       "      <td>0.0</td>\n",
       "      <td>1.0</td>\n",
       "      <td>0.0</td>\n",
       "    </tr>\n",
       "    <tr>\n",
       "      <th>16</th>\n",
       "      <td>2020040700492707</td>\n",
       "      <td>-42.648354</td>\n",
       "      <td>-163.912247</td>\n",
       "      <td>408.720642</td>\n",
       "      <td>0.471686</td>\n",
       "      <td>30665</td>\n",
       "      <td>-8.057251</td>\n",
       "      <td>-1.286553</td>\n",
       "      <td>1005.430115</td>\n",
       "      <td>997.372009</td>\n",
       "      <td>0.0</td>\n",
       "      <td>1.0</td>\n",
       "      <td>0.0</td>\n",
       "    </tr>\n",
       "  </tbody>\n",
       "</table>\n",
       "</div>"
      ],
      "text/plain": [
       "         sounding_id   latitude   longitude        xco2  xco2_uncert  orbit  \\\n",
       "7   2020040700492638 -42.680946 -163.926727  409.077057     0.494898  30665   \n",
       "13  2020040700492703 -42.659702 -163.818771  409.052002     0.489938  30665   \n",
       "16  2020040700492707 -42.648354 -163.912247  408.720642     0.471686  30665   \n",
       "\n",
       "    windspeed_u  windspeed_v  surface_pressure_apriori  surface_pressure  \\\n",
       "7     -8.192998    -1.161757               1005.479065        996.547852   \n",
       "13    -7.951118    -1.333183               1005.495911        996.656250   \n",
       "16    -8.057251    -1.286553               1005.430115        997.372009   \n",
       "\n",
       "    altitude  land_water_indicator  land_fraction  \n",
       "7        0.0                   1.0            0.0  \n",
       "13       0.0                   1.0            0.0  \n",
       "16       0.0                   1.0            0.0  "
      ]
     },
     "execution_count": null,
     "metadata": {},
     "output_type": "execute_result"
    }
   ],
   "source": [
    "df = get_dataframe([last_nc4])\n",
    "df.head(3)"
   ]
  },
  {
   "cell_type": "markdown",
   "metadata": {},
   "source": [
    "## Do everything with two line of code"
   ]
  },
  {
   "cell_type": "code",
   "execution_count": null,
   "metadata": {},
   "outputs": [],
   "source": [
    "# export\n",
    "def get_pattern_yearmonth():\n",
    "    '''\n",
    "    Generate a list of every YYMM from 2014 to 2020\n",
    "    '''\n",
    "    years_months = []\n",
    "    for year in range(14, 20+1):\n",
    "        for month in range(1,12+1):\n",
    "            years_months.append(str(year)+str(month).zfill(2))\n",
    "    return years_months\n",
    "\n",
    "def process_files(input_dir, output_dir, patterns):\n",
    "    '''\n",
    "    Process all NC4 file corresponding to the patterns list.\n",
    "    '''\n",
    "    for pattern in patterns:\n",
    "        print('Loading ', pattern)\n",
    "        # Get the file list in directory\n",
    "        nc4_list = get_file_list(input_dir, pattern='*'+pattern+\"*.nc4\")\n",
    "        df = get_dataframe(nc4_list)\n",
    "        print('Saving to disk...')\n",
    "        df.to_csv(output_dir + 'oco2_'+pattern+'.csv', sep=';', index=False)\n",
    "        del df"
   ]
  },
  {
   "cell_type": "code",
   "execution_count": null,
   "metadata": {},
   "outputs": [
    {
     "name": "stderr",
     "output_type": "stream",
     "text": [
      "  0%|          | 0/21 [00:00<?, ?it/s]"
     ]
    },
    {
     "name": "stdout",
     "output_type": "stream",
     "text": [
      "['1401', '1402', '1403', '1404', '1405', '1406', '1407', '1408', '1409', '1410', '1411', '1412', '1501', '1502', '1503', '1504', '1505', '1506', '1507', '1508', '1509', '1510', '1511', '1512', '1601', '1602', '1603', '1604', '1605', '1606', '1607', '1608', '1609', '1610', '1611', '1612', '1701', '1702', '1703', '1704', '1705', '1706', '1707', '1708', '1709', '1710', '1711', '1712', '1801', '1802', '1803', '1804', '1805', '1806', '1807', '1808', '1809', '1810', '1811', '1812', '1901', '1902', '1903', '1904', '1905', '1906', '1907', '1908', '1909', '1910', '1911', '1912', '2001', '2002', '2003', '2004', '2005', '2006', '2007', '2008', '2009', '2010', '2011', '2012']\n",
      "Loading  1409\n"
     ]
    },
    {
     "name": "stderr",
     "output_type": "stream",
     "text": [
      "100%|██████████| 21/21 [00:06<00:00,  3.38it/s]\n"
     ]
    },
    {
     "name": "stdout",
     "output_type": "stream",
     "text": [
      "Saving to disk...\n"
     ]
    }
   ],
   "source": [
    "years_months = get_pattern_yearmonth()\n",
    "print(years_months)\n",
    "input_dir = r'/media/NAS-Divers/dev/datasets/OCO2/nc4-v10/'\n",
    "output_dir = r'../../../datasets/OCO2/csv-v10/'\n",
    "# Replace ['1409'] by years_months to process every files.\n",
    "process_files(input_dir, output_dir, ['1409'])"
   ]
  },
  {
   "cell_type": "code",
   "execution_count": null,
   "metadata": {},
   "outputs": [
    {
     "name": "stdout",
     "output_type": "stream",
     "text": [
      "Converted 03_25_OCO2_Data_Exploration.ipynb.\n",
      "Converted 04_01_OCO2_Work_Base.ipynb.\n",
      "Converted 04_04_OCO2_China_Peaks.ipynb.\n",
      "Converted 04_15_OCO2_Laiwu_Peak_Detection.ipynb.\n",
      "Converted CO2_emissions_Inventory_data.ipynb.\n",
      "Converted Find_Peaks_with_LSTM_autoencoders.ipynb.\n",
      "Converted Laiwu_Plume-more_data.ipynb.\n",
      "Converted Laiwu_Plume-more_data_CD_exploration_selection_peaks.ipynb.\n",
      "Converted Laiwu_Plume.ipynb.\n",
      "Converted WIP_OCO2_Capture.ipynb.\n",
      "Converted WIP_OCO2_Peaks_Wind.ipynb.\n",
      "Converted WIP_OCO2_Peaks_Wind_Visualization.ipynb.\n",
      "Converted index.ipynb.\n",
      "Converted oco2peak-datasets.ipynb.\n",
      "Converted oco2peak-find_peak.ipynb.\n",
      "Converted oco2peak-map.ipynb.\n",
      "Converted oco2peak-nc4_convert.ipynb.\n",
      "Converted oco2peak-swift_utils.ipynb.\n",
      "Converted show_map.ipynb.\n",
      "Converted view_peak.ipynb.\n"
     ]
    }
   ],
   "source": [
    "from nbdev.export import *\n",
    "notebook2script()"
   ]
  },
  {
   "cell_type": "code",
   "execution_count": null,
   "metadata": {},
   "outputs": [],
   "source": []
  }
 ],
 "metadata": {
  "kernelspec": {
   "display_name": "Python 3",
   "language": "python",
   "name": "python3"
  }
 },
 "nbformat": 4,
 "nbformat_minor": 4
}
